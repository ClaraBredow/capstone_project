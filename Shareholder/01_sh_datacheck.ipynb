{
 "cells": [
  {
   "attachments": {},
   "cell_type": "markdown",
   "metadata": {},
   "source": [
    "Ausgangsbasis:\n",
    "\n",
    "Modellierung der Ertragsdaten mit den Wetterdaten von den eigenen Wetterstationen und OpenWeather. Die KI soll die Zusammenhänge zwischen den Objekten und Umwelten in Bezug auf\n",
    "\n",
    "Die Wetterdaten lernen.\n",
    "\n",
    "Eigene Wetterstation ist besser für Niederschlag und hat Merkmale über Bodentemperatur und Bodenfeuchte.  OpenWeather hier hast du noch weitere Standorte, die wir zur Vorhersage von anderen Umwelten\n",
    "\n",
    "Nehmen.\n",
    "\n",
    " \n",
    "\n",
    "Kannst du aus den andern Wetterdaten von OpenWeather Ergebnisse vorhersagen für die Objekte aus dem Rizomaniaprogramm, obwohl sie dort nicht standen? Für Zuckerertrag (CSY) und Zuckergehalt (SC) zum Beispiel.\n",
    "Hier habe ich Dir alle Wetterdaten von allen Standorten gegeben auch die Nematodenstandorte. Damit ihr mehr Daten habt, aber ich würde mich auch die Nicht Nematoden Standorte erstmal fokussieren.\n",
    "\n",
    " \n",
    "\n",
    "Regionen: Kannst du Regionen finden anhand von den Wetterdaten. Hier wäre eine Möglichkeit zum Beispiel Genotypen, die in Herchsheim getestet wurden, jedoch nicht in Rittershausen, dort vorhersagen zu lassen und somit mehr Aussagen für die jeweiligen Objekte zu bekommen. Hier würde ich ebenfalls die Basis von OpenWeather nehmen.\n",
    " \n",
    "\n",
    "Welches Merkmal hat von den Wetterdaten den höchsten Einfluss auf die Ertragsergebnisse?"
   ]
  },
  {
   "cell_type": "code",
   "execution_count": 1,
   "metadata": {},
   "outputs": [],
   "source": [
    "import pandas as pd\n",
    "import numpy as np\n",
    "import matplotlib as plt\n",
    "import seaborn as sns\n",
    "import missingno as msno"
   ]
  },
  {
   "cell_type": "code",
   "execution_count": 2,
   "metadata": {},
   "outputs": [],
   "source": [
    "# lat and lon for locations (according to google)\n",
    "# Emmeloord\n",
    "emlat = 52.7121\n",
    "emlon = 5.7550\n",
    "#Lelystad\n",
    "lelat =52.5185\n",
    "lelon = 5.4714\n",
    "# Rittershausen\n",
    "rilat = 50.8443\n",
    "rilon = 8.2853\n",
    "# Sommepy\n",
    "solat =49.2506\n",
    "solon =4.5571\n",
    "#  Herchsheim\n",
    "helat =49.6317\n",
    "helon =9.9446\n",
    "# Lamotte\n",
    "lalat =43.4931\n",
    "lalon =6.5360\n",
    "# Mattenkofen\n",
    "malat =48.7817\n",
    "malon =12.7361\n",
    "# Pithiviers\n",
    "pilat =48.1734\n",
    "pilon = 2.2558\n",
    "#Oberviehhausen \n",
    "oblat = 48.7078\n",
    "oblon = 12.8629\n",
    "# Vierhoefen \n",
    "vilat= 53.2656\n",
    "vilon= 10.2176\n",
    "# Bautzen\n",
    "balat= 51.1823\n",
    "balon= 14.4238\n",
    "# Stadthagen\n",
    "stlat= 52.3231\n",
    "stlon= 9.1926\n",
    "# Goderville\n",
    "golat= 49.6460\n",
    "golon= 0.3675\n",
    "# Soest\n",
    "soelat= 51.5714\n",
    "soelon= 8.1105\n",
    "# Anklam\n",
    "anlat= 53.8503\n",
    "anlon= 13.6960\n",
    "# Hamm\n",
    "halat = 51.6739\n",
    "halon = 7.8160\n"
   ]
  },
  {
   "attachments": {},
   "cell_type": "markdown",
   "metadata": {},
   "source": [
    "#### DATA"
   ]
  },
  {
   "cell_type": "code",
   "execution_count": 3,
   "metadata": {},
   "outputs": [],
   "source": [
    "df_data = pd.read_csv('data/DatenfürGina_recorded2.csv', delimiter=';', decimal=',')\n"
   ]
  },
  {
   "cell_type": "code",
   "execution_count": 4,
   "metadata": {},
   "outputs": [],
   "source": [
    "df_weatherstations = pd.read_csv('data/wetterdaten_all-stations_hourly.csv', delimiter=';', decimal=',')"
   ]
  },
  {
   "cell_type": "code",
   "execution_count": 5,
   "metadata": {},
   "outputs": [
    {
     "data": {
      "text/html": [
       "<div>\n",
       "<style scoped>\n",
       "    .dataframe tbody tr th:only-of-type {\n",
       "        vertical-align: middle;\n",
       "    }\n",
       "\n",
       "    .dataframe tbody tr th {\n",
       "        vertical-align: top;\n",
       "    }\n",
       "\n",
       "    .dataframe thead th {\n",
       "        text-align: right;\n",
       "    }\n",
       "</style>\n",
       "<table border=\"1\" class=\"dataframe\">\n",
       "  <thead>\n",
       "    <tr style=\"text-align: right;\">\n",
       "      <th></th>\n",
       "      <th>Betaine_NIR</th>\n",
       "      <th>CRY_NIR</th>\n",
       "      <th>CSY_NIR</th>\n",
       "      <th>DM_NIR</th>\n",
       "      <th>FieldBlock</th>\n",
       "      <th>FieldSubblock</th>\n",
       "      <th>Filler</th>\n",
       "      <th>Invert_NIR</th>\n",
       "      <th>LabNr</th>\n",
       "      <th>LayoutNr</th>\n",
       "      <th>...</th>\n",
       "      <th>Rep</th>\n",
       "      <th>SC_NIR</th>\n",
       "      <th>GinaSeednames!</th>\n",
       "      <th>SeriesId</th>\n",
       "      <th>TotalN_NIR</th>\n",
       "      <th>Trial</th>\n",
       "      <th>X</th>\n",
       "      <th>Y</th>\n",
       "      <th>Year</th>\n",
       "      <th>Anzahl</th>\n",
       "    </tr>\n",
       "  </thead>\n",
       "  <tbody>\n",
       "    <tr>\n",
       "      <th>count</th>\n",
       "      <td>16573.000000</td>\n",
       "      <td>16544.000000</td>\n",
       "      <td>16478.000000</td>\n",
       "      <td>16573.000000</td>\n",
       "      <td>16632.000000</td>\n",
       "      <td>16632.000000</td>\n",
       "      <td>16632.000000</td>\n",
       "      <td>16573.00000</td>\n",
       "      <td>16632.000000</td>\n",
       "      <td>16632.000000</td>\n",
       "      <td>...</td>\n",
       "      <td>16632.0</td>\n",
       "      <td>16540.000000</td>\n",
       "      <td>16632.000000</td>\n",
       "      <td>16632.000000</td>\n",
       "      <td>16573.000000</td>\n",
       "      <td>16632.000000</td>\n",
       "      <td>16632.000000</td>\n",
       "      <td>16632.000000</td>\n",
       "      <td>16632.0</td>\n",
       "      <td>16632.000000</td>\n",
       "    </tr>\n",
       "    <tr>\n",
       "      <th>mean</th>\n",
       "      <td>0.188505</td>\n",
       "      <td>66.696972</td>\n",
       "      <td>11.486592</td>\n",
       "      <td>22.754977</td>\n",
       "      <td>2.042569</td>\n",
       "      <td>6.062771</td>\n",
       "      <td>0.000782</td>\n",
       "      <td>0.18216</td>\n",
       "      <td>33.876623</td>\n",
       "      <td>66.753247</td>\n",
       "      <td>...</td>\n",
       "      <td>1.0</td>\n",
       "      <td>17.225520</td>\n",
       "      <td>678.295515</td>\n",
       "      <td>1513.240260</td>\n",
       "      <td>0.147109</td>\n",
       "      <td>27773.255051</td>\n",
       "      <td>72.966811</td>\n",
       "      <td>11.654762</td>\n",
       "      <td>2021.0</td>\n",
       "      <td>89.914322</td>\n",
       "    </tr>\n",
       "    <tr>\n",
       "      <th>std</th>\n",
       "      <td>0.060407</td>\n",
       "      <td>8.666161</td>\n",
       "      <td>1.756680</td>\n",
       "      <td>1.904322</td>\n",
       "      <td>0.824212</td>\n",
       "      <td>3.462491</td>\n",
       "      <td>0.027947</td>\n",
       "      <td>0.07939</td>\n",
       "      <td>20.845029</td>\n",
       "      <td>13.774242</td>\n",
       "      <td>...</td>\n",
       "      <td>0.0</td>\n",
       "      <td>1.608526</td>\n",
       "      <td>375.610653</td>\n",
       "      <td>6.017891</td>\n",
       "      <td>0.026915</td>\n",
       "      <td>13557.898246</td>\n",
       "      <td>43.605042</td>\n",
       "      <td>7.156596</td>\n",
       "      <td>0.0</td>\n",
       "      <td>0.707847</td>\n",
       "    </tr>\n",
       "    <tr>\n",
       "      <th>min</th>\n",
       "      <td>-0.011300</td>\n",
       "      <td>26.730000</td>\n",
       "      <td>2.994134</td>\n",
       "      <td>15.931800</td>\n",
       "      <td>1.000000</td>\n",
       "      <td>1.000000</td>\n",
       "      <td>0.000000</td>\n",
       "      <td>0.00030</td>\n",
       "      <td>1.000000</td>\n",
       "      <td>18.000000</td>\n",
       "      <td>...</td>\n",
       "      <td>1.0</td>\n",
       "      <td>11.174400</td>\n",
       "      <td>1.000000</td>\n",
       "      <td>1501.000000</td>\n",
       "      <td>0.040200</td>\n",
       "      <td>10101.000000</td>\n",
       "      <td>2.000000</td>\n",
       "      <td>1.000000</td>\n",
       "      <td>2021.0</td>\n",
       "      <td>57.000000</td>\n",
       "    </tr>\n",
       "    <tr>\n",
       "      <th>25%</th>\n",
       "      <td>0.139600</td>\n",
       "      <td>61.000000</td>\n",
       "      <td>10.308943</td>\n",
       "      <td>21.631000</td>\n",
       "      <td>1.000000</td>\n",
       "      <td>3.000000</td>\n",
       "      <td>0.000000</td>\n",
       "      <td>0.11440</td>\n",
       "      <td>16.000000</td>\n",
       "      <td>72.000000</td>\n",
       "      <td>...</td>\n",
       "      <td>1.0</td>\n",
       "      <td>16.228875</td>\n",
       "      <td>349.000000</td>\n",
       "      <td>1509.000000</td>\n",
       "      <td>0.127100</td>\n",
       "      <td>10654.000000</td>\n",
       "      <td>43.000000</td>\n",
       "      <td>6.000000</td>\n",
       "      <td>2021.0</td>\n",
       "      <td>90.000000</td>\n",
       "    </tr>\n",
       "    <tr>\n",
       "      <th>50%</th>\n",
       "      <td>0.186400</td>\n",
       "      <td>67.000000</td>\n",
       "      <td>11.542320</td>\n",
       "      <td>22.714800</td>\n",
       "      <td>2.000000</td>\n",
       "      <td>6.000000</td>\n",
       "      <td>0.000000</td>\n",
       "      <td>0.17660</td>\n",
       "      <td>32.000000</td>\n",
       "      <td>72.000000</td>\n",
       "      <td>...</td>\n",
       "      <td>1.0</td>\n",
       "      <td>17.100900</td>\n",
       "      <td>694.000000</td>\n",
       "      <td>1513.000000</td>\n",
       "      <td>0.150600</td>\n",
       "      <td>30719.000000</td>\n",
       "      <td>67.000000</td>\n",
       "      <td>11.000000</td>\n",
       "      <td>2021.0</td>\n",
       "      <td>90.000000</td>\n",
       "    </tr>\n",
       "    <tr>\n",
       "      <th>75%</th>\n",
       "      <td>0.233400</td>\n",
       "      <td>72.870000</td>\n",
       "      <td>12.755940</td>\n",
       "      <td>23.954700</td>\n",
       "      <td>2.000000</td>\n",
       "      <td>9.000000</td>\n",
       "      <td>0.000000</td>\n",
       "      <td>0.24620</td>\n",
       "      <td>52.000000</td>\n",
       "      <td>72.000000</td>\n",
       "      <td>...</td>\n",
       "      <td>1.0</td>\n",
       "      <td>18.211025</td>\n",
       "      <td>1020.000000</td>\n",
       "      <td>1518.000000</td>\n",
       "      <td>0.167200</td>\n",
       "      <td>40201.000000</td>\n",
       "      <td>97.000000</td>\n",
       "      <td>17.000000</td>\n",
       "      <td>2021.0</td>\n",
       "      <td>90.000000</td>\n",
       "    </tr>\n",
       "    <tr>\n",
       "      <th>max</th>\n",
       "      <td>0.443200</td>\n",
       "      <td>96.130000</td>\n",
       "      <td>17.003961</td>\n",
       "      <td>29.025900</td>\n",
       "      <td>4.000000</td>\n",
       "      <td>12.000000</td>\n",
       "      <td>1.000000</td>\n",
       "      <td>0.46790</td>\n",
       "      <td>72.000000</td>\n",
       "      <td>72.000000</td>\n",
       "      <td>...</td>\n",
       "      <td>1.0</td>\n",
       "      <td>22.480300</td>\n",
       "      <td>1205.000000</td>\n",
       "      <td>1525.000000</td>\n",
       "      <td>0.252000</td>\n",
       "      <td>50553.000000</td>\n",
       "      <td>203.000000</td>\n",
       "      <td>30.000000</td>\n",
       "      <td>2021.0</td>\n",
       "      <td>90.000000</td>\n",
       "    </tr>\n",
       "  </tbody>\n",
       "</table>\n",
       "<p>8 rows × 27 columns</p>\n",
       "</div>"
      ],
      "text/plain": [
       "        Betaine_NIR       CRY_NIR       CSY_NIR        DM_NIR    FieldBlock  \\\n",
       "count  16573.000000  16544.000000  16478.000000  16573.000000  16632.000000   \n",
       "mean       0.188505     66.696972     11.486592     22.754977      2.042569   \n",
       "std        0.060407      8.666161      1.756680      1.904322      0.824212   \n",
       "min       -0.011300     26.730000      2.994134     15.931800      1.000000   \n",
       "25%        0.139600     61.000000     10.308943     21.631000      1.000000   \n",
       "50%        0.186400     67.000000     11.542320     22.714800      2.000000   \n",
       "75%        0.233400     72.870000     12.755940     23.954700      2.000000   \n",
       "max        0.443200     96.130000     17.003961     29.025900      4.000000   \n",
       "\n",
       "       FieldSubblock        Filler   Invert_NIR         LabNr      LayoutNr  \\\n",
       "count   16632.000000  16632.000000  16573.00000  16632.000000  16632.000000   \n",
       "mean        6.062771      0.000782      0.18216     33.876623     66.753247   \n",
       "std         3.462491      0.027947      0.07939     20.845029     13.774242   \n",
       "min         1.000000      0.000000      0.00030      1.000000     18.000000   \n",
       "25%         3.000000      0.000000      0.11440     16.000000     72.000000   \n",
       "50%         6.000000      0.000000      0.17660     32.000000     72.000000   \n",
       "75%         9.000000      0.000000      0.24620     52.000000     72.000000   \n",
       "max        12.000000      1.000000      0.46790     72.000000     72.000000   \n",
       "\n",
       "       ...      Rep        SC_NIR  GinaSeednames!      SeriesId    TotalN_NIR  \\\n",
       "count  ...  16632.0  16540.000000    16632.000000  16632.000000  16573.000000   \n",
       "mean   ...      1.0     17.225520      678.295515   1513.240260      0.147109   \n",
       "std    ...      0.0      1.608526      375.610653      6.017891      0.026915   \n",
       "min    ...      1.0     11.174400        1.000000   1501.000000      0.040200   \n",
       "25%    ...      1.0     16.228875      349.000000   1509.000000      0.127100   \n",
       "50%    ...      1.0     17.100900      694.000000   1513.000000      0.150600   \n",
       "75%    ...      1.0     18.211025     1020.000000   1518.000000      0.167200   \n",
       "max    ...      1.0     22.480300     1205.000000   1525.000000      0.252000   \n",
       "\n",
       "              Trial             X             Y     Year        Anzahl  \n",
       "count  16632.000000  16632.000000  16632.000000  16632.0  16632.000000  \n",
       "mean   27773.255051     72.966811     11.654762   2021.0     89.914322  \n",
       "std    13557.898246     43.605042      7.156596      0.0      0.707847  \n",
       "min    10101.000000      2.000000      1.000000   2021.0     57.000000  \n",
       "25%    10654.000000     43.000000      6.000000   2021.0     90.000000  \n",
       "50%    30719.000000     67.000000     11.000000   2021.0     90.000000  \n",
       "75%    40201.000000     97.000000     17.000000   2021.0     90.000000  \n",
       "max    50553.000000    203.000000     30.000000   2021.0     90.000000  \n",
       "\n",
       "[8 rows x 27 columns]"
      ]
     },
     "execution_count": 5,
     "metadata": {},
     "output_type": "execute_result"
    }
   ],
   "source": [
    "df_data.describe()"
   ]
  },
  {
   "cell_type": "code",
   "execution_count": 6,
   "metadata": {},
   "outputs": [
    {
     "data": {
      "text/html": [
       "<div>\n",
       "<style scoped>\n",
       "    .dataframe tbody tr th:only-of-type {\n",
       "        vertical-align: middle;\n",
       "    }\n",
       "\n",
       "    .dataframe tbody tr th {\n",
       "        vertical-align: top;\n",
       "    }\n",
       "\n",
       "    .dataframe thead th {\n",
       "        text-align: right;\n",
       "    }\n",
       "</style>\n",
       "<table border=\"1\" class=\"dataframe\">\n",
       "  <thead>\n",
       "    <tr style=\"text-align: right;\">\n",
       "      <th></th>\n",
       "      <th>Tag</th>\n",
       "      <th>Monat</th>\n",
       "      <th>Jahr</th>\n",
       "      <th>Lufttemperatur [°C]avg</th>\n",
       "      <th>Lufttemperatur [°C]max</th>\n",
       "      <th>Lufttemperatur [°C]min</th>\n",
       "      <th>Taupunkt [°C] avg</th>\n",
       "      <th>Taupunkt [°C] min</th>\n",
       "      <th>Solarstrahlung [W/m2]</th>\n",
       "      <th>Sättigungsdampfdruckdefizit [kPa] avg</th>\n",
       "      <th>...</th>\n",
       "      <th>Bodentemperatur 5 [°C] min</th>\n",
       "      <th>Bodentemperatur 6 [°C] avg</th>\n",
       "      <th>Bodentemperatur 6 [°C] max</th>\n",
       "      <th>Bodentemperatur 6 [°C] min</th>\n",
       "      <th>Solarpanel [mV]</th>\n",
       "      <th>Batterie [mV]</th>\n",
       "      <th>DeltaT [°C] avg</th>\n",
       "      <th>DeltaT [°C] max</th>\n",
       "      <th>DeltaT [°C]min</th>\n",
       "      <th>ET0 [mm]</th>\n",
       "    </tr>\n",
       "  </thead>\n",
       "  <tbody>\n",
       "    <tr>\n",
       "      <th>count</th>\n",
       "      <td>53683.000000</td>\n",
       "      <td>53683.000000</td>\n",
       "      <td>53683.0</td>\n",
       "      <td>50554.000000</td>\n",
       "      <td>50554.000000</td>\n",
       "      <td>50554.000000</td>\n",
       "      <td>50554.000000</td>\n",
       "      <td>50554.00000</td>\n",
       "      <td>53682.000000</td>\n",
       "      <td>50554.000000</td>\n",
       "      <td>...</td>\n",
       "      <td>45558.000000</td>\n",
       "      <td>45558.000000</td>\n",
       "      <td>45558.000000</td>\n",
       "      <td>45558.000000</td>\n",
       "      <td>53682.000000</td>\n",
       "      <td>53682.000000</td>\n",
       "      <td>50554.000000</td>\n",
       "      <td>50554.000000</td>\n",
       "      <td>50554.000000</td>\n",
       "      <td>2108.000000</td>\n",
       "    </tr>\n",
       "    <tr>\n",
       "      <th>mean</th>\n",
       "      <td>15.822402</td>\n",
       "      <td>6.937727</td>\n",
       "      <td>2021.0</td>\n",
       "      <td>14.975712</td>\n",
       "      <td>15.575152</td>\n",
       "      <td>14.396649</td>\n",
       "      <td>11.757776</td>\n",
       "      <td>11.18809</td>\n",
       "      <td>196.048098</td>\n",
       "      <td>0.344510</td>\n",
       "      <td>...</td>\n",
       "      <td>14.426459</td>\n",
       "      <td>14.252562</td>\n",
       "      <td>14.308914</td>\n",
       "      <td>14.214162</td>\n",
       "      <td>4846.207258</td>\n",
       "      <td>6637.498864</td>\n",
       "      <td>1.769039</td>\n",
       "      <td>2.140721</td>\n",
       "      <td>1.440361</td>\n",
       "      <td>2.858966</td>\n",
       "    </tr>\n",
       "    <tr>\n",
       "      <th>std</th>\n",
       "      <td>8.876526</td>\n",
       "      <td>1.730226</td>\n",
       "      <td>0.0</td>\n",
       "      <td>5.725620</td>\n",
       "      <td>5.815224</td>\n",
       "      <td>5.661539</td>\n",
       "      <td>5.285925</td>\n",
       "      <td>5.31094</td>\n",
       "      <td>268.710272</td>\n",
       "      <td>0.469299</td>\n",
       "      <td>...</td>\n",
       "      <td>3.372793</td>\n",
       "      <td>3.251912</td>\n",
       "      <td>3.248290</td>\n",
       "      <td>3.253111</td>\n",
       "      <td>4426.114156</td>\n",
       "      <td>135.605277</td>\n",
       "      <td>2.214843</td>\n",
       "      <td>2.446342</td>\n",
       "      <td>2.007821</td>\n",
       "      <td>1.357540</td>\n",
       "    </tr>\n",
       "    <tr>\n",
       "      <th>min</th>\n",
       "      <td>1.000000</td>\n",
       "      <td>3.000000</td>\n",
       "      <td>2021.0</td>\n",
       "      <td>-4.020000</td>\n",
       "      <td>-3.620000</td>\n",
       "      <td>-4.330000</td>\n",
       "      <td>-9.700000</td>\n",
       "      <td>-10.60000</td>\n",
       "      <td>0.000000</td>\n",
       "      <td>0.000000</td>\n",
       "      <td>...</td>\n",
       "      <td>4.800000</td>\n",
       "      <td>5.100000</td>\n",
       "      <td>5.200000</td>\n",
       "      <td>5.000000</td>\n",
       "      <td>0.000000</td>\n",
       "      <td>6217.000000</td>\n",
       "      <td>-1.000000</td>\n",
       "      <td>-1.000000</td>\n",
       "      <td>-1.000000</td>\n",
       "      <td>0.100000</td>\n",
       "    </tr>\n",
       "    <tr>\n",
       "      <th>25%</th>\n",
       "      <td>8.000000</td>\n",
       "      <td>5.000000</td>\n",
       "      <td>2021.0</td>\n",
       "      <td>11.170000</td>\n",
       "      <td>11.710000</td>\n",
       "      <td>10.610000</td>\n",
       "      <td>8.600000</td>\n",
       "      <td>8.10000</td>\n",
       "      <td>0.000000</td>\n",
       "      <td>0.000000</td>\n",
       "      <td>...</td>\n",
       "      <td>11.900000</td>\n",
       "      <td>11.700000</td>\n",
       "      <td>11.700000</td>\n",
       "      <td>11.600000</td>\n",
       "      <td>0.000000</td>\n",
       "      <td>6514.000000</td>\n",
       "      <td>0.000000</td>\n",
       "      <td>0.000000</td>\n",
       "      <td>0.000000</td>\n",
       "      <td>1.900000</td>\n",
       "    </tr>\n",
       "    <tr>\n",
       "      <th>50%</th>\n",
       "      <td>16.000000</td>\n",
       "      <td>7.000000</td>\n",
       "      <td>2021.0</td>\n",
       "      <td>15.010000</td>\n",
       "      <td>15.500000</td>\n",
       "      <td>14.530000</td>\n",
       "      <td>12.900000</td>\n",
       "      <td>12.30000</td>\n",
       "      <td>49.000000</td>\n",
       "      <td>0.150000</td>\n",
       "      <td>...</td>\n",
       "      <td>15.400000</td>\n",
       "      <td>15.300000</td>\n",
       "      <td>15.400000</td>\n",
       "      <td>15.300000</td>\n",
       "      <td>6005.000000</td>\n",
       "      <td>6590.000000</td>\n",
       "      <td>1.000000</td>\n",
       "      <td>1.000000</td>\n",
       "      <td>1.000000</td>\n",
       "      <td>2.700000</td>\n",
       "    </tr>\n",
       "    <tr>\n",
       "      <th>75%</th>\n",
       "      <td>24.000000</td>\n",
       "      <td>8.000000</td>\n",
       "      <td>2021.0</td>\n",
       "      <td>18.720000</td>\n",
       "      <td>19.460000</td>\n",
       "      <td>18.070000</td>\n",
       "      <td>15.700000</td>\n",
       "      <td>15.10000</td>\n",
       "      <td>331.000000</td>\n",
       "      <td>0.510000</td>\n",
       "      <td>...</td>\n",
       "      <td>16.900000</td>\n",
       "      <td>16.700000</td>\n",
       "      <td>16.700000</td>\n",
       "      <td>16.600000</td>\n",
       "      <td>9792.000000</td>\n",
       "      <td>6770.000000</td>\n",
       "      <td>3.000000</td>\n",
       "      <td>4.000000</td>\n",
       "      <td>2.000000</td>\n",
       "      <td>3.700000</td>\n",
       "    </tr>\n",
       "    <tr>\n",
       "      <th>max</th>\n",
       "      <td>31.000000</td>\n",
       "      <td>11.000000</td>\n",
       "      <td>2021.0</td>\n",
       "      <td>34.880000</td>\n",
       "      <td>35.330000</td>\n",
       "      <td>34.430000</td>\n",
       "      <td>25.400000</td>\n",
       "      <td>24.70000</td>\n",
       "      <td>1406.000000</td>\n",
       "      <td>3.900000</td>\n",
       "      <td>...</td>\n",
       "      <td>22.500000</td>\n",
       "      <td>21.400000</td>\n",
       "      <td>21.500000</td>\n",
       "      <td>21.400000</td>\n",
       "      <td>10511.000000</td>\n",
       "      <td>6881.000000</td>\n",
       "      <td>14.000000</td>\n",
       "      <td>14.000000</td>\n",
       "      <td>13.000000</td>\n",
       "      <td>8.300000</td>\n",
       "    </tr>\n",
       "  </tbody>\n",
       "</table>\n",
       "<p>8 rows × 56 columns</p>\n",
       "</div>"
      ],
      "text/plain": [
       "                Tag         Monat     Jahr  Lufttemperatur [°C]avg  \\\n",
       "count  53683.000000  53683.000000  53683.0            50554.000000   \n",
       "mean      15.822402      6.937727   2021.0               14.975712   \n",
       "std        8.876526      1.730226      0.0                5.725620   \n",
       "min        1.000000      3.000000   2021.0               -4.020000   \n",
       "25%        8.000000      5.000000   2021.0               11.170000   \n",
       "50%       16.000000      7.000000   2021.0               15.010000   \n",
       "75%       24.000000      8.000000   2021.0               18.720000   \n",
       "max       31.000000     11.000000   2021.0               34.880000   \n",
       "\n",
       "       Lufttemperatur [°C]max  Lufttemperatur [°C]min  Taupunkt [°C] avg  \\\n",
       "count            50554.000000            50554.000000       50554.000000   \n",
       "mean                15.575152               14.396649          11.757776   \n",
       "std                  5.815224                5.661539           5.285925   \n",
       "min                 -3.620000               -4.330000          -9.700000   \n",
       "25%                 11.710000               10.610000           8.600000   \n",
       "50%                 15.500000               14.530000          12.900000   \n",
       "75%                 19.460000               18.070000          15.700000   \n",
       "max                 35.330000               34.430000          25.400000   \n",
       "\n",
       "       Taupunkt [°C] min  Solarstrahlung [W/m2]  \\\n",
       "count        50554.00000           53682.000000   \n",
       "mean            11.18809             196.048098   \n",
       "std              5.31094             268.710272   \n",
       "min            -10.60000               0.000000   \n",
       "25%              8.10000               0.000000   \n",
       "50%             12.30000              49.000000   \n",
       "75%             15.10000             331.000000   \n",
       "max             24.70000            1406.000000   \n",
       "\n",
       "       Sättigungsdampfdruckdefizit [kPa] avg   ...  \\\n",
       "count                            50554.000000  ...   \n",
       "mean                                 0.344510  ...   \n",
       "std                                  0.469299  ...   \n",
       "min                                  0.000000  ...   \n",
       "25%                                  0.000000  ...   \n",
       "50%                                  0.150000  ...   \n",
       "75%                                  0.510000  ...   \n",
       "max                                  3.900000  ...   \n",
       "\n",
       "       Bodentemperatur 5 [°C] min  Bodentemperatur 6 [°C] avg  \\\n",
       "count                45558.000000                45558.000000   \n",
       "mean                    14.426459                   14.252562   \n",
       "std                      3.372793                    3.251912   \n",
       "min                      4.800000                    5.100000   \n",
       "25%                     11.900000                   11.700000   \n",
       "50%                     15.400000                   15.300000   \n",
       "75%                     16.900000                   16.700000   \n",
       "max                     22.500000                   21.400000   \n",
       "\n",
       "       Bodentemperatur 6 [°C] max  Bodentemperatur 6 [°C] min  \\\n",
       "count                45558.000000                45558.000000   \n",
       "mean                    14.308914                   14.214162   \n",
       "std                      3.248290                    3.253111   \n",
       "min                      5.200000                    5.000000   \n",
       "25%                     11.700000                   11.600000   \n",
       "50%                     15.400000                   15.300000   \n",
       "75%                     16.700000                   16.600000   \n",
       "max                     21.500000                   21.400000   \n",
       "\n",
       "       Solarpanel [mV]  Batterie [mV]  DeltaT [°C] avg  DeltaT [°C] max  \\\n",
       "count     53682.000000   53682.000000     50554.000000     50554.000000   \n",
       "mean       4846.207258    6637.498864         1.769039         2.140721   \n",
       "std        4426.114156     135.605277         2.214843         2.446342   \n",
       "min           0.000000    6217.000000        -1.000000        -1.000000   \n",
       "25%           0.000000    6514.000000         0.000000         0.000000   \n",
       "50%        6005.000000    6590.000000         1.000000         1.000000   \n",
       "75%        9792.000000    6770.000000         3.000000         4.000000   \n",
       "max       10511.000000    6881.000000        14.000000        14.000000   \n",
       "\n",
       "       DeltaT [°C]min     ET0 [mm]  \n",
       "count    50554.000000  2108.000000  \n",
       "mean         1.440361     2.858966  \n",
       "std          2.007821     1.357540  \n",
       "min         -1.000000     0.100000  \n",
       "25%          0.000000     1.900000  \n",
       "50%          1.000000     2.700000  \n",
       "75%          2.000000     3.700000  \n",
       "max         13.000000     8.300000  \n",
       "\n",
       "[8 rows x 56 columns]"
      ]
     },
     "execution_count": 6,
     "metadata": {},
     "output_type": "execute_result"
    }
   ],
   "source": [
    "df_weatherstations.describe()"
   ]
  },
  {
   "cell_type": "code",
   "execution_count": 7,
   "metadata": {},
   "outputs": [
    {
     "data": {
      "text/plain": [
       "<AxesSubplot:>"
      ]
     },
     "execution_count": 7,
     "metadata": {},
     "output_type": "execute_result"
    },
    {
     "data": {
      "image/png": "[encoded data removed]",
      "text/plain": [
       "<Figure size 2500x1000 with 2 Axes>"
      ]
     },
     "metadata": {},
     "output_type": "display_data"
    }
   ],
   "source": [
    "msno.matrix(df_data)"
   ]
  },
  {
   "cell_type": "code",
   "execution_count": 72,
   "metadata": {},
   "outputs": [
    {
     "data": {
      "text/plain": [
       "1205"
      ]
     },
     "execution_count": 72,
     "metadata": {},
     "output_type": "execute_result"
    }
   ],
   "source": [
    "df_data.seednames_coded.nunique()"
   ]
  },
  {
   "cell_type": "code",
   "execution_count": 8,
   "metadata": {},
   "outputs": [
    {
     "data": {
      "text/plain": [
       "<AxesSubplot:>"
      ]
     },
     "execution_count": 8,
     "metadata": {},
     "output_type": "execute_result"
    },
    {
     "data": {
      "image/png": "[encoded data removed]",
      "text/plain": [
       "<Figure size 2500x1000 with 2 Axes>"
      ]
     },
     "metadata": {},
     "output_type": "display_data"
    }
   ],
   "source": [
    "msno.matrix(df_weatherstations)"
   ]
  },
  {
   "cell_type": "code",
   "execution_count": 9,
   "metadata": {},
   "outputs": [
    {
     "data": {
      "text/plain": [
       "CropID                0\n",
       "BM                    0\n",
       "Betaine_NIR          59\n",
       "BreedId               0\n",
       "CRY_NIR              88\n",
       "CSY_NIR             154\n",
       "DM_NIR               59\n",
       "FieldBlock            0\n",
       "FieldId               0\n",
       "Region                0\n",
       "FieldSubblock         0\n",
       "Filler                0\n",
       "Invert_NIR           59\n",
       "LabNr                 0\n",
       "LayoutNr              0\n",
       "LocationId            0\n",
       "MARK_NIR             59\n",
       "GinaMS!               0\n",
       "Obj                   0\n",
       "GinaOtype!            0\n",
       "PlotId                0\n",
       "PlotIndex             0\n",
       "GinaPoll!             0\n",
       "Rep                   0\n",
       "SC_NIR               92\n",
       "GinaSeednames!        0\n",
       "SeriesId              0\n",
       "SpectraName           7\n",
       "StandardInd       14736\n",
       "TotalN_NIR           59\n",
       "Trial                 0\n",
       "X                     0\n",
       "Y                     0\n",
       "Year                  0\n",
       "Anzahl                0\n",
       "dtype: int64"
      ]
     },
     "execution_count": 9,
     "metadata": {},
     "output_type": "execute_result"
    }
   ],
   "source": [
    "df_data.isnull().sum()"
   ]
  },
  {
   "cell_type": "code",
   "execution_count": 10,
   "metadata": {},
   "outputs": [
    {
     "name": "stdout",
     "output_type": "stream",
     "text": [
      "<class 'pandas.core.frame.DataFrame'>\n",
      "RangeIndex: 16632 entries, 0 to 16631\n",
      "Data columns (total 35 columns):\n",
      " #   Column          Non-Null Count  Dtype  \n",
      "---  ------          --------------  -----  \n",
      " 0   CropID          16632 non-null  object \n",
      " 1   BM              16632 non-null  object \n",
      " 2   Betaine_NIR     16573 non-null  float64\n",
      " 3   BreedId         16632 non-null  object \n",
      " 4   CRY_NIR         16544 non-null  float64\n",
      " 5   CSY_NIR         16478 non-null  float64\n",
      " 6   DM_NIR          16573 non-null  float64\n",
      " 7   FieldBlock      16632 non-null  int64  \n",
      " 8   FieldId         16632 non-null  object \n",
      " 9   Region          16632 non-null  object \n",
      " 10  FieldSubblock   16632 non-null  int64  \n",
      " 11  Filler          16632 non-null  int64  \n",
      " 12  Invert_NIR      16573 non-null  float64\n",
      " 13  LabNr           16632 non-null  int64  \n",
      " 14  LayoutNr        16632 non-null  int64  \n",
      " 15  LocationId      16632 non-null  object \n",
      " 16  MARK_NIR        16573 non-null  float64\n",
      " 17  GinaMS!         16632 non-null  int64  \n",
      " 18  Obj             16632 non-null  int64  \n",
      " 19  GinaOtype!      16632 non-null  int64  \n",
      " 20  PlotId          16632 non-null  int64  \n",
      " 21  PlotIndex       16632 non-null  int64  \n",
      " 22  GinaPoll!       16632 non-null  int64  \n",
      " 23  Rep             16632 non-null  int64  \n",
      " 24  SC_NIR          16540 non-null  float64\n",
      " 25  GinaSeednames!  16632 non-null  int64  \n",
      " 26  SeriesId        16632 non-null  int64  \n",
      " 27  SpectraName     16625 non-null  object \n",
      " 28  StandardInd     1896 non-null   object \n",
      " 29  TotalN_NIR      16573 non-null  float64\n",
      " 30  Trial           16632 non-null  int64  \n",
      " 31  X               16632 non-null  int64  \n",
      " 32  Y               16632 non-null  int64  \n",
      " 33  Year            16632 non-null  int64  \n",
      " 34  Anzahl          16632 non-null  int64  \n",
      "dtypes: float64(8), int64(19), object(8)\n",
      "memory usage: 4.4+ MB\n"
     ]
    }
   ],
   "source": [
    "df_data.info()"
   ]
  },
  {
   "cell_type": "code",
   "execution_count": 11,
   "metadata": {},
   "outputs": [
    {
     "data": {
      "text/plain": [
       "CropID                1\n",
       "BM                    5\n",
       "Betaine_NIR        2662\n",
       "BreedId               1\n",
       "CRY_NIR             871\n",
       "CSY_NIR           16468\n",
       "DM_NIR            14644\n",
       "FieldBlock            4\n",
       "FieldId              21\n",
       "Region               10\n",
       "FieldSubblock        12\n",
       "Filler                2\n",
       "Invert_NIR         3237\n",
       "LabNr                72\n",
       "LayoutNr              4\n",
       "LocationId           19\n",
       "MARK_NIR          11334\n",
       "GinaMS!               7\n",
       "Obj                  72\n",
       "GinaOtype!            8\n",
       "PlotId               72\n",
       "PlotIndex         16632\n",
       "GinaPoll!          1192\n",
       "Rep                   1\n",
       "SC_NIR            14270\n",
       "GinaSeednames!     1205\n",
       "SeriesId             24\n",
       "SpectraName       16625\n",
       "StandardInd           1\n",
       "TotalN_NIR         1408\n",
       "Trial               273\n",
       "X                   199\n",
       "Y                    30\n",
       "Year                  1\n",
       "Anzahl               23\n",
       "dtype: int64"
      ]
     },
     "execution_count": 11,
     "metadata": {},
     "output_type": "execute_result"
    }
   ],
   "source": [
    "df_data.nunique()"
   ]
  },
  {
   "cell_type": "code",
   "execution_count": 12,
   "metadata": {},
   "outputs": [
    {
     "data": {
      "text/plain": [
       "(16632, 30)"
      ]
     },
     "execution_count": 12,
     "metadata": {},
     "output_type": "execute_result"
    }
   ],
   "source": [
    "# drop all columns with useless information\n",
    "df_data.drop(['CropID', 'BreedId', 'Filler', 'Rep', 'Year'], axis=1, inplace=True)\n",
    "df_data.shape"
   ]
  },
  {
   "cell_type": "code",
   "execution_count": 13,
   "metadata": {},
   "outputs": [
    {
     "data": {
      "text/plain": [
       "<bound method Series.unique of 0        B4\n",
       "1        B4\n",
       "2        B4\n",
       "3        B4\n",
       "4        B4\n",
       "         ..\n",
       "16627    B1\n",
       "16628    B1\n",
       "16629    B1\n",
       "16630    B1\n",
       "16631    B1\n",
       "Name: BM, Length: 16632, dtype: object>"
      ]
     },
     "execution_count": 13,
     "metadata": {},
     "output_type": "execute_result"
    }
   ],
   "source": [
    "df_data['BM'].unique"
   ]
  },
  {
   "cell_type": "code",
   "execution_count": 14,
   "metadata": {},
   "outputs": [
    {
     "data": {
      "text/plain": [
       "<bound method Series.unique of 0        1\n",
       "1        1\n",
       "2        1\n",
       "3        1\n",
       "4        1\n",
       "        ..\n",
       "16627    3\n",
       "16628    3\n",
       "16629    3\n",
       "16630    3\n",
       "16631    3\n",
       "Name: FieldBlock, Length: 16632, dtype: int64>"
      ]
     },
     "execution_count": 14,
     "metadata": {},
     "output_type": "execute_result"
    }
   ],
   "source": [
    "df_data['FieldBlock'].unique"
   ]
  },
  {
   "cell_type": "code",
   "execution_count": 15,
   "metadata": {},
   "outputs": [],
   "source": [
    "df_data.columns = df_data.columns.str.lower()"
   ]
  },
  {
   "cell_type": "code",
   "execution_count": 16,
   "metadata": {},
   "outputs": [
    {
     "data": {
      "text/plain": [
       "Index(['bm', 'betaine_nir', 'cry_nir', 'csy_nir', 'dm_nir', 'fieldblock',\n",
       "       'fieldid', 'region', 'fieldsubblock', 'invert_nir', 'labnr', 'layoutnr',\n",
       "       'locationid', 'mark_nir', 'ginams!', 'obj', 'ginaotype!', 'plotid',\n",
       "       'plotindex', 'ginapoll!', 'sc_nir', 'ginaseednames!', 'seriesid',\n",
       "       'spectraname', 'standardind', 'totaln_nir', 'trial', 'x', 'y',\n",
       "       'anzahl'],\n",
       "      dtype='object')"
      ]
     },
     "execution_count": 16,
     "metadata": {},
     "output_type": "execute_result"
    }
   ],
   "source": [
    "df_data.columns"
   ]
  },
  {
   "cell_type": "code",
   "execution_count": 17,
   "metadata": {},
   "outputs": [
    {
     "data": {
      "text/plain": [
       "Index(['bm', 'betaine_nir', 'cry_nir', 'csy_nir', 'dm_nir', 'fieldblock',\n",
       "       'fieldid', 'region', 'fieldsubblock', 'invert_nir', 'labnr', 'layoutnr',\n",
       "       'locationid', 'mark_nir', 'ms_comp', 'obj', 'otype_comp', 'plotid',\n",
       "       'plotindex', 'pollinator_comp', 'sc_nir', 'seednames_coded', 'seriesid',\n",
       "       'spectraname', 'standardind', 'totaln_nir', 'trial', 'x', 'y',\n",
       "       'anzahl'],\n",
       "      dtype='object')"
      ]
     },
     "execution_count": 17,
     "metadata": {},
     "output_type": "execute_result"
    }
   ],
   "source": [
    "df_data.rename(columns={'ginams!': 'ms_comp', 'ginaotype!': 'otype_comp', 'ginapoll!': 'pollinator_comp', 'ginaseednames!': 'seednames_coded'}, inplace=True)\n",
    "df_data.columns"
   ]
  },
  {
   "cell_type": "code",
   "execution_count": 18,
   "metadata": {},
   "outputs": [
    {
     "data": {
      "text/plain": [
       "array([5.3553, 5.2233, 5.3398, ..., 6.858 , 7.0797, 6.4874])"
      ]
     },
     "execution_count": 18,
     "metadata": {},
     "output_type": "execute_result"
    }
   ],
   "source": [
    "df_data.mark_nir.unique()"
   ]
  },
  {
   "cell_type": "code",
   "execution_count": 19,
   "metadata": {},
   "outputs": [
    {
     "data": {
      "text/plain": [
       "array([ 308, 1191,  313, ...,   83,   25,   15])"
      ]
     },
     "execution_count": 19,
     "metadata": {},
     "output_type": "execute_result"
    }
   ],
   "source": [
    "df_data.pollinator_comp.unique()"
   ]
  },
  {
   "cell_type": "code",
   "execution_count": 20,
   "metadata": {},
   "outputs": [
    {
     "data": {
      "text/plain": [
       "array(['Emmeloord1', 'Lelystad1', 'Rittershausen1', 'Sommepy1',\n",
       "       'Herchsheim1', 'Herchsheim_2', 'Lamotte1', 'Mattenkofen1',\n",
       "       'Pithiviers1', 'Pithiviers2', 'Oberviehhausen1', 'Vierhoefen1',\n",
       "       'Bautzen1', 'Stadthagen1', 'Stadthagen2', 'Goderville1', 'Soest1',\n",
       "       'Anklam1', 'Anklam2', 'Hamm1', 'Lamotte2'], dtype=object)"
      ]
     },
     "execution_count": 20,
     "metadata": {},
     "output_type": "execute_result"
    }
   ],
   "source": [
    "df_data.fieldid.unique()"
   ]
  },
  {
   "cell_type": "code",
   "execution_count": 21,
   "metadata": {},
   "outputs": [
    {
     "data": {
      "text/plain": [
       "array(['Emmeloord', 'Lelystad', 'Rittershausen', 'Sommepy', 'Herchsheim',\n",
       "       'Herchsheim_2', 'Lamotte', 'Mattenkofen', 'Pithiviers',\n",
       "       'FR_External', 'Oberviehhausen', 'Vierhoefen', 'Bautzen',\n",
       "       'Stadthagen', 'Goderville', 'Soest', 'Anklam', 'DE_External',\n",
       "       'Hamm'], dtype=object)"
      ]
     },
     "execution_count": 21,
     "metadata": {},
     "output_type": "execute_result"
    }
   ],
   "source": [
    "df_data.locationid.unique()"
   ]
  },
  {
   "cell_type": "code",
   "execution_count": 22,
   "metadata": {},
   "outputs": [
    {
     "data": {
      "text/plain": [
       "Index(['Standort', 'Unnamed: 1', 'Datum/Uhrzeit', 'Tag', 'Monat', 'Jahr',\n",
       "       'Uhrzeit', 'Lufttemperatur [°C]avg', 'Lufttemperatur [°C]max',\n",
       "       'Lufttemperatur [°C]min', 'Taupunkt [°C] avg', 'Taupunkt [°C] min',\n",
       "       'Solarstrahlung [W/m2]', 'Sättigungsdampfdruckdefizit [kPa] avg ',\n",
       "       'Sättigungsdampfdruckdefizit [kPa] min',\n",
       "       'Relative Luftfeuchtigkeit [%] avg',\n",
       "       'Relative Luftfeuchtigkeit [%] max',\n",
       "       'Relative Luftfeuchtigkeit [%] min', 'Niederschlag [mm]',\n",
       "       'Blattnässe [min]', 'U-sonic wind speed [m/s] avg',\n",
       "       'U-sonic wind speed [m/s] max', 'Windspitzen [m/s]',\n",
       "       'U-sonic wind dir [deg]', 'EAG Bodenfeuchte 1 [%]',\n",
       "       'EAG Bodenfeuchte 2 [%]', 'EAG Bodenfeuchte 3 [%]',\n",
       "       'EAG Bodenfeuchte 4 [%]', 'EAG Bodenfeuchte 5 [%]',\n",
       "       'EAG Bodenfeuchte 6 [%]', 'EAG Bodensalzgehalt 1 [VIC]',\n",
       "       'EAG Bodensalzgehalt 2 [VIC]', 'EAG Bodensalzgehalt 3 [VIC]',\n",
       "       'EAG Bodensalzgehalt 4 [VIC]', 'EAG Bodensalzgehalt 5 [VIC]',\n",
       "       'EAG Bodensalzgehalt 6 [VIC]', 'Bodentemperatur 1 [°C] avg',\n",
       "       'Bodentemperatur 1 [°C] max', 'Bodentemperatur 1 [°C] min',\n",
       "       'Bodentemperatur 2 [°C] avg', 'Bodentemperatur 2 [°C] max',\n",
       "       'Bodentemperatur 2 [°C] min', 'Bodentemperatur 3 [°C] avg',\n",
       "       'Bodentemperatur 3 [°C] max', 'Bodentemperatur 3 [°C] min',\n",
       "       'Bodentemperatur 4 [°C] avg', 'Bodentemperatur 4 [°C] max',\n",
       "       'Bodentemperatur 4 [°C] min', 'Bodentemperatur 5 [°C] avg',\n",
       "       'Bodentemperatur 5 [°C] max', 'Bodentemperatur 5 [°C] min',\n",
       "       'Bodentemperatur 6 [°C] avg', 'Bodentemperatur 6 [°C] max',\n",
       "       'Bodentemperatur 6 [°C] min', 'Solarpanel [mV]', 'Batterie [mV]',\n",
       "       'DeltaT [°C] avg', 'DeltaT [°C] max', 'DeltaT [°C]min', 'ET0 [mm]'],\n",
       "      dtype='object')"
      ]
     },
     "execution_count": 22,
     "metadata": {},
     "output_type": "execute_result"
    }
   ],
   "source": [
    "df_weatherstations.columns"
   ]
  },
  {
   "cell_type": "code",
   "execution_count": 23,
   "metadata": {},
   "outputs": [
    {
     "data": {
      "text/html": [
       "<div>\n",
       "<style scoped>\n",
       "    .dataframe tbody tr th:only-of-type {\n",
       "        vertical-align: middle;\n",
       "    }\n",
       "\n",
       "    .dataframe tbody tr th {\n",
       "        vertical-align: top;\n",
       "    }\n",
       "\n",
       "    .dataframe thead th {\n",
       "        text-align: right;\n",
       "    }\n",
       "</style>\n",
       "<table border=\"1\" class=\"dataframe\">\n",
       "  <thead>\n",
       "    <tr style=\"text-align: right;\">\n",
       "      <th></th>\n",
       "      <th>Standort</th>\n",
       "      <th>Unnamed: 1</th>\n",
       "      <th>Datum/Uhrzeit</th>\n",
       "      <th>Tag</th>\n",
       "      <th>Monat</th>\n",
       "      <th>Jahr</th>\n",
       "      <th>Uhrzeit</th>\n",
       "      <th>Lufttemperatur [°C]avg</th>\n",
       "      <th>Lufttemperatur [°C]max</th>\n",
       "      <th>Lufttemperatur [°C]min</th>\n",
       "      <th>...</th>\n",
       "      <th>Bodentemperatur 5 [°C] min</th>\n",
       "      <th>Bodentemperatur 6 [°C] avg</th>\n",
       "      <th>Bodentemperatur 6 [°C] max</th>\n",
       "      <th>Bodentemperatur 6 [°C] min</th>\n",
       "      <th>Solarpanel [mV]</th>\n",
       "      <th>Batterie [mV]</th>\n",
       "      <th>DeltaT [°C] avg</th>\n",
       "      <th>DeltaT [°C] max</th>\n",
       "      <th>DeltaT [°C]min</th>\n",
       "      <th>ET0 [mm]</th>\n",
       "    </tr>\n",
       "  </thead>\n",
       "  <tbody>\n",
       "    <tr>\n",
       "      <th>0</th>\n",
       "      <td>Anklam</td>\n",
       "      <td>D</td>\n",
       "      <td>2021-04-14 17:00:00</td>\n",
       "      <td>14</td>\n",
       "      <td>4</td>\n",
       "      <td>2021</td>\n",
       "      <td>17:00</td>\n",
       "      <td>8.12</td>\n",
       "      <td>8.49</td>\n",
       "      <td>7.55</td>\n",
       "      <td>...</td>\n",
       "      <td>NaN</td>\n",
       "      <td>NaN</td>\n",
       "      <td>NaN</td>\n",
       "      <td>NaN</td>\n",
       "      <td>7069.0</td>\n",
       "      <td>6747.0</td>\n",
       "      <td>5.0</td>\n",
       "      <td>5.0</td>\n",
       "      <td>5.0</td>\n",
       "      <td>NaN</td>\n",
       "    </tr>\n",
       "    <tr>\n",
       "      <th>1</th>\n",
       "      <td>Anklam</td>\n",
       "      <td>D</td>\n",
       "      <td>2021-04-14 18:00:00</td>\n",
       "      <td>14</td>\n",
       "      <td>4</td>\n",
       "      <td>2021</td>\n",
       "      <td>18:00</td>\n",
       "      <td>7.76</td>\n",
       "      <td>8.17</td>\n",
       "      <td>7.32</td>\n",
       "      <td>...</td>\n",
       "      <td>NaN</td>\n",
       "      <td>NaN</td>\n",
       "      <td>NaN</td>\n",
       "      <td>NaN</td>\n",
       "      <td>6906.0</td>\n",
       "      <td>6639.0</td>\n",
       "      <td>5.0</td>\n",
       "      <td>5.0</td>\n",
       "      <td>4.0</td>\n",
       "      <td>NaN</td>\n",
       "    </tr>\n",
       "    <tr>\n",
       "      <th>2</th>\n",
       "      <td>Anklam</td>\n",
       "      <td>D</td>\n",
       "      <td>2021-04-14 19:00:00</td>\n",
       "      <td>14</td>\n",
       "      <td>4</td>\n",
       "      <td>2021</td>\n",
       "      <td>19:00</td>\n",
       "      <td>6.56</td>\n",
       "      <td>7.23</td>\n",
       "      <td>5.68</td>\n",
       "      <td>...</td>\n",
       "      <td>NaN</td>\n",
       "      <td>NaN</td>\n",
       "      <td>NaN</td>\n",
       "      <td>NaN</td>\n",
       "      <td>2545.0</td>\n",
       "      <td>6525.0</td>\n",
       "      <td>4.0</td>\n",
       "      <td>5.0</td>\n",
       "      <td>4.0</td>\n",
       "      <td>NaN</td>\n",
       "    </tr>\n",
       "    <tr>\n",
       "      <th>3</th>\n",
       "      <td>Anklam</td>\n",
       "      <td>D</td>\n",
       "      <td>2021-04-14 20:00:00</td>\n",
       "      <td>14</td>\n",
       "      <td>4</td>\n",
       "      <td>2021</td>\n",
       "      <td>20:00</td>\n",
       "      <td>4.02</td>\n",
       "      <td>5.34</td>\n",
       "      <td>2.69</td>\n",
       "      <td>...</td>\n",
       "      <td>NaN</td>\n",
       "      <td>NaN</td>\n",
       "      <td>NaN</td>\n",
       "      <td>NaN</td>\n",
       "      <td>0.0</td>\n",
       "      <td>6434.0</td>\n",
       "      <td>3.0</td>\n",
       "      <td>3.0</td>\n",
       "      <td>2.0</td>\n",
       "      <td>NaN</td>\n",
       "    </tr>\n",
       "    <tr>\n",
       "      <th>4</th>\n",
       "      <td>Anklam</td>\n",
       "      <td>D</td>\n",
       "      <td>2021-04-14 21:00:00</td>\n",
       "      <td>14</td>\n",
       "      <td>4</td>\n",
       "      <td>2021</td>\n",
       "      <td>21:00</td>\n",
       "      <td>2.82</td>\n",
       "      <td>3.34</td>\n",
       "      <td>2.17</td>\n",
       "      <td>...</td>\n",
       "      <td>NaN</td>\n",
       "      <td>NaN</td>\n",
       "      <td>NaN</td>\n",
       "      <td>NaN</td>\n",
       "      <td>0.0</td>\n",
       "      <td>6368.0</td>\n",
       "      <td>1.0</td>\n",
       "      <td>2.0</td>\n",
       "      <td>1.0</td>\n",
       "      <td>NaN</td>\n",
       "    </tr>\n",
       "  </tbody>\n",
       "</table>\n",
       "<p>5 rows × 60 columns</p>\n",
       "</div>"
      ],
      "text/plain": [
       "  Standort Unnamed: 1        Datum/Uhrzeit  Tag  Monat  Jahr Uhrzeit  \\\n",
       "0   Anklam          D  2021-04-14 17:00:00   14      4  2021   17:00   \n",
       "1   Anklam          D  2021-04-14 18:00:00   14      4  2021   18:00   \n",
       "2   Anklam          D  2021-04-14 19:00:00   14      4  2021   19:00   \n",
       "3   Anklam          D  2021-04-14 20:00:00   14      4  2021   20:00   \n",
       "4   Anklam          D  2021-04-14 21:00:00   14      4  2021   21:00   \n",
       "\n",
       "   Lufttemperatur [°C]avg  Lufttemperatur [°C]max  Lufttemperatur [°C]min  \\\n",
       "0                    8.12                    8.49                    7.55   \n",
       "1                    7.76                    8.17                    7.32   \n",
       "2                    6.56                    7.23                    5.68   \n",
       "3                    4.02                    5.34                    2.69   \n",
       "4                    2.82                    3.34                    2.17   \n",
       "\n",
       "   ...  Bodentemperatur 5 [°C] min  Bodentemperatur 6 [°C] avg  \\\n",
       "0  ...                         NaN                         NaN   \n",
       "1  ...                         NaN                         NaN   \n",
       "2  ...                         NaN                         NaN   \n",
       "3  ...                         NaN                         NaN   \n",
       "4  ...                         NaN                         NaN   \n",
       "\n",
       "   Bodentemperatur 6 [°C] max  Bodentemperatur 6 [°C] min  Solarpanel [mV]  \\\n",
       "0                         NaN                         NaN           7069.0   \n",
       "1                         NaN                         NaN           6906.0   \n",
       "2                         NaN                         NaN           2545.0   \n",
       "3                         NaN                         NaN              0.0   \n",
       "4                         NaN                         NaN              0.0   \n",
       "\n",
       "   Batterie [mV]  DeltaT [°C] avg  DeltaT [°C] max  DeltaT [°C]min  ET0 [mm]  \n",
       "0         6747.0              5.0              5.0             5.0       NaN  \n",
       "1         6639.0              5.0              5.0             4.0       NaN  \n",
       "2         6525.0              4.0              5.0             4.0       NaN  \n",
       "3         6434.0              3.0              3.0             2.0       NaN  \n",
       "4         6368.0              1.0              2.0             1.0       NaN  \n",
       "\n",
       "[5 rows x 60 columns]"
      ]
     },
     "execution_count": 23,
     "metadata": {},
     "output_type": "execute_result"
    }
   ],
   "source": [
    "df_weatherstations.head()"
   ]
  },
  {
   "cell_type": "code",
   "execution_count": 24,
   "metadata": {},
   "outputs": [
    {
     "data": {
      "text/plain": [
       "array(['Anklam', 'Bautzen', 'Berklingen', 'Emmeloord', 'Groningen',\n",
       "       'Herchsheim 1', 'Lamotte', 'Lelystad', 'Mattenkofen', 'Peine',\n",
       "       'Soest', 'Söllingen', 'Sommepy', 'Stadthagen'], dtype=object)"
      ]
     },
     "execution_count": 24,
     "metadata": {},
     "output_type": "execute_result"
    }
   ],
   "source": [
    "df_weatherstations.Standort.unique()"
   ]
  },
  {
   "cell_type": "code",
   "execution_count": 25,
   "metadata": {},
   "outputs": [],
   "source": [
    "# change date to datetime\n",
    "df_weatherstations['Datum/Uhrzeit'] = pd.to_datetime(df_weatherstations['Datum/Uhrzeit'], yearfirst=True, format=\"%Y-%m-%d %H:%M:%S\")"
   ]
  },
  {
   "cell_type": "code",
   "execution_count": 26,
   "metadata": {},
   "outputs": [
    {
     "data": {
      "text/plain": [
       "pandas.core.series.Series"
      ]
     },
     "execution_count": 26,
     "metadata": {},
     "output_type": "execute_result"
    }
   ],
   "source": [
    "type(df_weatherstations['Datum/Uhrzeit'])"
   ]
  },
  {
   "cell_type": "code",
   "execution_count": 27,
   "metadata": {},
   "outputs": [
    {
     "data": {
      "text/plain": [
       "array(['D', 'NL', 'F'], dtype=object)"
      ]
     },
     "execution_count": 27,
     "metadata": {},
     "output_type": "execute_result"
    }
   ],
   "source": [
    "df_weatherstations['Unnamed: 1'].unique()"
   ]
  },
  {
   "cell_type": "code",
   "execution_count": 28,
   "metadata": {},
   "outputs": [
    {
     "data": {
      "text/plain": [
       "Index(['Standort', 'Unnamed: 1', 'Datum/Uhrzeit', 'Tag', 'Monat', 'Jahr',\n",
       "       'Uhrzeit', 'Lufttemperatur [°C]avg', 'Lufttemperatur [°C]max',\n",
       "       'Lufttemperatur [°C]min', 'Taupunkt [°C] avg', 'Taupunkt [°C] min',\n",
       "       'Solarstrahlung [W/m2]', 'Sättigungsdampfdruckdefizit [kPa] avg ',\n",
       "       'Sättigungsdampfdruckdefizit [kPa] min',\n",
       "       'Relative Luftfeuchtigkeit [%] avg',\n",
       "       'Relative Luftfeuchtigkeit [%] max',\n",
       "       'Relative Luftfeuchtigkeit [%] min', 'Niederschlag [mm]',\n",
       "       'Blattnässe [min]', 'U-sonic wind speed [m/s] avg',\n",
       "       'U-sonic wind speed [m/s] max', 'Windspitzen [m/s]',\n",
       "       'U-sonic wind dir [deg]', 'EAG Bodenfeuchte 1 [%]',\n",
       "       'EAG Bodenfeuchte 2 [%]', 'EAG Bodenfeuchte 3 [%]',\n",
       "       'EAG Bodenfeuchte 4 [%]', 'EAG Bodenfeuchte 5 [%]',\n",
       "       'EAG Bodenfeuchte 6 [%]', 'EAG Bodensalzgehalt 1 [VIC]',\n",
       "       'EAG Bodensalzgehalt 2 [VIC]', 'EAG Bodensalzgehalt 3 [VIC]',\n",
       "       'EAG Bodensalzgehalt 4 [VIC]', 'EAG Bodensalzgehalt 5 [VIC]',\n",
       "       'EAG Bodensalzgehalt 6 [VIC]', 'Bodentemperatur 1 [°C] avg',\n",
       "       'Bodentemperatur 1 [°C] max', 'Bodentemperatur 1 [°C] min',\n",
       "       'Bodentemperatur 2 [°C] avg', 'Bodentemperatur 2 [°C] max',\n",
       "       'Bodentemperatur 2 [°C] min', 'Bodentemperatur 3 [°C] avg',\n",
       "       'Bodentemperatur 3 [°C] max', 'Bodentemperatur 3 [°C] min',\n",
       "       'Bodentemperatur 4 [°C] avg', 'Bodentemperatur 4 [°C] max',\n",
       "       'Bodentemperatur 4 [°C] min', 'Bodentemperatur 5 [°C] avg',\n",
       "       'Bodentemperatur 5 [°C] max', 'Bodentemperatur 5 [°C] min',\n",
       "       'Bodentemperatur 6 [°C] avg', 'Bodentemperatur 6 [°C] max',\n",
       "       'Bodentemperatur 6 [°C] min', 'Solarpanel [mV]', 'Batterie [mV]',\n",
       "       'DeltaT [°C] avg', 'DeltaT [°C] max', 'DeltaT [°C]min', 'ET0 [mm]'],\n",
       "      dtype='object')"
      ]
     },
     "execution_count": 28,
     "metadata": {},
     "output_type": "execute_result"
    }
   ],
   "source": [
    "df_weatherstations.columns"
   ]
  },
  {
   "cell_type": "code",
   "execution_count": 29,
   "metadata": {},
   "outputs": [
    {
     "data": {
      "text/plain": [
       "Index(['standort', 'country', 'datetime', 'tag', 'monat', 'jahr', 'uhrzeit',\n",
       "       'lufttemperatur_[°c]avg', 'lufttemperatur_[°c]max',\n",
       "       'lufttemperatur_[°c]min', 'taupunkt_[°c]_avg', 'taupunkt_[°c]_min',\n",
       "       'solarstrahlung_[w/m2]', 'sättigungsdampfdruckdefizit_[kpa]_avg_',\n",
       "       'sättigungsdampfdruckdefizit_[kpa]_min',\n",
       "       'relative_luftfeuchtigkeit_[%]_avg',\n",
       "       'relative_luftfeuchtigkeit_[%]_max',\n",
       "       'relative_luftfeuchtigkeit_[%]_min', 'niederschlag_[mm]',\n",
       "       'blattnässe_[min]', 'u-sonic_wind_speed_[m/s]_avg',\n",
       "       'u-sonic_wind_speed_[m/s]_max', 'windspitzen_[m/s]',\n",
       "       'u-sonic_wind_dir_[deg]', 'eag_bodenfeuchte_1_[%]',\n",
       "       'eag_bodenfeuchte_2_[%]', 'eag_bodenfeuchte_3_[%]',\n",
       "       'eag_bodenfeuchte_4_[%]', 'eag_bodenfeuchte_5_[%]',\n",
       "       'eag_bodenfeuchte_6_[%]', 'eag_bodensalzgehalt_1_[vic]',\n",
       "       'eag_bodensalzgehalt_2_[vic]', 'eag_bodensalzgehalt_3_[vic]',\n",
       "       'eag_bodensalzgehalt_4_[vic]', 'eag_bodensalzgehalt_5_[vic]',\n",
       "       'eag_bodensalzgehalt_6_[vic]', 'bodentemperatur_1_[°c]_avg',\n",
       "       'bodentemperatur_1_[°c]_max', 'bodentemperatur_1_[°c]_min',\n",
       "       'bodentemperatur_2_[°c]_avg', 'bodentemperatur_2_[°c]_max',\n",
       "       'bodentemperatur_2_[°c]_min', 'bodentemperatur_3_[°c]_avg',\n",
       "       'bodentemperatur_3_[°c]_max', 'bodentemperatur_3_[°c]_min',\n",
       "       'bodentemperatur_4_[°c]_avg', 'bodentemperatur_4_[°c]_max',\n",
       "       'bodentemperatur_4_[°c]_min', 'bodentemperatur_5_[°c]_avg',\n",
       "       'bodentemperatur_5_[°c]_max', 'bodentemperatur_5_[°c]_min',\n",
       "       'bodentemperatur_6_[°c]_avg', 'bodentemperatur_6_[°c]_max',\n",
       "       'bodentemperatur_6_[°c]_min', 'solarpanel_[mv]', 'batterie_[mv]',\n",
       "       'deltat_[°c]_avg', 'deltat_[°c]_max', 'deltat_[°c]min', 'et0_[mm]'],\n",
       "      dtype='object')"
      ]
     },
     "execution_count": 29,
     "metadata": {},
     "output_type": "execute_result"
    }
   ],
   "source": [
    "df_weatherstations.rename(columns={'Unnamed: 1': 'country', 'Datum/Uhrzeit': 'datetime'}, inplace=True)\n",
    "df_weatherstations.columns = df_weatherstations.columns.str.lower()\n",
    "df_weatherstations.columns = df_weatherstations.columns.str.replace(' ', '_')\n",
    "df_weatherstations.columns"
   ]
  },
  {
   "cell_type": "code",
   "execution_count": 30,
   "metadata": {},
   "outputs": [
    {
     "data": {
      "text/html": [
       "<div>\n",
       "<style scoped>\n",
       "    .dataframe tbody tr th:only-of-type {\n",
       "        vertical-align: middle;\n",
       "    }\n",
       "\n",
       "    .dataframe tbody tr th {\n",
       "        vertical-align: top;\n",
       "    }\n",
       "\n",
       "    .dataframe thead th {\n",
       "        text-align: right;\n",
       "    }\n",
       "</style>\n",
       "<table border=\"1\" class=\"dataframe\">\n",
       "  <thead>\n",
       "    <tr style=\"text-align: right;\">\n",
       "      <th></th>\n",
       "      <th>bm</th>\n",
       "      <th>betaine_nir</th>\n",
       "      <th>cry_nir</th>\n",
       "      <th>csy_nir</th>\n",
       "      <th>dm_nir</th>\n",
       "      <th>fieldblock</th>\n",
       "      <th>fieldid</th>\n",
       "      <th>region</th>\n",
       "      <th>fieldsubblock</th>\n",
       "      <th>invert_nir</th>\n",
       "      <th>...</th>\n",
       "      <th>sc_nir</th>\n",
       "      <th>seednames_coded</th>\n",
       "      <th>seriesid</th>\n",
       "      <th>spectraname</th>\n",
       "      <th>standardind</th>\n",
       "      <th>totaln_nir</th>\n",
       "      <th>trial</th>\n",
       "      <th>x</th>\n",
       "      <th>y</th>\n",
       "      <th>anzahl</th>\n",
       "    </tr>\n",
       "  </thead>\n",
       "  <tbody>\n",
       "    <tr>\n",
       "      <th>0</th>\n",
       "      <td>B4</td>\n",
       "      <td>0.1551</td>\n",
       "      <td>54.60</td>\n",
       "      <td>8.838976</td>\n",
       "      <td>21.5439</td>\n",
       "      <td>1</td>\n",
       "      <td>Emmeloord1</td>\n",
       "      <td>Niederlande</td>\n",
       "      <td>1</td>\n",
       "      <td>0.1769</td>\n",
       "      <td>...</td>\n",
       "      <td>16.1886</td>\n",
       "      <td>85</td>\n",
       "      <td>1501</td>\n",
       "      <td>B4_2021_40101001_Emme.spc</td>\n",
       "      <td>NaN</td>\n",
       "      <td>0.1318</td>\n",
       "      <td>40101</td>\n",
       "      <td>2</td>\n",
       "      <td>1</td>\n",
       "      <td>90</td>\n",
       "    </tr>\n",
       "    <tr>\n",
       "      <th>1</th>\n",
       "      <td>B4</td>\n",
       "      <td>0.1502</td>\n",
       "      <td>51.07</td>\n",
       "      <td>8.493911</td>\n",
       "      <td>21.8552</td>\n",
       "      <td>1</td>\n",
       "      <td>Emmeloord1</td>\n",
       "      <td>Niederlande</td>\n",
       "      <td>2</td>\n",
       "      <td>0.1539</td>\n",
       "      <td>...</td>\n",
       "      <td>16.6319</td>\n",
       "      <td>1204</td>\n",
       "      <td>1501</td>\n",
       "      <td>B4_2021_40101007_Emme.spc</td>\n",
       "      <td>Y</td>\n",
       "      <td>0.1355</td>\n",
       "      <td>40101</td>\n",
       "      <td>2</td>\n",
       "      <td>2</td>\n",
       "      <td>90</td>\n",
       "    </tr>\n",
       "    <tr>\n",
       "      <th>2</th>\n",
       "      <td>B4</td>\n",
       "      <td>0.1370</td>\n",
       "      <td>52.73</td>\n",
       "      <td>8.356650</td>\n",
       "      <td>21.1878</td>\n",
       "      <td>1</td>\n",
       "      <td>Emmeloord1</td>\n",
       "      <td>Niederlande</td>\n",
       "      <td>3</td>\n",
       "      <td>0.1643</td>\n",
       "      <td>...</td>\n",
       "      <td>15.8480</td>\n",
       "      <td>90</td>\n",
       "      <td>1501</td>\n",
       "      <td>B4_2021_40101013_Emme.spc</td>\n",
       "      <td>NaN</td>\n",
       "      <td>0.1148</td>\n",
       "      <td>40101</td>\n",
       "      <td>2</td>\n",
       "      <td>3</td>\n",
       "      <td>90</td>\n",
       "    </tr>\n",
       "    <tr>\n",
       "      <th>3</th>\n",
       "      <td>B4</td>\n",
       "      <td>0.1391</td>\n",
       "      <td>44.33</td>\n",
       "      <td>6.957815</td>\n",
       "      <td>21.1140</td>\n",
       "      <td>1</td>\n",
       "      <td>Emmeloord1</td>\n",
       "      <td>Niederlande</td>\n",
       "      <td>4</td>\n",
       "      <td>0.1647</td>\n",
       "      <td>...</td>\n",
       "      <td>15.6955</td>\n",
       "      <td>1142</td>\n",
       "      <td>1501</td>\n",
       "      <td>B4_2021_40101019_Emme.spc</td>\n",
       "      <td>NaN</td>\n",
       "      <td>0.1349</td>\n",
       "      <td>40101</td>\n",
       "      <td>2</td>\n",
       "      <td>4</td>\n",
       "      <td>90</td>\n",
       "    </tr>\n",
       "    <tr>\n",
       "      <th>4</th>\n",
       "      <td>B4</td>\n",
       "      <td>0.1286</td>\n",
       "      <td>50.00</td>\n",
       "      <td>7.835800</td>\n",
       "      <td>20.8531</td>\n",
       "      <td>1</td>\n",
       "      <td>Emmeloord1</td>\n",
       "      <td>Niederlande</td>\n",
       "      <td>5</td>\n",
       "      <td>0.1615</td>\n",
       "      <td>...</td>\n",
       "      <td>15.6716</td>\n",
       "      <td>95</td>\n",
       "      <td>1501</td>\n",
       "      <td>B4_2021_40101025_Emme.spc</td>\n",
       "      <td>NaN</td>\n",
       "      <td>0.1185</td>\n",
       "      <td>40101</td>\n",
       "      <td>2</td>\n",
       "      <td>5</td>\n",
       "      <td>90</td>\n",
       "    </tr>\n",
       "  </tbody>\n",
       "</table>\n",
       "<p>5 rows × 30 columns</p>\n",
       "</div>"
      ],
      "text/plain": [
       "   bm  betaine_nir  cry_nir   csy_nir   dm_nir  fieldblock     fieldid  \\\n",
       "0  B4       0.1551    54.60  8.838976  21.5439           1  Emmeloord1   \n",
       "1  B4       0.1502    51.07  8.493911  21.8552           1  Emmeloord1   \n",
       "2  B4       0.1370    52.73  8.356650  21.1878           1  Emmeloord1   \n",
       "3  B4       0.1391    44.33  6.957815  21.1140           1  Emmeloord1   \n",
       "4  B4       0.1286    50.00  7.835800  20.8531           1  Emmeloord1   \n",
       "\n",
       "        region  fieldsubblock  invert_nir  ...   sc_nir  seednames_coded  \\\n",
       "0  Niederlande              1      0.1769  ...  16.1886               85   \n",
       "1  Niederlande              2      0.1539  ...  16.6319             1204   \n",
       "2  Niederlande              3      0.1643  ...  15.8480               90   \n",
       "3  Niederlande              4      0.1647  ...  15.6955             1142   \n",
       "4  Niederlande              5      0.1615  ...  15.6716               95   \n",
       "\n",
       "  seriesid                spectraname  standardind  totaln_nir  trial  x  y  \\\n",
       "0     1501  B4_2021_40101001_Emme.spc          NaN      0.1318  40101  2  1   \n",
       "1     1501  B4_2021_40101007_Emme.spc            Y      0.1355  40101  2  2   \n",
       "2     1501  B4_2021_40101013_Emme.spc          NaN      0.1148  40101  2  3   \n",
       "3     1501  B4_2021_40101019_Emme.spc          NaN      0.1349  40101  2  4   \n",
       "4     1501  B4_2021_40101025_Emme.spc          NaN      0.1185  40101  2  5   \n",
       "\n",
       "   anzahl  \n",
       "0      90  \n",
       "1      90  \n",
       "2      90  \n",
       "3      90  \n",
       "4      90  \n",
       "\n",
       "[5 rows x 30 columns]"
      ]
     },
     "execution_count": 30,
     "metadata": {},
     "output_type": "execute_result"
    }
   ],
   "source": [
    "df_data.head()"
   ]
  },
  {
   "cell_type": "code",
   "execution_count": 31,
   "metadata": {},
   "outputs": [
    {
     "data": {
      "text/plain": [
       "Index(['bm', 'betaine_nir', 'cry_nir', 'csy_nir', 'dm_nir', 'fieldblock',\n",
       "       'fieldid', 'region', 'fieldsubblock', 'invert_nir', 'labnr', 'layoutnr',\n",
       "       'locationid', 'mark_nir', 'ms_comp', 'obj', 'otype_comp', 'plotid',\n",
       "       'plotindex', 'pollinator_comp', 'sc_nir', 'seednames_coded', 'seriesid',\n",
       "       'spectraname', 'standardind', 'totaln_nir', 'trial', 'x', 'y',\n",
       "       'anzahl'],\n",
       "      dtype='object')"
      ]
     },
     "execution_count": 31,
     "metadata": {},
     "output_type": "execute_result"
    }
   ],
   "source": [
    "df_data.columns"
   ]
  },
  {
   "cell_type": "code",
   "execution_count": 32,
   "metadata": {},
   "outputs": [
    {
     "data": {
      "text/plain": [
       "<AxesSubplot:xlabel='csy_nir', ylabel='ms_comp'>"
      ]
     },
     "execution_count": 32,
     "metadata": {},
     "output_type": "execute_result"
    },
    {
     "data": {
      "image/png": "[encoded data removed]",
      "text/plain": [
       "<Figure size 640x480 with 1 Axes>"
      ]
     },
     "metadata": {},
     "output_type": "display_data"
    }
   ],
   "source": [
    "sns.stripplot(y='ms_comp', x='csy_nir', hue='ms_comp', orient='h', data=df_data)"
   ]
  },
  {
   "cell_type": "code",
   "execution_count": 33,
   "metadata": {},
   "outputs": [
    {
     "data": {
      "text/plain": [
       "<AxesSubplot:xlabel='csy_nir', ylabel='otype_comp'>"
      ]
     },
     "execution_count": 33,
     "metadata": {},
     "output_type": "execute_result"
    },
    {
     "data": {
      "image/png": "[encoded data removed]",
      "text/plain": [
       "<Figure size 640x480 with 1 Axes>"
      ]
     },
     "metadata": {},
     "output_type": "display_data"
    }
   ],
   "source": [
    "sns.stripplot(y='otype_comp', x='csy_nir', hue='otype_comp', orient='h', data=df_data)"
   ]
  },
  {
   "cell_type": "code",
   "execution_count": 34,
   "metadata": {},
   "outputs": [
    {
     "data": {
      "text/plain": [
       "<AxesSubplot:xlabel='anzahl', ylabel='otype_comp'>"
      ]
     },
     "execution_count": 34,
     "metadata": {},
     "output_type": "execute_result"
    },
    {
     "data": {
      "image/png": "[encoded data removed]",
      "text/plain": [
       "<Figure size 640x480 with 1 Axes>"
      ]
     },
     "metadata": {},
     "output_type": "display_data"
    }
   ],
   "source": [
    "sns.stripplot(y='otype_comp', x='anzahl', hue='otype_comp', orient='h', data=df_data)"
   ]
  },
  {
   "cell_type": "code",
   "execution_count": 35,
   "metadata": {},
   "outputs": [
    {
     "data": {
      "text/plain": [
       "<AxesSubplot:xlabel='anzahl', ylabel='ms_comp'>"
      ]
     },
     "execution_count": 35,
     "metadata": {},
     "output_type": "execute_result"
    },
    {
     "data": {
      "image/png": "[encoded data removed]",
      "text/plain": [
       "<Figure size 640x480 with 1 Axes>"
      ]
     },
     "metadata": {},
     "output_type": "display_data"
    }
   ],
   "source": [
    "sns.stripplot(y='ms_comp', x='anzahl', hue='ms_comp', orient='h', data=df_data)"
   ]
  },
  {
   "cell_type": "code",
   "execution_count": 36,
   "metadata": {},
   "outputs": [
    {
     "data": {
      "text/plain": [
       "array(['Niederlande', 'Franken', 'Champagne', 'Picardie', 'Niederbayern',\n",
       "       'Südfrankreich', 'Ostdeutschland', 'Nordrheinwestfalen',\n",
       "       'Normandie', 'Norddeutschland'], dtype=object)"
      ]
     },
     "execution_count": 36,
     "metadata": {},
     "output_type": "execute_result"
    }
   ],
   "source": [
    "df_data.region.unique()"
   ]
  },
  {
   "cell_type": "code",
   "execution_count": 37,
   "metadata": {},
   "outputs": [
    {
     "data": {
      "text/plain": [
       "Index(['standort', 'country', 'datetime', 'tag', 'monat', 'jahr', 'uhrzeit',\n",
       "       'lufttemperatur_[°c]avg', 'lufttemperatur_[°c]max',\n",
       "       'lufttemperatur_[°c]min', 'taupunkt_[°c]_avg', 'taupunkt_[°c]_min',\n",
       "       'solarstrahlung_[w/m2]', 'sättigungsdampfdruckdefizit_[kpa]_avg_',\n",
       "       'sättigungsdampfdruckdefizit_[kpa]_min',\n",
       "       'relative_luftfeuchtigkeit_[%]_avg',\n",
       "       'relative_luftfeuchtigkeit_[%]_max',\n",
       "       'relative_luftfeuchtigkeit_[%]_min', 'niederschlag_[mm]',\n",
       "       'blattnässe_[min]', 'u-sonic_wind_speed_[m/s]_avg',\n",
       "       'u-sonic_wind_speed_[m/s]_max', 'windspitzen_[m/s]',\n",
       "       'u-sonic_wind_dir_[deg]', 'eag_bodenfeuchte_1_[%]',\n",
       "       'eag_bodenfeuchte_2_[%]', 'eag_bodenfeuchte_3_[%]',\n",
       "       'eag_bodenfeuchte_4_[%]', 'eag_bodenfeuchte_5_[%]',\n",
       "       'eag_bodenfeuchte_6_[%]', 'eag_bodensalzgehalt_1_[vic]',\n",
       "       'eag_bodensalzgehalt_2_[vic]', 'eag_bodensalzgehalt_3_[vic]',\n",
       "       'eag_bodensalzgehalt_4_[vic]', 'eag_bodensalzgehalt_5_[vic]',\n",
       "       'eag_bodensalzgehalt_6_[vic]', 'bodentemperatur_1_[°c]_avg',\n",
       "       'bodentemperatur_1_[°c]_max', 'bodentemperatur_1_[°c]_min',\n",
       "       'bodentemperatur_2_[°c]_avg', 'bodentemperatur_2_[°c]_max',\n",
       "       'bodentemperatur_2_[°c]_min', 'bodentemperatur_3_[°c]_avg',\n",
       "       'bodentemperatur_3_[°c]_max', 'bodentemperatur_3_[°c]_min',\n",
       "       'bodentemperatur_4_[°c]_avg', 'bodentemperatur_4_[°c]_max',\n",
       "       'bodentemperatur_4_[°c]_min', 'bodentemperatur_5_[°c]_avg',\n",
       "       'bodentemperatur_5_[°c]_max', 'bodentemperatur_5_[°c]_min',\n",
       "       'bodentemperatur_6_[°c]_avg', 'bodentemperatur_6_[°c]_max',\n",
       "       'bodentemperatur_6_[°c]_min', 'solarpanel_[mv]', 'batterie_[mv]',\n",
       "       'deltat_[°c]_avg', 'deltat_[°c]_max', 'deltat_[°c]min', 'et0_[mm]'],\n",
       "      dtype='object')"
      ]
     },
     "execution_count": 37,
     "metadata": {},
     "output_type": "execute_result"
    }
   ],
   "source": [
    "df_weatherstations.columns"
   ]
  },
  {
   "cell_type": "code",
   "execution_count": 38,
   "metadata": {},
   "outputs": [],
   "source": [
    "collist = ['lufttemperatur_[°c]avg', 'lufttemperatur_[°c]max', 'lufttemperatur_[°c]min',\n",
    "                                                               'solarstrahlung_[w/m2]', 'relative_luftfeuchtigkeit_[%]_avg', \n",
    "                                                               'relative_luftfeuchtigkeit_[%]_max', 'relative_luftfeuchtigkeit_[%]_min', 'niederschlag_[mm]', \n",
    "                                                               'blattnässe_[min]', 'eag_bodenfeuchte_1_[%]', 'eag_bodenfeuchte_2_[%]', 'eag_bodenfeuchte_3_[%]',\n",
    "                                                               'eag_bodenfeuchte_4_[%]', 'eag_bodenfeuchte_5_[%]', 'eag_bodenfeuchte_6_[%]', 'eag_bodensalzgehalt_1_[vic]',\n",
    "                                                               'eag_bodensalzgehalt_2_[vic]', 'eag_bodensalzgehalt_3_[vic]',\n",
    "                                                               'eag_bodensalzgehalt_4_[vic]', 'eag_bodensalzgehalt_5_[vic]',\n",
    "                                                               'eag_bodensalzgehalt_6_[vic]', 'bodentemperatur_1_[°c]_avg',\n",
    "                                                               'bodentemperatur_1_[°c]_max', 'bodentemperatur_1_[°c]_min',\n",
    "                                                               'bodentemperatur_2_[°c]_avg', 'bodentemperatur_2_[°c]_max',\n",
    "                                                               'bodentemperatur_2_[°c]_min', 'bodentemperatur_3_[°c]_avg',\n",
    "                                                               'bodentemperatur_3_[°c]_max', 'bodentemperatur_3_[°c]_min',\n",
    "                                                               'bodentemperatur_4_[°c]_avg', 'bodentemperatur_4_[°c]_max',\n",
    "                                                               'bodentemperatur_4_[°c]_min', 'bodentemperatur_5_[°c]_avg',\n",
    "                                                               'bodentemperatur_5_[°c]_max', 'bodentemperatur_5_[°c]_min',\n",
    "                                                               'bodentemperatur_6_[°c]_avg', 'bodentemperatur_6_[°c]_max',\n",
    "                                                               'bodentemperatur_6_[°c]_min','deltat_[°c]_avg', 'deltat_[°c]_max', 'deltat_[°c]min', 'et0_[mm]']"
   ]
  },
  {
   "cell_type": "code",
   "execution_count": 39,
   "metadata": {},
   "outputs": [],
   "source": [
    "# calculate the mean of avg, min, max of Temperatur (Luft & Boden), humidity (Luft & Boden), soil salinity and sunhine hours\n",
    "df_weatherstations_daily = df_weatherstations.groupby(['tag'], as_index=False)[collist].mean()"
   ]
  },
  {
   "cell_type": "code",
   "execution_count": 40,
   "metadata": {},
   "outputs": [
    {
     "data": {
      "text/html": [
       "<div>\n",
       "<style scoped>\n",
       "    .dataframe tbody tr th:only-of-type {\n",
       "        vertical-align: middle;\n",
       "    }\n",
       "\n",
       "    .dataframe tbody tr th {\n",
       "        vertical-align: top;\n",
       "    }\n",
       "\n",
       "    .dataframe thead th {\n",
       "        text-align: right;\n",
       "    }\n",
       "</style>\n",
       "<table border=\"1\" class=\"dataframe\">\n",
       "  <thead>\n",
       "    <tr style=\"text-align: right;\">\n",
       "      <th></th>\n",
       "      <th>tag</th>\n",
       "      <th>lufttemperatur_[°c]avg</th>\n",
       "      <th>lufttemperatur_[°c]max</th>\n",
       "      <th>lufttemperatur_[°c]min</th>\n",
       "      <th>solarstrahlung_[w/m2]</th>\n",
       "      <th>relative_luftfeuchtigkeit_[%]_avg</th>\n",
       "      <th>relative_luftfeuchtigkeit_[%]_max</th>\n",
       "      <th>relative_luftfeuchtigkeit_[%]_min</th>\n",
       "      <th>niederschlag_[mm]</th>\n",
       "      <th>blattnässe_[min]</th>\n",
       "      <th>...</th>\n",
       "      <th>bodentemperatur_5_[°c]_avg</th>\n",
       "      <th>bodentemperatur_5_[°c]_max</th>\n",
       "      <th>bodentemperatur_5_[°c]_min</th>\n",
       "      <th>bodentemperatur_6_[°c]_avg</th>\n",
       "      <th>bodentemperatur_6_[°c]_max</th>\n",
       "      <th>bodentemperatur_6_[°c]_min</th>\n",
       "      <th>deltat_[°c]_avg</th>\n",
       "      <th>deltat_[°c]_max</th>\n",
       "      <th>deltat_[°c]min</th>\n",
       "      <th>et0_[mm]</th>\n",
       "    </tr>\n",
       "  </thead>\n",
       "  <tbody>\n",
       "    <tr>\n",
       "      <th>0</th>\n",
       "      <td>1</td>\n",
       "      <td>14.062515</td>\n",
       "      <td>14.630527</td>\n",
       "      <td>13.522431</td>\n",
       "      <td>188.157984</td>\n",
       "      <td>82.686635</td>\n",
       "      <td>85.422557</td>\n",
       "      <td>79.799892</td>\n",
       "      <td>0.084598</td>\n",
       "      <td>16.392978</td>\n",
       "      <td>...</td>\n",
       "      <td>14.125433</td>\n",
       "      <td>14.188282</td>\n",
       "      <td>14.082756</td>\n",
       "      <td>13.965113</td>\n",
       "      <td>14.018375</td>\n",
       "      <td>13.925566</td>\n",
       "      <td>1.877246</td>\n",
       "      <td>2.225749</td>\n",
       "      <td>1.559281</td>\n",
       "      <td>2.622857</td>\n",
       "    </tr>\n",
       "    <tr>\n",
       "      <th>1</th>\n",
       "      <td>2</td>\n",
       "      <td>14.199373</td>\n",
       "      <td>14.804253</td>\n",
       "      <td>13.608996</td>\n",
       "      <td>199.181356</td>\n",
       "      <td>82.664689</td>\n",
       "      <td>85.511171</td>\n",
       "      <td>79.726081</td>\n",
       "      <td>0.054463</td>\n",
       "      <td>14.141243</td>\n",
       "      <td>...</td>\n",
       "      <td>14.056640</td>\n",
       "      <td>14.117397</td>\n",
       "      <td>14.015936</td>\n",
       "      <td>13.868260</td>\n",
       "      <td>13.925498</td>\n",
       "      <td>13.831541</td>\n",
       "      <td>1.890681</td>\n",
       "      <td>2.249104</td>\n",
       "      <td>1.560932</td>\n",
       "      <td>2.690000</td>\n",
       "    </tr>\n",
       "    <tr>\n",
       "      <th>2</th>\n",
       "      <td>3</td>\n",
       "      <td>14.999702</td>\n",
       "      <td>15.656190</td>\n",
       "      <td>14.365988</td>\n",
       "      <td>211.989865</td>\n",
       "      <td>80.297565</td>\n",
       "      <td>83.390381</td>\n",
       "      <td>77.043595</td>\n",
       "      <td>0.072410</td>\n",
       "      <td>13.164414</td>\n",
       "      <td>...</td>\n",
       "      <td>14.075778</td>\n",
       "      <td>14.136069</td>\n",
       "      <td>14.036201</td>\n",
       "      <td>13.881006</td>\n",
       "      <td>13.940437</td>\n",
       "      <td>13.843812</td>\n",
       "      <td>2.190476</td>\n",
       "      <td>2.600595</td>\n",
       "      <td>1.818452</td>\n",
       "      <td>2.975714</td>\n",
       "    </tr>\n",
       "    <tr>\n",
       "      <th>3</th>\n",
       "      <td>4</td>\n",
       "      <td>15.224280</td>\n",
       "      <td>15.829869</td>\n",
       "      <td>14.647982</td>\n",
       "      <td>183.016892</td>\n",
       "      <td>82.924452</td>\n",
       "      <td>85.937542</td>\n",
       "      <td>79.813595</td>\n",
       "      <td>0.119707</td>\n",
       "      <td>16.067005</td>\n",
       "      <td>...</td>\n",
       "      <td>14.204897</td>\n",
       "      <td>14.264262</td>\n",
       "      <td>14.164461</td>\n",
       "      <td>13.963269</td>\n",
       "      <td>14.020913</td>\n",
       "      <td>13.924156</td>\n",
       "      <td>1.849405</td>\n",
       "      <td>2.214286</td>\n",
       "      <td>1.491667</td>\n",
       "      <td>3.152857</td>\n",
       "    </tr>\n",
       "    <tr>\n",
       "      <th>4</th>\n",
       "      <td>5</td>\n",
       "      <td>14.280789</td>\n",
       "      <td>14.873402</td>\n",
       "      <td>13.695244</td>\n",
       "      <td>179.800113</td>\n",
       "      <td>87.109290</td>\n",
       "      <td>89.811541</td>\n",
       "      <td>84.209940</td>\n",
       "      <td>0.141554</td>\n",
       "      <td>20.126689</td>\n",
       "      <td>...</td>\n",
       "      <td>14.299735</td>\n",
       "      <td>14.360582</td>\n",
       "      <td>14.258862</td>\n",
       "      <td>14.067659</td>\n",
       "      <td>14.127712</td>\n",
       "      <td>14.027050</td>\n",
       "      <td>1.328718</td>\n",
       "      <td>1.658037</td>\n",
       "      <td>1.021072</td>\n",
       "      <td>2.878571</td>\n",
       "    </tr>\n",
       "  </tbody>\n",
       "</table>\n",
       "<p>5 rows × 44 columns</p>\n",
       "</div>"
      ],
      "text/plain": [
       "   tag  lufttemperatur_[°c]avg  lufttemperatur_[°c]max  \\\n",
       "0    1               14.062515               14.630527   \n",
       "1    2               14.199373               14.804253   \n",
       "2    3               14.999702               15.656190   \n",
       "3    4               15.224280               15.829869   \n",
       "4    5               14.280789               14.873402   \n",
       "\n",
       "   lufttemperatur_[°c]min  solarstrahlung_[w/m2]  \\\n",
       "0               13.522431             188.157984   \n",
       "1               13.608996             199.181356   \n",
       "2               14.365988             211.989865   \n",
       "3               14.647982             183.016892   \n",
       "4               13.695244             179.800113   \n",
       "\n",
       "   relative_luftfeuchtigkeit_[%]_avg  relative_luftfeuchtigkeit_[%]_max  \\\n",
       "0                          82.686635                          85.422557   \n",
       "1                          82.664689                          85.511171   \n",
       "2                          80.297565                          83.390381   \n",
       "3                          82.924452                          85.937542   \n",
       "4                          87.109290                          89.811541   \n",
       "\n",
       "   relative_luftfeuchtigkeit_[%]_min  niederschlag_[mm]  blattnässe_[min]  \\\n",
       "0                          79.799892           0.084598         16.392978   \n",
       "1                          79.726081           0.054463         14.141243   \n",
       "2                          77.043595           0.072410         13.164414   \n",
       "3                          79.813595           0.119707         16.067005   \n",
       "4                          84.209940           0.141554         20.126689   \n",
       "\n",
       "   ...  bodentemperatur_5_[°c]_avg  bodentemperatur_5_[°c]_max  \\\n",
       "0  ...                   14.125433                   14.188282   \n",
       "1  ...                   14.056640                   14.117397   \n",
       "2  ...                   14.075778                   14.136069   \n",
       "3  ...                   14.204897                   14.264262   \n",
       "4  ...                   14.299735                   14.360582   \n",
       "\n",
       "   bodentemperatur_5_[°c]_min  bodentemperatur_6_[°c]_avg  \\\n",
       "0                   14.082756                   13.965113   \n",
       "1                   14.015936                   13.868260   \n",
       "2                   14.036201                   13.881006   \n",
       "3                   14.164461                   13.963269   \n",
       "4                   14.258862                   14.067659   \n",
       "\n",
       "   bodentemperatur_6_[°c]_max  bodentemperatur_6_[°c]_min  deltat_[°c]_avg  \\\n",
       "0                   14.018375                   13.925566         1.877246   \n",
       "1                   13.925498                   13.831541         1.890681   \n",
       "2                   13.940437                   13.843812         2.190476   \n",
       "3                   14.020913                   13.924156         1.849405   \n",
       "4                   14.127712                   14.027050         1.328718   \n",
       "\n",
       "   deltat_[°c]_max  deltat_[°c]min  et0_[mm]  \n",
       "0         2.225749        1.559281  2.622857  \n",
       "1         2.249104        1.560932  2.690000  \n",
       "2         2.600595        1.818452  2.975714  \n",
       "3         2.214286        1.491667  3.152857  \n",
       "4         1.658037        1.021072  2.878571  \n",
       "\n",
       "[5 rows x 44 columns]"
      ]
     },
     "execution_count": 40,
     "metadata": {},
     "output_type": "execute_result"
    }
   ],
   "source": [
    "df_weatherstations_daily.head()"
   ]
  },
  {
   "cell_type": "code",
   "execution_count": 41,
   "metadata": {},
   "outputs": [
    {
     "data": {
      "text/html": [
       "<div>\n",
       "<style scoped>\n",
       "    .dataframe tbody tr th:only-of-type {\n",
       "        vertical-align: middle;\n",
       "    }\n",
       "\n",
       "    .dataframe tbody tr th {\n",
       "        vertical-align: top;\n",
       "    }\n",
       "\n",
       "    .dataframe thead th {\n",
       "        text-align: right;\n",
       "    }\n",
       "</style>\n",
       "<table border=\"1\" class=\"dataframe\">\n",
       "  <thead>\n",
       "    <tr style=\"text-align: right;\">\n",
       "      <th></th>\n",
       "      <th>standort</th>\n",
       "      <th>country</th>\n",
       "      <th>datetime</th>\n",
       "      <th>tag</th>\n",
       "      <th>monat</th>\n",
       "      <th>jahr</th>\n",
       "      <th>uhrzeit</th>\n",
       "      <th>lufttemperatur_[°c]avg</th>\n",
       "      <th>lufttemperatur_[°c]max</th>\n",
       "      <th>lufttemperatur_[°c]min</th>\n",
       "      <th>...</th>\n",
       "      <th>bodentemperatur_5_[°c]_min</th>\n",
       "      <th>bodentemperatur_6_[°c]_avg</th>\n",
       "      <th>bodentemperatur_6_[°c]_max</th>\n",
       "      <th>bodentemperatur_6_[°c]_min</th>\n",
       "      <th>solarpanel_[mv]</th>\n",
       "      <th>batterie_[mv]</th>\n",
       "      <th>deltat_[°c]_avg</th>\n",
       "      <th>deltat_[°c]_max</th>\n",
       "      <th>deltat_[°c]min</th>\n",
       "      <th>et0_[mm]</th>\n",
       "    </tr>\n",
       "  </thead>\n",
       "  <tbody>\n",
       "    <tr>\n",
       "      <th>0</th>\n",
       "      <td>Anklam</td>\n",
       "      <td>D</td>\n",
       "      <td>2021-04-14 17:00:00</td>\n",
       "      <td>14</td>\n",
       "      <td>4</td>\n",
       "      <td>2021</td>\n",
       "      <td>17:00</td>\n",
       "      <td>8.12</td>\n",
       "      <td>8.49</td>\n",
       "      <td>7.55</td>\n",
       "      <td>...</td>\n",
       "      <td>NaN</td>\n",
       "      <td>NaN</td>\n",
       "      <td>NaN</td>\n",
       "      <td>NaN</td>\n",
       "      <td>7069.0</td>\n",
       "      <td>6747.0</td>\n",
       "      <td>5.0</td>\n",
       "      <td>5.0</td>\n",
       "      <td>5.0</td>\n",
       "      <td>NaN</td>\n",
       "    </tr>\n",
       "    <tr>\n",
       "      <th>1</th>\n",
       "      <td>Anklam</td>\n",
       "      <td>D</td>\n",
       "      <td>2021-04-14 18:00:00</td>\n",
       "      <td>14</td>\n",
       "      <td>4</td>\n",
       "      <td>2021</td>\n",
       "      <td>18:00</td>\n",
       "      <td>7.76</td>\n",
       "      <td>8.17</td>\n",
       "      <td>7.32</td>\n",
       "      <td>...</td>\n",
       "      <td>NaN</td>\n",
       "      <td>NaN</td>\n",
       "      <td>NaN</td>\n",
       "      <td>NaN</td>\n",
       "      <td>6906.0</td>\n",
       "      <td>6639.0</td>\n",
       "      <td>5.0</td>\n",
       "      <td>5.0</td>\n",
       "      <td>4.0</td>\n",
       "      <td>NaN</td>\n",
       "    </tr>\n",
       "    <tr>\n",
       "      <th>2</th>\n",
       "      <td>Anklam</td>\n",
       "      <td>D</td>\n",
       "      <td>2021-04-14 19:00:00</td>\n",
       "      <td>14</td>\n",
       "      <td>4</td>\n",
       "      <td>2021</td>\n",
       "      <td>19:00</td>\n",
       "      <td>6.56</td>\n",
       "      <td>7.23</td>\n",
       "      <td>5.68</td>\n",
       "      <td>...</td>\n",
       "      <td>NaN</td>\n",
       "      <td>NaN</td>\n",
       "      <td>NaN</td>\n",
       "      <td>NaN</td>\n",
       "      <td>2545.0</td>\n",
       "      <td>6525.0</td>\n",
       "      <td>4.0</td>\n",
       "      <td>5.0</td>\n",
       "      <td>4.0</td>\n",
       "      <td>NaN</td>\n",
       "    </tr>\n",
       "    <tr>\n",
       "      <th>3</th>\n",
       "      <td>Anklam</td>\n",
       "      <td>D</td>\n",
       "      <td>2021-04-14 20:00:00</td>\n",
       "      <td>14</td>\n",
       "      <td>4</td>\n",
       "      <td>2021</td>\n",
       "      <td>20:00</td>\n",
       "      <td>4.02</td>\n",
       "      <td>5.34</td>\n",
       "      <td>2.69</td>\n",
       "      <td>...</td>\n",
       "      <td>NaN</td>\n",
       "      <td>NaN</td>\n",
       "      <td>NaN</td>\n",
       "      <td>NaN</td>\n",
       "      <td>0.0</td>\n",
       "      <td>6434.0</td>\n",
       "      <td>3.0</td>\n",
       "      <td>3.0</td>\n",
       "      <td>2.0</td>\n",
       "      <td>NaN</td>\n",
       "    </tr>\n",
       "    <tr>\n",
       "      <th>4</th>\n",
       "      <td>Anklam</td>\n",
       "      <td>D</td>\n",
       "      <td>2021-04-14 21:00:00</td>\n",
       "      <td>14</td>\n",
       "      <td>4</td>\n",
       "      <td>2021</td>\n",
       "      <td>21:00</td>\n",
       "      <td>2.82</td>\n",
       "      <td>3.34</td>\n",
       "      <td>2.17</td>\n",
       "      <td>...</td>\n",
       "      <td>NaN</td>\n",
       "      <td>NaN</td>\n",
       "      <td>NaN</td>\n",
       "      <td>NaN</td>\n",
       "      <td>0.0</td>\n",
       "      <td>6368.0</td>\n",
       "      <td>1.0</td>\n",
       "      <td>2.0</td>\n",
       "      <td>1.0</td>\n",
       "      <td>NaN</td>\n",
       "    </tr>\n",
       "  </tbody>\n",
       "</table>\n",
       "<p>5 rows × 60 columns</p>\n",
       "</div>"
      ],
      "text/plain": [
       "  standort country            datetime  tag  monat  jahr uhrzeit  \\\n",
       "0   Anklam       D 2021-04-14 17:00:00   14      4  2021   17:00   \n",
       "1   Anklam       D 2021-04-14 18:00:00   14      4  2021   18:00   \n",
       "2   Anklam       D 2021-04-14 19:00:00   14      4  2021   19:00   \n",
       "3   Anklam       D 2021-04-14 20:00:00   14      4  2021   20:00   \n",
       "4   Anklam       D 2021-04-14 21:00:00   14      4  2021   21:00   \n",
       "\n",
       "   lufttemperatur_[°c]avg  lufttemperatur_[°c]max  lufttemperatur_[°c]min  \\\n",
       "0                    8.12                    8.49                    7.55   \n",
       "1                    7.76                    8.17                    7.32   \n",
       "2                    6.56                    7.23                    5.68   \n",
       "3                    4.02                    5.34                    2.69   \n",
       "4                    2.82                    3.34                    2.17   \n",
       "\n",
       "   ...  bodentemperatur_5_[°c]_min  bodentemperatur_6_[°c]_avg  \\\n",
       "0  ...                         NaN                         NaN   \n",
       "1  ...                         NaN                         NaN   \n",
       "2  ...                         NaN                         NaN   \n",
       "3  ...                         NaN                         NaN   \n",
       "4  ...                         NaN                         NaN   \n",
       "\n",
       "   bodentemperatur_6_[°c]_max  bodentemperatur_6_[°c]_min  solarpanel_[mv]  \\\n",
       "0                         NaN                         NaN           7069.0   \n",
       "1                         NaN                         NaN           6906.0   \n",
       "2                         NaN                         NaN           2545.0   \n",
       "3                         NaN                         NaN              0.0   \n",
       "4                         NaN                         NaN              0.0   \n",
       "\n",
       "   batterie_[mv]  deltat_[°c]_avg  deltat_[°c]_max  deltat_[°c]min  et0_[mm]  \n",
       "0         6747.0              5.0              5.0             5.0       NaN  \n",
       "1         6639.0              5.0              5.0             4.0       NaN  \n",
       "2         6525.0              4.0              5.0             4.0       NaN  \n",
       "3         6434.0              3.0              3.0             2.0       NaN  \n",
       "4         6368.0              1.0              2.0             1.0       NaN  \n",
       "\n",
       "[5 rows x 60 columns]"
      ]
     },
     "execution_count": 41,
     "metadata": {},
     "output_type": "execute_result"
    }
   ],
   "source": [
    "df_weatherstations.head()"
   ]
  },
  {
   "cell_type": "code",
   "execution_count": 42,
   "metadata": {},
   "outputs": [
    {
     "data": {
      "text/plain": [
       "array(['Anklam', 'Bautzen', 'Berklingen', 'Emmeloord', 'Groningen',\n",
       "       'Herchsheim 1', 'Lamotte', 'Lelystad', 'Mattenkofen', 'Peine',\n",
       "       'Soest', 'Söllingen', 'Sommepy', 'Stadthagen'], dtype=object)"
      ]
     },
     "execution_count": 42,
     "metadata": {},
     "output_type": "execute_result"
    }
   ],
   "source": [
    "df_weatherstations.standort.unique()"
   ]
  },
  {
   "cell_type": "code",
   "execution_count": 43,
   "metadata": {},
   "outputs": [],
   "source": [
    "#merge with original dataframe getting rid of extra columns\n",
    "df_weatherstations_daily = (df_weatherstations.merge(df_weatherstations_daily, on=['tag'], suffixes=('', '_mean'))\n",
    "                            .drop(collist, axis=1)\n",
    "                            #.groupby(['tag'])\n",
    "                            #.first()\n",
    "                            #.reset_index())\n",
    "                            )"
   ]
  },
  {
   "cell_type": "code",
   "execution_count": 44,
   "metadata": {},
   "outputs": [
    {
     "data": {
      "text/plain": [
       "array(['Anklam', 'Bautzen', 'Berklingen', 'Emmeloord', 'Groningen',\n",
       "       'Herchsheim 1', 'Lamotte', 'Lelystad', 'Mattenkofen', 'Peine',\n",
       "       'Soest', 'Söllingen', 'Sommepy', 'Stadthagen'], dtype=object)"
      ]
     },
     "execution_count": 44,
     "metadata": {},
     "output_type": "execute_result"
    }
   ],
   "source": [
    "df_weatherstations_daily.standort.unique()"
   ]
  },
  {
   "cell_type": "code",
   "execution_count": 45,
   "metadata": {},
   "outputs": [
    {
     "data": {
      "text/plain": [
       "array([14, 15, 16, 17, 18, 19, 20, 21, 22, 23, 24, 25, 26, 27, 28, 29, 30,\n",
       "        1,  2,  3,  4,  5,  6,  7,  8,  9, 10, 11, 12, 13, 31])"
      ]
     },
     "execution_count": 45,
     "metadata": {},
     "output_type": "execute_result"
    }
   ],
   "source": [
    "df_weatherstations_daily.tag.unique()"
   ]
  },
  {
   "cell_type": "code",
   "execution_count": 46,
   "metadata": {},
   "outputs": [
    {
     "data": {
      "text/html": [
       "<div>\n",
       "<style scoped>\n",
       "    .dataframe tbody tr th:only-of-type {\n",
       "        vertical-align: middle;\n",
       "    }\n",
       "\n",
       "    .dataframe tbody tr th {\n",
       "        vertical-align: top;\n",
       "    }\n",
       "\n",
       "    .dataframe thead th {\n",
       "        text-align: right;\n",
       "    }\n",
       "</style>\n",
       "<table border=\"1\" class=\"dataframe\">\n",
       "  <thead>\n",
       "    <tr style=\"text-align: right;\">\n",
       "      <th></th>\n",
       "      <th>standort</th>\n",
       "      <th>country</th>\n",
       "      <th>datetime</th>\n",
       "      <th>tag</th>\n",
       "      <th>monat</th>\n",
       "      <th>jahr</th>\n",
       "      <th>uhrzeit</th>\n",
       "      <th>taupunkt_[°c]_avg</th>\n",
       "      <th>taupunkt_[°c]_min</th>\n",
       "      <th>sättigungsdampfdruckdefizit_[kpa]_avg_</th>\n",
       "      <th>...</th>\n",
       "      <th>bodentemperatur_5_[°c]_avg_mean</th>\n",
       "      <th>bodentemperatur_5_[°c]_max_mean</th>\n",
       "      <th>bodentemperatur_5_[°c]_min_mean</th>\n",
       "      <th>bodentemperatur_6_[°c]_avg_mean</th>\n",
       "      <th>bodentemperatur_6_[°c]_max_mean</th>\n",
       "      <th>bodentemperatur_6_[°c]_min_mean</th>\n",
       "      <th>deltat_[°c]_avg_mean</th>\n",
       "      <th>deltat_[°c]_max_mean</th>\n",
       "      <th>deltat_[°c]min_mean</th>\n",
       "      <th>et0_[mm]_mean</th>\n",
       "    </tr>\n",
       "  </thead>\n",
       "  <tbody>\n",
       "    <tr>\n",
       "      <th>0</th>\n",
       "      <td>Anklam</td>\n",
       "      <td>D</td>\n",
       "      <td>2021-04-14 17:00:00</td>\n",
       "      <td>14</td>\n",
       "      <td>4</td>\n",
       "      <td>2021</td>\n",
       "      <td>17:00</td>\n",
       "      <td>-3.8</td>\n",
       "      <td>-4.7</td>\n",
       "      <td>0.61</td>\n",
       "      <td>...</td>\n",
       "      <td>15.081073</td>\n",
       "      <td>15.141455</td>\n",
       "      <td>15.042373</td>\n",
       "      <td>14.803178</td>\n",
       "      <td>14.859251</td>\n",
       "      <td>14.764689</td>\n",
       "      <td>1.840352</td>\n",
       "      <td>2.19296</td>\n",
       "      <td>1.511628</td>\n",
       "      <td>2.843939</td>\n",
       "    </tr>\n",
       "    <tr>\n",
       "      <th>1</th>\n",
       "      <td>Anklam</td>\n",
       "      <td>D</td>\n",
       "      <td>2021-04-14 18:00:00</td>\n",
       "      <td>14</td>\n",
       "      <td>4</td>\n",
       "      <td>2021</td>\n",
       "      <td>18:00</td>\n",
       "      <td>-3.8</td>\n",
       "      <td>-4.7</td>\n",
       "      <td>0.59</td>\n",
       "      <td>...</td>\n",
       "      <td>15.081073</td>\n",
       "      <td>15.141455</td>\n",
       "      <td>15.042373</td>\n",
       "      <td>14.803178</td>\n",
       "      <td>14.859251</td>\n",
       "      <td>14.764689</td>\n",
       "      <td>1.840352</td>\n",
       "      <td>2.19296</td>\n",
       "      <td>1.511628</td>\n",
       "      <td>2.843939</td>\n",
       "    </tr>\n",
       "    <tr>\n",
       "      <th>2</th>\n",
       "      <td>Anklam</td>\n",
       "      <td>D</td>\n",
       "      <td>2021-04-14 19:00:00</td>\n",
       "      <td>14</td>\n",
       "      <td>4</td>\n",
       "      <td>2021</td>\n",
       "      <td>19:00</td>\n",
       "      <td>-2.8</td>\n",
       "      <td>-3.8</td>\n",
       "      <td>0.47</td>\n",
       "      <td>...</td>\n",
       "      <td>15.081073</td>\n",
       "      <td>15.141455</td>\n",
       "      <td>15.042373</td>\n",
       "      <td>14.803178</td>\n",
       "      <td>14.859251</td>\n",
       "      <td>14.764689</td>\n",
       "      <td>1.840352</td>\n",
       "      <td>2.19296</td>\n",
       "      <td>1.511628</td>\n",
       "      <td>2.843939</td>\n",
       "    </tr>\n",
       "    <tr>\n",
       "      <th>3</th>\n",
       "      <td>Anklam</td>\n",
       "      <td>D</td>\n",
       "      <td>2021-04-14 20:00:00</td>\n",
       "      <td>14</td>\n",
       "      <td>4</td>\n",
       "      <td>2021</td>\n",
       "      <td>20:00</td>\n",
       "      <td>-1.9</td>\n",
       "      <td>-2.7</td>\n",
       "      <td>0.28</td>\n",
       "      <td>...</td>\n",
       "      <td>15.081073</td>\n",
       "      <td>15.141455</td>\n",
       "      <td>15.042373</td>\n",
       "      <td>14.803178</td>\n",
       "      <td>14.859251</td>\n",
       "      <td>14.764689</td>\n",
       "      <td>1.840352</td>\n",
       "      <td>2.19296</td>\n",
       "      <td>1.511628</td>\n",
       "      <td>2.843939</td>\n",
       "    </tr>\n",
       "    <tr>\n",
       "      <th>4</th>\n",
       "      <td>Anklam</td>\n",
       "      <td>D</td>\n",
       "      <td>2021-04-14 21:00:00</td>\n",
       "      <td>14</td>\n",
       "      <td>4</td>\n",
       "      <td>2021</td>\n",
       "      <td>21:00</td>\n",
       "      <td>-0.3</td>\n",
       "      <td>-1.3</td>\n",
       "      <td>0.15</td>\n",
       "      <td>...</td>\n",
       "      <td>15.081073</td>\n",
       "      <td>15.141455</td>\n",
       "      <td>15.042373</td>\n",
       "      <td>14.803178</td>\n",
       "      <td>14.859251</td>\n",
       "      <td>14.764689</td>\n",
       "      <td>1.840352</td>\n",
       "      <td>2.19296</td>\n",
       "      <td>1.511628</td>\n",
       "      <td>2.843939</td>\n",
       "    </tr>\n",
       "  </tbody>\n",
       "</table>\n",
       "<p>5 rows × 60 columns</p>\n",
       "</div>"
      ],
      "text/plain": [
       "  standort country            datetime  tag  monat  jahr uhrzeit  \\\n",
       "0   Anklam       D 2021-04-14 17:00:00   14      4  2021   17:00   \n",
       "1   Anklam       D 2021-04-14 18:00:00   14      4  2021   18:00   \n",
       "2   Anklam       D 2021-04-14 19:00:00   14      4  2021   19:00   \n",
       "3   Anklam       D 2021-04-14 20:00:00   14      4  2021   20:00   \n",
       "4   Anklam       D 2021-04-14 21:00:00   14      4  2021   21:00   \n",
       "\n",
       "   taupunkt_[°c]_avg  taupunkt_[°c]_min  \\\n",
       "0               -3.8               -4.7   \n",
       "1               -3.8               -4.7   \n",
       "2               -2.8               -3.8   \n",
       "3               -1.9               -2.7   \n",
       "4               -0.3               -1.3   \n",
       "\n",
       "   sättigungsdampfdruckdefizit_[kpa]_avg_  ...  \\\n",
       "0                                    0.61  ...   \n",
       "1                                    0.59  ...   \n",
       "2                                    0.47  ...   \n",
       "3                                    0.28  ...   \n",
       "4                                    0.15  ...   \n",
       "\n",
       "   bodentemperatur_5_[°c]_avg_mean  bodentemperatur_5_[°c]_max_mean  \\\n",
       "0                        15.081073                        15.141455   \n",
       "1                        15.081073                        15.141455   \n",
       "2                        15.081073                        15.141455   \n",
       "3                        15.081073                        15.141455   \n",
       "4                        15.081073                        15.141455   \n",
       "\n",
       "   bodentemperatur_5_[°c]_min_mean  bodentemperatur_6_[°c]_avg_mean  \\\n",
       "0                        15.042373                        14.803178   \n",
       "1                        15.042373                        14.803178   \n",
       "2                        15.042373                        14.803178   \n",
       "3                        15.042373                        14.803178   \n",
       "4                        15.042373                        14.803178   \n",
       "\n",
       "   bodentemperatur_6_[°c]_max_mean  bodentemperatur_6_[°c]_min_mean  \\\n",
       "0                        14.859251                        14.764689   \n",
       "1                        14.859251                        14.764689   \n",
       "2                        14.859251                        14.764689   \n",
       "3                        14.859251                        14.764689   \n",
       "4                        14.859251                        14.764689   \n",
       "\n",
       "   deltat_[°c]_avg_mean  deltat_[°c]_max_mean  deltat_[°c]min_mean  \\\n",
       "0              1.840352               2.19296             1.511628   \n",
       "1              1.840352               2.19296             1.511628   \n",
       "2              1.840352               2.19296             1.511628   \n",
       "3              1.840352               2.19296             1.511628   \n",
       "4              1.840352               2.19296             1.511628   \n",
       "\n",
       "   et0_[mm]_mean  \n",
       "0       2.843939  \n",
       "1       2.843939  \n",
       "2       2.843939  \n",
       "3       2.843939  \n",
       "4       2.843939  \n",
       "\n",
       "[5 rows x 60 columns]"
      ]
     },
     "execution_count": 46,
     "metadata": {},
     "output_type": "execute_result"
    }
   ],
   "source": [
    "df_weatherstations_daily.head()"
   ]
  },
  {
   "cell_type": "code",
   "execution_count": 47,
   "metadata": {},
   "outputs": [
    {
     "data": {
      "text/plain": [
       "(53683, 60)"
      ]
     },
     "execution_count": 47,
     "metadata": {},
     "output_type": "execute_result"
    }
   ],
   "source": [
    "df_weatherstations_daily.shape"
   ]
  },
  {
   "cell_type": "code",
   "execution_count": 48,
   "metadata": {},
   "outputs": [],
   "source": [
    "df_weatherstations_daily.to_pickle('data/df_weatherstations_daily.pkl')"
   ]
  },
  {
   "cell_type": "code",
   "execution_count": 49,
   "metadata": {},
   "outputs": [
    {
     "name": "stderr",
     "output_type": "stream",
     "text": [
      "/var/folders/r8/96vp6rrx3633scm80v59y52c0000gn/T/ipykernel_1488/360746422.py:1: FutureWarning: The default value of numeric_only in DataFrameGroupBy.mean is deprecated. In a future version, numeric_only will default to False. Either specify numeric_only or select only columns which should be valid for the function.\n",
      "  df_weatherstations_daily.groupby(['monat', 'tag', 'standort']).mean()\n"
     ]
    },
    {
     "data": {
      "text/html": [
       "<div>\n",
       "<style scoped>\n",
       "    .dataframe tbody tr th:only-of-type {\n",
       "        vertical-align: middle;\n",
       "    }\n",
       "\n",
       "    .dataframe tbody tr th {\n",
       "        vertical-align: top;\n",
       "    }\n",
       "\n",
       "    .dataframe thead th {\n",
       "        text-align: right;\n",
       "    }\n",
       "</style>\n",
       "<table border=\"1\" class=\"dataframe\">\n",
       "  <thead>\n",
       "    <tr style=\"text-align: right;\">\n",
       "      <th></th>\n",
       "      <th></th>\n",
       "      <th></th>\n",
       "      <th>jahr</th>\n",
       "      <th>taupunkt_[°c]_avg</th>\n",
       "      <th>taupunkt_[°c]_min</th>\n",
       "      <th>sättigungsdampfdruckdefizit_[kpa]_avg_</th>\n",
       "      <th>sättigungsdampfdruckdefizit_[kpa]_min</th>\n",
       "      <th>u-sonic_wind_speed_[m/s]_avg</th>\n",
       "      <th>u-sonic_wind_speed_[m/s]_max</th>\n",
       "      <th>windspitzen_[m/s]</th>\n",
       "      <th>u-sonic_wind_dir_[deg]</th>\n",
       "      <th>solarpanel_[mv]</th>\n",
       "      <th>...</th>\n",
       "      <th>bodentemperatur_5_[°c]_avg_mean</th>\n",
       "      <th>bodentemperatur_5_[°c]_max_mean</th>\n",
       "      <th>bodentemperatur_5_[°c]_min_mean</th>\n",
       "      <th>bodentemperatur_6_[°c]_avg_mean</th>\n",
       "      <th>bodentemperatur_6_[°c]_max_mean</th>\n",
       "      <th>bodentemperatur_6_[°c]_min_mean</th>\n",
       "      <th>deltat_[°c]_avg_mean</th>\n",
       "      <th>deltat_[°c]_max_mean</th>\n",
       "      <th>deltat_[°c]min_mean</th>\n",
       "      <th>et0_[mm]_mean</th>\n",
       "    </tr>\n",
       "    <tr>\n",
       "      <th>monat</th>\n",
       "      <th>tag</th>\n",
       "      <th>standort</th>\n",
       "      <th></th>\n",
       "      <th></th>\n",
       "      <th></th>\n",
       "      <th></th>\n",
       "      <th></th>\n",
       "      <th></th>\n",
       "      <th></th>\n",
       "      <th></th>\n",
       "      <th></th>\n",
       "      <th></th>\n",
       "      <th></th>\n",
       "      <th></th>\n",
       "      <th></th>\n",
       "      <th></th>\n",
       "      <th></th>\n",
       "      <th></th>\n",
       "      <th></th>\n",
       "      <th></th>\n",
       "      <th></th>\n",
       "      <th></th>\n",
       "      <th></th>\n",
       "    </tr>\n",
       "  </thead>\n",
       "  <tbody>\n",
       "    <tr>\n",
       "      <th rowspan=\"2\" valign=\"top\">3</th>\n",
       "      <th>30</th>\n",
       "      <th>Mattenkofen</th>\n",
       "      <td>2021.0</td>\n",
       "      <td>0.188889</td>\n",
       "      <td>-0.544444</td>\n",
       "      <td>1.248889</td>\n",
       "      <td>1.142222</td>\n",
       "      <td>0.933333</td>\n",
       "      <td>1.777778</td>\n",
       "      <td>2.500000</td>\n",
       "      <td>166.666667</td>\n",
       "      <td>3582.333333</td>\n",
       "      <td>...</td>\n",
       "      <td>14.143524</td>\n",
       "      <td>14.205654</td>\n",
       "      <td>14.100197</td>\n",
       "      <td>14.007166</td>\n",
       "      <td>14.058711</td>\n",
       "      <td>13.967061</td>\n",
       "      <td>1.591995</td>\n",
       "      <td>1.916965</td>\n",
       "      <td>1.311231</td>\n",
       "      <td>2.353623</td>\n",
       "    </tr>\n",
       "    <tr>\n",
       "      <th>31</th>\n",
       "      <th>Mattenkofen</th>\n",
       "      <td>2021.0</td>\n",
       "      <td>2.300000</td>\n",
       "      <td>1.637500</td>\n",
       "      <td>0.818750</td>\n",
       "      <td>0.723333</td>\n",
       "      <td>1.016667</td>\n",
       "      <td>1.737500</td>\n",
       "      <td>2.883333</td>\n",
       "      <td>173.791667</td>\n",
       "      <td>4660.791667</td>\n",
       "      <td>...</td>\n",
       "      <td>14.590180</td>\n",
       "      <td>14.653174</td>\n",
       "      <td>14.545749</td>\n",
       "      <td>14.356407</td>\n",
       "      <td>14.416168</td>\n",
       "      <td>14.320000</td>\n",
       "      <td>2.408163</td>\n",
       "      <td>2.838883</td>\n",
       "      <td>2.045113</td>\n",
       "      <td>3.187179</td>\n",
       "    </tr>\n",
       "    <tr>\n",
       "      <th rowspan=\"3\" valign=\"top\">4</th>\n",
       "      <th rowspan=\"2\" valign=\"top\">1</th>\n",
       "      <th>Berklingen</th>\n",
       "      <td>2021.0</td>\n",
       "      <td>2.520000</td>\n",
       "      <td>1.600000</td>\n",
       "      <td>0.332000</td>\n",
       "      <td>0.272000</td>\n",
       "      <td>3.980000</td>\n",
       "      <td>5.640000</td>\n",
       "      <td>7.440000</td>\n",
       "      <td>322.800000</td>\n",
       "      <td>1382.200000</td>\n",
       "      <td>...</td>\n",
       "      <td>14.125433</td>\n",
       "      <td>14.188282</td>\n",
       "      <td>14.082756</td>\n",
       "      <td>13.965113</td>\n",
       "      <td>14.018375</td>\n",
       "      <td>13.925566</td>\n",
       "      <td>1.877246</td>\n",
       "      <td>2.225749</td>\n",
       "      <td>1.559281</td>\n",
       "      <td>2.622857</td>\n",
       "    </tr>\n",
       "    <tr>\n",
       "      <th>Mattenkofen</th>\n",
       "      <td>2021.0</td>\n",
       "      <td>3.375000</td>\n",
       "      <td>2.716667</td>\n",
       "      <td>0.786667</td>\n",
       "      <td>0.676250</td>\n",
       "      <td>1.579167</td>\n",
       "      <td>2.404167</td>\n",
       "      <td>3.779167</td>\n",
       "      <td>222.875000</td>\n",
       "      <td>4658.416667</td>\n",
       "      <td>...</td>\n",
       "      <td>14.125433</td>\n",
       "      <td>14.188282</td>\n",
       "      <td>14.082756</td>\n",
       "      <td>13.965113</td>\n",
       "      <td>14.018375</td>\n",
       "      <td>13.925566</td>\n",
       "      <td>1.877246</td>\n",
       "      <td>2.225749</td>\n",
       "      <td>1.559281</td>\n",
       "      <td>2.622857</td>\n",
       "    </tr>\n",
       "    <tr>\n",
       "      <th>2</th>\n",
       "      <th>Berklingen</th>\n",
       "      <td>2021.0</td>\n",
       "      <td>1.312500</td>\n",
       "      <td>0.962500</td>\n",
       "      <td>0.252500</td>\n",
       "      <td>0.228333</td>\n",
       "      <td>3.762500</td>\n",
       "      <td>4.541667</td>\n",
       "      <td>6.775000</td>\n",
       "      <td>298.583333</td>\n",
       "      <td>3359.708333</td>\n",
       "      <td>...</td>\n",
       "      <td>14.056640</td>\n",
       "      <td>14.117397</td>\n",
       "      <td>14.015936</td>\n",
       "      <td>13.868260</td>\n",
       "      <td>13.925498</td>\n",
       "      <td>13.831541</td>\n",
       "      <td>1.890681</td>\n",
       "      <td>2.249104</td>\n",
       "      <td>1.560932</td>\n",
       "      <td>2.690000</td>\n",
       "    </tr>\n",
       "    <tr>\n",
       "      <th>...</th>\n",
       "      <th>...</th>\n",
       "      <th>...</th>\n",
       "      <td>...</td>\n",
       "      <td>...</td>\n",
       "      <td>...</td>\n",
       "      <td>...</td>\n",
       "      <td>...</td>\n",
       "      <td>...</td>\n",
       "      <td>...</td>\n",
       "      <td>...</td>\n",
       "      <td>...</td>\n",
       "      <td>...</td>\n",
       "      <td>...</td>\n",
       "      <td>...</td>\n",
       "      <td>...</td>\n",
       "      <td>...</td>\n",
       "      <td>...</td>\n",
       "      <td>...</td>\n",
       "      <td>...</td>\n",
       "      <td>...</td>\n",
       "      <td>...</td>\n",
       "      <td>...</td>\n",
       "      <td>...</td>\n",
       "    </tr>\n",
       "    <tr>\n",
       "      <th rowspan=\"5\" valign=\"top\">11</th>\n",
       "      <th>8</th>\n",
       "      <th>Stadthagen</th>\n",
       "      <td>2021.0</td>\n",
       "      <td>7.866667</td>\n",
       "      <td>7.604167</td>\n",
       "      <td>0.000000</td>\n",
       "      <td>0.000000</td>\n",
       "      <td>2.895833</td>\n",
       "      <td>3.379167</td>\n",
       "      <td>5.062500</td>\n",
       "      <td>294.000000</td>\n",
       "      <td>2396.708333</td>\n",
       "      <td>...</td>\n",
       "      <td>14.079854</td>\n",
       "      <td>14.140093</td>\n",
       "      <td>14.039561</td>\n",
       "      <td>13.932247</td>\n",
       "      <td>13.993551</td>\n",
       "      <td>13.892287</td>\n",
       "      <td>1.905340</td>\n",
       "      <td>2.293689</td>\n",
       "      <td>1.555825</td>\n",
       "      <td>2.743478</td>\n",
       "    </tr>\n",
       "    <tr>\n",
       "      <th>9</th>\n",
       "      <th>Stadthagen</th>\n",
       "      <td>2021.0</td>\n",
       "      <td>7.116667</td>\n",
       "      <td>6.479167</td>\n",
       "      <td>0.069583</td>\n",
       "      <td>0.052083</td>\n",
       "      <td>1.595833</td>\n",
       "      <td>2.033333</td>\n",
       "      <td>2.983333</td>\n",
       "      <td>308.958333</td>\n",
       "      <td>3353.333333</td>\n",
       "      <td>...</td>\n",
       "      <td>14.184341</td>\n",
       "      <td>14.245027</td>\n",
       "      <td>14.144288</td>\n",
       "      <td>13.968884</td>\n",
       "      <td>14.030780</td>\n",
       "      <td>13.932056</td>\n",
       "      <td>2.333333</td>\n",
       "      <td>2.753676</td>\n",
       "      <td>1.965686</td>\n",
       "      <td>3.004412</td>\n",
       "    </tr>\n",
       "    <tr>\n",
       "      <th>10</th>\n",
       "      <th>Stadthagen</th>\n",
       "      <td>2021.0</td>\n",
       "      <td>2.787500</td>\n",
       "      <td>2.216667</td>\n",
       "      <td>0.010000</td>\n",
       "      <td>0.004583</td>\n",
       "      <td>2.108333</td>\n",
       "      <td>2.550000</td>\n",
       "      <td>3.216667</td>\n",
       "      <td>317.208333</td>\n",
       "      <td>3125.916667</td>\n",
       "      <td>...</td>\n",
       "      <td>14.490774</td>\n",
       "      <td>14.552054</td>\n",
       "      <td>14.451246</td>\n",
       "      <td>14.185791</td>\n",
       "      <td>14.244512</td>\n",
       "      <td>14.145455</td>\n",
       "      <td>2.112270</td>\n",
       "      <td>2.553374</td>\n",
       "      <td>1.735583</td>\n",
       "      <td>3.341176</td>\n",
       "    </tr>\n",
       "    <tr>\n",
       "      <th>11</th>\n",
       "      <th>Stadthagen</th>\n",
       "      <td>2021.0</td>\n",
       "      <td>7.158333</td>\n",
       "      <td>6.895833</td>\n",
       "      <td>0.000000</td>\n",
       "      <td>0.000000</td>\n",
       "      <td>2.225000</td>\n",
       "      <td>2.670833</td>\n",
       "      <td>3.516667</td>\n",
       "      <td>316.583333</td>\n",
       "      <td>2142.166667</td>\n",
       "      <td>...</td>\n",
       "      <td>14.792334</td>\n",
       "      <td>14.849361</td>\n",
       "      <td>14.752724</td>\n",
       "      <td>14.445999</td>\n",
       "      <td>14.501345</td>\n",
       "      <td>14.408473</td>\n",
       "      <td>1.561619</td>\n",
       "      <td>1.923973</td>\n",
       "      <td>1.262416</td>\n",
       "      <td>3.300000</td>\n",
       "    </tr>\n",
       "    <tr>\n",
       "      <th>12</th>\n",
       "      <th>Stadthagen</th>\n",
       "      <td>2021.0</td>\n",
       "      <td>7.057143</td>\n",
       "      <td>6.628571</td>\n",
       "      <td>0.007143</td>\n",
       "      <td>0.005000</td>\n",
       "      <td>1.707143</td>\n",
       "      <td>2.078571</td>\n",
       "      <td>2.892857</td>\n",
       "      <td>147.071429</td>\n",
       "      <td>4260.142857</td>\n",
       "      <td>...</td>\n",
       "      <td>15.021132</td>\n",
       "      <td>15.075869</td>\n",
       "      <td>14.982686</td>\n",
       "      <td>14.675460</td>\n",
       "      <td>14.733129</td>\n",
       "      <td>14.638378</td>\n",
       "      <td>1.555556</td>\n",
       "      <td>1.880819</td>\n",
       "      <td>1.235878</td>\n",
       "      <td>2.894118</td>\n",
       "    </tr>\n",
       "  </tbody>\n",
       "</table>\n",
       "<p>2252 rows × 54 columns</p>\n",
       "</div>"
      ],
      "text/plain": [
       "                         jahr  taupunkt_[°c]_avg  taupunkt_[°c]_min  \\\n",
       "monat tag standort                                                    \n",
       "3     30  Mattenkofen  2021.0           0.188889          -0.544444   \n",
       "      31  Mattenkofen  2021.0           2.300000           1.637500   \n",
       "4     1   Berklingen   2021.0           2.520000           1.600000   \n",
       "          Mattenkofen  2021.0           3.375000           2.716667   \n",
       "      2   Berklingen   2021.0           1.312500           0.962500   \n",
       "...                       ...                ...                ...   \n",
       "11    8   Stadthagen   2021.0           7.866667           7.604167   \n",
       "      9   Stadthagen   2021.0           7.116667           6.479167   \n",
       "      10  Stadthagen   2021.0           2.787500           2.216667   \n",
       "      11  Stadthagen   2021.0           7.158333           6.895833   \n",
       "      12  Stadthagen   2021.0           7.057143           6.628571   \n",
       "\n",
       "                       sättigungsdampfdruckdefizit_[kpa]_avg_  \\\n",
       "monat tag standort                                              \n",
       "3     30  Mattenkofen                                1.248889   \n",
       "      31  Mattenkofen                                0.818750   \n",
       "4     1   Berklingen                                 0.332000   \n",
       "          Mattenkofen                                0.786667   \n",
       "      2   Berklingen                                 0.252500   \n",
       "...                                                       ...   \n",
       "11    8   Stadthagen                                 0.000000   \n",
       "      9   Stadthagen                                 0.069583   \n",
       "      10  Stadthagen                                 0.010000   \n",
       "      11  Stadthagen                                 0.000000   \n",
       "      12  Stadthagen                                 0.007143   \n",
       "\n",
       "                       sättigungsdampfdruckdefizit_[kpa]_min  \\\n",
       "monat tag standort                                             \n",
       "3     30  Mattenkofen                               1.142222   \n",
       "      31  Mattenkofen                               0.723333   \n",
       "4     1   Berklingen                                0.272000   \n",
       "          Mattenkofen                               0.676250   \n",
       "      2   Berklingen                                0.228333   \n",
       "...                                                      ...   \n",
       "11    8   Stadthagen                                0.000000   \n",
       "      9   Stadthagen                                0.052083   \n",
       "      10  Stadthagen                                0.004583   \n",
       "      11  Stadthagen                                0.000000   \n",
       "      12  Stadthagen                                0.005000   \n",
       "\n",
       "                       u-sonic_wind_speed_[m/s]_avg  \\\n",
       "monat tag standort                                    \n",
       "3     30  Mattenkofen                      0.933333   \n",
       "      31  Mattenkofen                      1.016667   \n",
       "4     1   Berklingen                       3.980000   \n",
       "          Mattenkofen                      1.579167   \n",
       "      2   Berklingen                       3.762500   \n",
       "...                                             ...   \n",
       "11    8   Stadthagen                       2.895833   \n",
       "      9   Stadthagen                       1.595833   \n",
       "      10  Stadthagen                       2.108333   \n",
       "      11  Stadthagen                       2.225000   \n",
       "      12  Stadthagen                       1.707143   \n",
       "\n",
       "                       u-sonic_wind_speed_[m/s]_max  windspitzen_[m/s]  \\\n",
       "monat tag standort                                                       \n",
       "3     30  Mattenkofen                      1.777778           2.500000   \n",
       "      31  Mattenkofen                      1.737500           2.883333   \n",
       "4     1   Berklingen                       5.640000           7.440000   \n",
       "          Mattenkofen                      2.404167           3.779167   \n",
       "      2   Berklingen                       4.541667           6.775000   \n",
       "...                                             ...                ...   \n",
       "11    8   Stadthagen                       3.379167           5.062500   \n",
       "      9   Stadthagen                       2.033333           2.983333   \n",
       "      10  Stadthagen                       2.550000           3.216667   \n",
       "      11  Stadthagen                       2.670833           3.516667   \n",
       "      12  Stadthagen                       2.078571           2.892857   \n",
       "\n",
       "                       u-sonic_wind_dir_[deg]  solarpanel_[mv]  ...  \\\n",
       "monat tag standort                                              ...   \n",
       "3     30  Mattenkofen              166.666667      3582.333333  ...   \n",
       "      31  Mattenkofen              173.791667      4660.791667  ...   \n",
       "4     1   Berklingen               322.800000      1382.200000  ...   \n",
       "          Mattenkofen              222.875000      4658.416667  ...   \n",
       "      2   Berklingen               298.583333      3359.708333  ...   \n",
       "...                                       ...              ...  ...   \n",
       "11    8   Stadthagen               294.000000      2396.708333  ...   \n",
       "      9   Stadthagen               308.958333      3353.333333  ...   \n",
       "      10  Stadthagen               317.208333      3125.916667  ...   \n",
       "      11  Stadthagen               316.583333      2142.166667  ...   \n",
       "      12  Stadthagen               147.071429      4260.142857  ...   \n",
       "\n",
       "                       bodentemperatur_5_[°c]_avg_mean  \\\n",
       "monat tag standort                                       \n",
       "3     30  Mattenkofen                        14.143524   \n",
       "      31  Mattenkofen                        14.590180   \n",
       "4     1   Berklingen                         14.125433   \n",
       "          Mattenkofen                        14.125433   \n",
       "      2   Berklingen                         14.056640   \n",
       "...                                                ...   \n",
       "11    8   Stadthagen                         14.079854   \n",
       "      9   Stadthagen                         14.184341   \n",
       "      10  Stadthagen                         14.490774   \n",
       "      11  Stadthagen                         14.792334   \n",
       "      12  Stadthagen                         15.021132   \n",
       "\n",
       "                       bodentemperatur_5_[°c]_max_mean  \\\n",
       "monat tag standort                                       \n",
       "3     30  Mattenkofen                        14.205654   \n",
       "      31  Mattenkofen                        14.653174   \n",
       "4     1   Berklingen                         14.188282   \n",
       "          Mattenkofen                        14.188282   \n",
       "      2   Berklingen                         14.117397   \n",
       "...                                                ...   \n",
       "11    8   Stadthagen                         14.140093   \n",
       "      9   Stadthagen                         14.245027   \n",
       "      10  Stadthagen                         14.552054   \n",
       "      11  Stadthagen                         14.849361   \n",
       "      12  Stadthagen                         15.075869   \n",
       "\n",
       "                       bodentemperatur_5_[°c]_min_mean  \\\n",
       "monat tag standort                                       \n",
       "3     30  Mattenkofen                        14.100197   \n",
       "      31  Mattenkofen                        14.545749   \n",
       "4     1   Berklingen                         14.082756   \n",
       "          Mattenkofen                        14.082756   \n",
       "      2   Berklingen                         14.015936   \n",
       "...                                                ...   \n",
       "11    8   Stadthagen                         14.039561   \n",
       "      9   Stadthagen                         14.144288   \n",
       "      10  Stadthagen                         14.451246   \n",
       "      11  Stadthagen                         14.752724   \n",
       "      12  Stadthagen                         14.982686   \n",
       "\n",
       "                       bodentemperatur_6_[°c]_avg_mean  \\\n",
       "monat tag standort                                       \n",
       "3     30  Mattenkofen                        14.007166   \n",
       "      31  Mattenkofen                        14.356407   \n",
       "4     1   Berklingen                         13.965113   \n",
       "          Mattenkofen                        13.965113   \n",
       "      2   Berklingen                         13.868260   \n",
       "...                                                ...   \n",
       "11    8   Stadthagen                         13.932247   \n",
       "      9   Stadthagen                         13.968884   \n",
       "      10  Stadthagen                         14.185791   \n",
       "      11  Stadthagen                         14.445999   \n",
       "      12  Stadthagen                         14.675460   \n",
       "\n",
       "                       bodentemperatur_6_[°c]_max_mean  \\\n",
       "monat tag standort                                       \n",
       "3     30  Mattenkofen                        14.058711   \n",
       "      31  Mattenkofen                        14.416168   \n",
       "4     1   Berklingen                         14.018375   \n",
       "          Mattenkofen                        14.018375   \n",
       "      2   Berklingen                         13.925498   \n",
       "...                                                ...   \n",
       "11    8   Stadthagen                         13.993551   \n",
       "      9   Stadthagen                         14.030780   \n",
       "      10  Stadthagen                         14.244512   \n",
       "      11  Stadthagen                         14.501345   \n",
       "      12  Stadthagen                         14.733129   \n",
       "\n",
       "                       bodentemperatur_6_[°c]_min_mean  deltat_[°c]_avg_mean  \\\n",
       "monat tag standort                                                             \n",
       "3     30  Mattenkofen                        13.967061              1.591995   \n",
       "      31  Mattenkofen                        14.320000              2.408163   \n",
       "4     1   Berklingen                         13.925566              1.877246   \n",
       "          Mattenkofen                        13.925566              1.877246   \n",
       "      2   Berklingen                         13.831541              1.890681   \n",
       "...                                                ...                   ...   \n",
       "11    8   Stadthagen                         13.892287              1.905340   \n",
       "      9   Stadthagen                         13.932056              2.333333   \n",
       "      10  Stadthagen                         14.145455              2.112270   \n",
       "      11  Stadthagen                         14.408473              1.561619   \n",
       "      12  Stadthagen                         14.638378              1.555556   \n",
       "\n",
       "                       deltat_[°c]_max_mean  deltat_[°c]min_mean  \\\n",
       "monat tag standort                                                 \n",
       "3     30  Mattenkofen              1.916965             1.311231   \n",
       "      31  Mattenkofen              2.838883             2.045113   \n",
       "4     1   Berklingen               2.225749             1.559281   \n",
       "          Mattenkofen              2.225749             1.559281   \n",
       "      2   Berklingen               2.249104             1.560932   \n",
       "...                                     ...                  ...   \n",
       "11    8   Stadthagen               2.293689             1.555825   \n",
       "      9   Stadthagen               2.753676             1.965686   \n",
       "      10  Stadthagen               2.553374             1.735583   \n",
       "      11  Stadthagen               1.923973             1.262416   \n",
       "      12  Stadthagen               1.880819             1.235878   \n",
       "\n",
       "                       et0_[mm]_mean  \n",
       "monat tag standort                    \n",
       "3     30  Mattenkofen       2.353623  \n",
       "      31  Mattenkofen       3.187179  \n",
       "4     1   Berklingen        2.622857  \n",
       "          Mattenkofen       2.622857  \n",
       "      2   Berklingen        2.690000  \n",
       "...                              ...  \n",
       "11    8   Stadthagen        2.743478  \n",
       "      9   Stadthagen        3.004412  \n",
       "      10  Stadthagen        3.341176  \n",
       "      11  Stadthagen        3.300000  \n",
       "      12  Stadthagen        2.894118  \n",
       "\n",
       "[2252 rows x 54 columns]"
      ]
     },
     "execution_count": 49,
     "metadata": {},
     "output_type": "execute_result"
    }
   ],
   "source": [
    "df_weatherstations_daily.groupby(['monat', 'tag', 'standort']).mean()\n"
   ]
  },
  {
   "cell_type": "code",
   "execution_count": 50,
   "metadata": {},
   "outputs": [
    {
     "name": "stderr",
     "output_type": "stream",
     "text": [
      "/var/folders/r8/96vp6rrx3633scm80v59y52c0000gn/T/ipykernel_1488/2940331773.py:1: FutureWarning: The default value of numeric_only in DataFrameGroupBy.mean is deprecated. In a future version, numeric_only will default to False. Either specify numeric_only or select only columns which should be valid for the function.\n",
      "  df_weatherstations_yearly = df_weatherstations_daily.groupby('standort', as_index=False).mean()\n"
     ]
    }
   ],
   "source": [
    "df_weatherstations_yearly = df_weatherstations_daily.groupby('standort', as_index=False).mean()"
   ]
  },
  {
   "cell_type": "code",
   "execution_count": 51,
   "metadata": {},
   "outputs": [
    {
     "data": {
      "text/plain": [
       "array(['Anklam', 'Bautzen', 'Berklingen', 'Emmeloord', 'Groningen',\n",
       "       'Herchsheim 1', 'Lamotte', 'Lelystad', 'Mattenkofen', 'Peine',\n",
       "       'Soest', 'Söllingen', 'Sommepy', 'Stadthagen'], dtype=object)"
      ]
     },
     "execution_count": 51,
     "metadata": {},
     "output_type": "execute_result"
    }
   ],
   "source": [
    "df_weatherstations_daily.standort.unique()"
   ]
  },
  {
   "cell_type": "code",
   "execution_count": 52,
   "metadata": {},
   "outputs": [
    {
     "data": {
      "text/html": [
       "<div>\n",
       "<style scoped>\n",
       "    .dataframe tbody tr th:only-of-type {\n",
       "        vertical-align: middle;\n",
       "    }\n",
       "\n",
       "    .dataframe tbody tr th {\n",
       "        vertical-align: top;\n",
       "    }\n",
       "\n",
       "    .dataframe thead th {\n",
       "        text-align: right;\n",
       "    }\n",
       "</style>\n",
       "<table border=\"1\" class=\"dataframe\">\n",
       "  <thead>\n",
       "    <tr style=\"text-align: right;\">\n",
       "      <th></th>\n",
       "      <th>standort</th>\n",
       "      <th>tag</th>\n",
       "      <th>monat</th>\n",
       "      <th>jahr</th>\n",
       "      <th>taupunkt_[°c]_avg</th>\n",
       "      <th>taupunkt_[°c]_min</th>\n",
       "      <th>sättigungsdampfdruckdefizit_[kpa]_avg_</th>\n",
       "      <th>sättigungsdampfdruckdefizit_[kpa]_min</th>\n",
       "      <th>u-sonic_wind_speed_[m/s]_avg</th>\n",
       "      <th>u-sonic_wind_speed_[m/s]_max</th>\n",
       "      <th>...</th>\n",
       "      <th>bodentemperatur_5_[°c]_avg_mean</th>\n",
       "      <th>bodentemperatur_5_[°c]_max_mean</th>\n",
       "      <th>bodentemperatur_5_[°c]_min_mean</th>\n",
       "      <th>bodentemperatur_6_[°c]_avg_mean</th>\n",
       "      <th>bodentemperatur_6_[°c]_max_mean</th>\n",
       "      <th>bodentemperatur_6_[°c]_min_mean</th>\n",
       "      <th>deltat_[°c]_avg_mean</th>\n",
       "      <th>deltat_[°c]_max_mean</th>\n",
       "      <th>deltat_[°c]min_mean</th>\n",
       "      <th>et0_[mm]_mean</th>\n",
       "    </tr>\n",
       "  </thead>\n",
       "  <tbody>\n",
       "    <tr>\n",
       "      <th>0</th>\n",
       "      <td>Anklam</td>\n",
       "      <td>16.137537</td>\n",
       "      <td>7.167795</td>\n",
       "      <td>2021.0</td>\n",
       "      <td>11.936635</td>\n",
       "      <td>11.395005</td>\n",
       "      <td>0.268423</td>\n",
       "      <td>0.216614</td>\n",
       "      <td>1.834470</td>\n",
       "      <td>2.316261</td>\n",
       "      <td>...</td>\n",
       "      <td>14.485558</td>\n",
       "      <td>14.545537</td>\n",
       "      <td>14.444841</td>\n",
       "      <td>14.270432</td>\n",
       "      <td>14.326692</td>\n",
       "      <td>14.232041</td>\n",
       "      <td>1.766576</td>\n",
       "      <td>2.138238</td>\n",
       "      <td>1.437968</td>\n",
       "      <td>2.858917</td>\n",
       "    </tr>\n",
       "    <tr>\n",
       "      <th>1</th>\n",
       "      <td>Bautzen</td>\n",
       "      <td>15.339609</td>\n",
       "      <td>7.170424</td>\n",
       "      <td>2021.0</td>\n",
       "      <td>7.927063</td>\n",
       "      <td>7.242354</td>\n",
       "      <td>0.382992</td>\n",
       "      <td>0.311551</td>\n",
       "      <td>1.470746</td>\n",
       "      <td>1.886797</td>\n",
       "      <td>...</td>\n",
       "      <td>14.463174</td>\n",
       "      <td>14.523149</td>\n",
       "      <td>14.422454</td>\n",
       "      <td>14.246819</td>\n",
       "      <td>14.303266</td>\n",
       "      <td>14.208427</td>\n",
       "      <td>1.768293</td>\n",
       "      <td>2.139624</td>\n",
       "      <td>1.439632</td>\n",
       "      <td>2.859913</td>\n",
       "    </tr>\n",
       "    <tr>\n",
       "      <th>2</th>\n",
       "      <td>Berklingen</td>\n",
       "      <td>15.844347</td>\n",
       "      <td>6.030857</td>\n",
       "      <td>2021.0</td>\n",
       "      <td>10.288968</td>\n",
       "      <td>9.713654</td>\n",
       "      <td>0.411136</td>\n",
       "      <td>0.340011</td>\n",
       "      <td>1.855762</td>\n",
       "      <td>2.485090</td>\n",
       "      <td>...</td>\n",
       "      <td>14.478588</td>\n",
       "      <td>14.538564</td>\n",
       "      <td>14.437869</td>\n",
       "      <td>14.262503</td>\n",
       "      <td>14.318875</td>\n",
       "      <td>14.224125</td>\n",
       "      <td>1.769179</td>\n",
       "      <td>2.140890</td>\n",
       "      <td>1.440443</td>\n",
       "      <td>2.861163</td>\n",
       "    </tr>\n",
       "    <tr>\n",
       "      <th>3</th>\n",
       "      <td>Emmeloord</td>\n",
       "      <td>15.880945</td>\n",
       "      <td>6.486389</td>\n",
       "      <td>2021.0</td>\n",
       "      <td>12.409243</td>\n",
       "      <td>11.917589</td>\n",
       "      <td>0.310826</td>\n",
       "      <td>0.257975</td>\n",
       "      <td>1.840802</td>\n",
       "      <td>2.353634</td>\n",
       "      <td>...</td>\n",
       "      <td>14.440069</td>\n",
       "      <td>14.500127</td>\n",
       "      <td>14.399298</td>\n",
       "      <td>14.229693</td>\n",
       "      <td>14.286030</td>\n",
       "      <td>14.191268</td>\n",
       "      <td>1.767615</td>\n",
       "      <td>2.138949</td>\n",
       "      <td>1.439262</td>\n",
       "      <td>2.850214</td>\n",
       "    </tr>\n",
       "    <tr>\n",
       "      <th>4</th>\n",
       "      <td>Groningen</td>\n",
       "      <td>18.040174</td>\n",
       "      <td>4.803474</td>\n",
       "      <td>2021.0</td>\n",
       "      <td>6.743974</td>\n",
       "      <td>6.218567</td>\n",
       "      <td>0.208806</td>\n",
       "      <td>0.168154</td>\n",
       "      <td>3.118350</td>\n",
       "      <td>3.867318</td>\n",
       "      <td>...</td>\n",
       "      <td>14.406008</td>\n",
       "      <td>14.466057</td>\n",
       "      <td>14.365143</td>\n",
       "      <td>14.201975</td>\n",
       "      <td>14.257882</td>\n",
       "      <td>14.163469</td>\n",
       "      <td>1.762265</td>\n",
       "      <td>2.133228</td>\n",
       "      <td>1.436684</td>\n",
       "      <td>2.839847</td>\n",
       "    </tr>\n",
       "  </tbody>\n",
       "</table>\n",
       "<p>5 rows × 57 columns</p>\n",
       "</div>"
      ],
      "text/plain": [
       "     standort        tag     monat    jahr  taupunkt_[°c]_avg  \\\n",
       "0      Anklam  16.137537  7.167795  2021.0          11.936635   \n",
       "1     Bautzen  15.339609  7.170424  2021.0           7.927063   \n",
       "2  Berklingen  15.844347  6.030857  2021.0          10.288968   \n",
       "3   Emmeloord  15.880945  6.486389  2021.0          12.409243   \n",
       "4   Groningen  18.040174  4.803474  2021.0           6.743974   \n",
       "\n",
       "   taupunkt_[°c]_min  sättigungsdampfdruckdefizit_[kpa]_avg_  \\\n",
       "0          11.395005                                0.268423   \n",
       "1           7.242354                                0.382992   \n",
       "2           9.713654                                0.411136   \n",
       "3          11.917589                                0.310826   \n",
       "4           6.218567                                0.208806   \n",
       "\n",
       "   sättigungsdampfdruckdefizit_[kpa]_min  u-sonic_wind_speed_[m/s]_avg  \\\n",
       "0                               0.216614                      1.834470   \n",
       "1                               0.311551                      1.470746   \n",
       "2                               0.340011                      1.855762   \n",
       "3                               0.257975                      1.840802   \n",
       "4                               0.168154                      3.118350   \n",
       "\n",
       "   u-sonic_wind_speed_[m/s]_max  ...  bodentemperatur_5_[°c]_avg_mean  \\\n",
       "0                      2.316261  ...                        14.485558   \n",
       "1                      1.886797  ...                        14.463174   \n",
       "2                      2.485090  ...                        14.478588   \n",
       "3                      2.353634  ...                        14.440069   \n",
       "4                      3.867318  ...                        14.406008   \n",
       "\n",
       "   bodentemperatur_5_[°c]_max_mean  bodentemperatur_5_[°c]_min_mean  \\\n",
       "0                        14.545537                        14.444841   \n",
       "1                        14.523149                        14.422454   \n",
       "2                        14.538564                        14.437869   \n",
       "3                        14.500127                        14.399298   \n",
       "4                        14.466057                        14.365143   \n",
       "\n",
       "   bodentemperatur_6_[°c]_avg_mean  bodentemperatur_6_[°c]_max_mean  \\\n",
       "0                        14.270432                        14.326692   \n",
       "1                        14.246819                        14.303266   \n",
       "2                        14.262503                        14.318875   \n",
       "3                        14.229693                        14.286030   \n",
       "4                        14.201975                        14.257882   \n",
       "\n",
       "   bodentemperatur_6_[°c]_min_mean  deltat_[°c]_avg_mean  \\\n",
       "0                        14.232041              1.766576   \n",
       "1                        14.208427              1.768293   \n",
       "2                        14.224125              1.769179   \n",
       "3                        14.191268              1.767615   \n",
       "4                        14.163469              1.762265   \n",
       "\n",
       "   deltat_[°c]_max_mean  deltat_[°c]min_mean  et0_[mm]_mean  \n",
       "0              2.138238             1.437968       2.858917  \n",
       "1              2.139624             1.439632       2.859913  \n",
       "2              2.140890             1.440443       2.861163  \n",
       "3              2.138949             1.439262       2.850214  \n",
       "4              2.133228             1.436684       2.839847  \n",
       "\n",
       "[5 rows x 57 columns]"
      ]
     },
     "execution_count": 52,
     "metadata": {},
     "output_type": "execute_result"
    }
   ],
   "source": [
    "df_weatherstations_yearly.head()"
   ]
  },
  {
   "cell_type": "code",
   "execution_count": 53,
   "metadata": {},
   "outputs": [
    {
     "data": {
      "text/plain": [
       "Index(['standort', 'tag', 'monat', 'jahr', 'taupunkt_[°c]_avg',\n",
       "       'taupunkt_[°c]_min', 'sättigungsdampfdruckdefizit_[kpa]_avg_',\n",
       "       'sättigungsdampfdruckdefizit_[kpa]_min', 'u-sonic_wind_speed_[m/s]_avg',\n",
       "       'u-sonic_wind_speed_[m/s]_max', 'windspitzen_[m/s]',\n",
       "       'u-sonic_wind_dir_[deg]', 'solarpanel_[mv]', 'batterie_[mv]',\n",
       "       'lufttemperatur_[°c]avg_mean', 'lufttemperatur_[°c]max_mean',\n",
       "       'lufttemperatur_[°c]min_mean', 'solarstrahlung_[w/m2]_mean',\n",
       "       'relative_luftfeuchtigkeit_[%]_avg_mean',\n",
       "       'relative_luftfeuchtigkeit_[%]_max_mean',\n",
       "       'relative_luftfeuchtigkeit_[%]_min_mean', 'niederschlag_[mm]_mean',\n",
       "       'blattnässe_[min]_mean', 'eag_bodenfeuchte_1_[%]_mean',\n",
       "       'eag_bodenfeuchte_2_[%]_mean', 'eag_bodenfeuchte_3_[%]_mean',\n",
       "       'eag_bodenfeuchte_4_[%]_mean', 'eag_bodenfeuchte_5_[%]_mean',\n",
       "       'eag_bodenfeuchte_6_[%]_mean', 'eag_bodensalzgehalt_1_[vic]_mean',\n",
       "       'eag_bodensalzgehalt_2_[vic]_mean', 'eag_bodensalzgehalt_3_[vic]_mean',\n",
       "       'eag_bodensalzgehalt_4_[vic]_mean', 'eag_bodensalzgehalt_5_[vic]_mean',\n",
       "       'eag_bodensalzgehalt_6_[vic]_mean', 'bodentemperatur_1_[°c]_avg_mean',\n",
       "       'bodentemperatur_1_[°c]_max_mean', 'bodentemperatur_1_[°c]_min_mean',\n",
       "       'bodentemperatur_2_[°c]_avg_mean', 'bodentemperatur_2_[°c]_max_mean',\n",
       "       'bodentemperatur_2_[°c]_min_mean', 'bodentemperatur_3_[°c]_avg_mean',\n",
       "       'bodentemperatur_3_[°c]_max_mean', 'bodentemperatur_3_[°c]_min_mean',\n",
       "       'bodentemperatur_4_[°c]_avg_mean', 'bodentemperatur_4_[°c]_max_mean',\n",
       "       'bodentemperatur_4_[°c]_min_mean', 'bodentemperatur_5_[°c]_avg_mean',\n",
       "       'bodentemperatur_5_[°c]_max_mean', 'bodentemperatur_5_[°c]_min_mean',\n",
       "       'bodentemperatur_6_[°c]_avg_mean', 'bodentemperatur_6_[°c]_max_mean',\n",
       "       'bodentemperatur_6_[°c]_min_mean', 'deltat_[°c]_avg_mean',\n",
       "       'deltat_[°c]_max_mean', 'deltat_[°c]min_mean', 'et0_[mm]_mean'],\n",
       "      dtype='object')"
      ]
     },
     "execution_count": 53,
     "metadata": {},
     "output_type": "execute_result"
    }
   ],
   "source": [
    "df_weatherstations_yearly.columns"
   ]
  },
  {
   "cell_type": "code",
   "execution_count": 54,
   "metadata": {},
   "outputs": [
    {
     "data": {
      "text/plain": [
       "<AxesSubplot:xlabel='lufttemperatur_[°c]avg_mean', ylabel='standort'>"
      ]
     },
     "execution_count": 54,
     "metadata": {},
     "output_type": "execute_result"
    },
    {
     "data": {
      "image/png": "[encoded data removed]",
      "text/plain": [
       "<Figure size 640x480 with 1 Axes>"
      ]
     },
     "metadata": {},
     "output_type": "display_data"
    }
   ],
   "source": [
    "sns.barplot(data=df_weatherstations_yearly, x='lufttemperatur_[°c]avg_mean', y='standort')"
   ]
  },
  {
   "cell_type": "code",
   "execution_count": 55,
   "metadata": {},
   "outputs": [
    {
     "data": {
      "text/plain": [
       "<AxesSubplot:xlabel='lufttemperatur_[°c]avg_mean', ylabel='standort'>"
      ]
     },
     "execution_count": 55,
     "metadata": {},
     "output_type": "execute_result"
    },
    {
     "data": {
      "image/png": "[encoded data removed]",
      "text/plain": [
       "<Figure size 640x480 with 1 Axes>"
      ]
     },
     "metadata": {},
     "output_type": "display_data"
    }
   ],
   "source": [
    "sns.stripplot(data=df_weatherstations_daily, x='lufttemperatur_[°c]avg_mean', y='standort', hue='monat')"
   ]
  },
  {
   "cell_type": "code",
   "execution_count": 56,
   "metadata": {},
   "outputs": [],
   "source": [
    "beetloc = df_data.locationid.unique().tolist()"
   ]
  },
  {
   "cell_type": "code",
   "execution_count": 57,
   "metadata": {},
   "outputs": [
    {
     "data": {
      "text/plain": [
       "['Emmeloord',\n",
       " 'Lelystad',\n",
       " 'Rittershausen',\n",
       " 'Sommepy',\n",
       " 'Herchsheim',\n",
       " 'Herchsheim_2',\n",
       " 'Lamotte',\n",
       " 'Mattenkofen',\n",
       " 'Pithiviers',\n",
       " 'FR_External',\n",
       " 'Oberviehhausen',\n",
       " 'Vierhoefen',\n",
       " 'Bautzen',\n",
       " 'Stadthagen',\n",
       " 'Goderville',\n",
       " 'Soest',\n",
       " 'Anklam',\n",
       " 'DE_External',\n",
       " 'Hamm']"
      ]
     },
     "execution_count": 57,
     "metadata": {},
     "output_type": "execute_result"
    }
   ],
   "source": [
    "beetloc"
   ]
  },
  {
   "cell_type": "code",
   "execution_count": 58,
   "metadata": {},
   "outputs": [],
   "source": [
    "weatherloc = df_weatherstations.standort.unique().tolist()"
   ]
  },
  {
   "cell_type": "code",
   "execution_count": 59,
   "metadata": {},
   "outputs": [
    {
     "name": "stdout",
     "output_type": "stream",
     "text": [
      "these 19 locations are listed in beetdata: \n",
      " ['Emmeloord', 'Lelystad', 'Rittershausen', 'Sommepy', 'Herchsheim', 'Herchsheim_2', 'Lamotte', 'Mattenkofen', 'Pithiviers', 'FR_External', 'Oberviehhausen', 'Vierhoefen', 'Bautzen', 'Stadthagen', 'Goderville', 'Soest', 'Anklam', 'DE_External', 'Hamm']\n",
      "these 14 locations are listed in weatherdata: \n",
      " ['Anklam', 'Bautzen', 'Berklingen', 'Emmeloord', 'Groningen', 'Herchsheim 1', 'Lamotte', 'Lelystad', 'Mattenkofen', 'Peine', 'Soest', 'Söllingen', 'Sommepy', 'Stadthagen']\n",
      "these locations overlap in weather and beetdata:\n",
      "Emmeloord\n",
      "Lelystad\n",
      "Sommepy\n",
      "Lamotte\n",
      "Mattenkofen\n",
      "Bautzen\n",
      "Stadthagen\n",
      "Soest\n",
      "Anklam\n"
     ]
    }
   ],
   "source": [
    "print(f'these {len(beetloc)} locations are listed in beetdata: \\n {beetloc}')\n",
    "print(f'these {len(weatherloc)} locations are listed in weatherdata: \\n {weatherloc}')\n",
    "print(f'these locations overlap in weather and beetdata:')\n",
    "for loc in beetloc:\n",
    "    for pl in weatherloc:\n",
    "        if loc == pl:\n",
    "            print(loc)\n"
   ]
  },
  {
   "cell_type": "code",
   "execution_count": 60,
   "metadata": {},
   "outputs": [],
   "source": [
    "# change standort and locationid column to location to be able to merge on it\n",
    "df_weatherstations.rename(columns={'standort': 'location'}, inplace=True)\n",
    "df_data.rename(columns={'locationid': 'location'}, inplace=True)\n",
    "df_weatherstations_daily.rename(columns={'standort': 'location'}, inplace=True)\n"
   ]
  },
  {
   "attachments": {},
   "cell_type": "markdown",
   "metadata": {},
   "source": [
    "##### Location plotting"
   ]
  },
  {
   "cell_type": "code",
   "execution_count": 61,
   "metadata": {},
   "outputs": [],
   "source": [
    "import plotly.express as px"
   ]
  },
  {
   "cell_type": "code",
   "execution_count": 62,
   "metadata": {},
   "outputs": [],
   "source": [
    "df_locations = pd.read_csv('data/fieldid_gps_dates.csv')"
   ]
  },
  {
   "cell_type": "code",
   "execution_count": 63,
   "metadata": {},
   "outputs": [
    {
     "data": {
      "text/html": [
       "<div>\n",
       "<style scoped>\n",
       "    .dataframe tbody tr th:only-of-type {\n",
       "        vertical-align: middle;\n",
       "    }\n",
       "\n",
       "    .dataframe tbody tr th {\n",
       "        vertical-align: top;\n",
       "    }\n",
       "\n",
       "    .dataframe thead th {\n",
       "        text-align: right;\n",
       "    }\n",
       "</style>\n",
       "<table border=\"1\" class=\"dataframe\">\n",
       "  <thead>\n",
       "    <tr style=\"text-align: right;\">\n",
       "      <th></th>\n",
       "      <th>fieldid</th>\n",
       "      <th>latitude</th>\n",
       "      <th>longitude</th>\n",
       "      <th>sowing_year</th>\n",
       "      <th>sowing_month</th>\n",
       "      <th>sowing_day</th>\n",
       "      <th>harvesting_year</th>\n",
       "      <th>harvesting_month</th>\n",
       "      <th>havesting_day</th>\n",
       "    </tr>\n",
       "  </thead>\n",
       "  <tbody>\n",
       "    <tr>\n",
       "      <th>0</th>\n",
       "      <td>Herchsheim</td>\n",
       "      <td>49.638659°</td>\n",
       "      <td>9.926104°</td>\n",
       "      <td>2021</td>\n",
       "      <td>4</td>\n",
       "      <td>11</td>\n",
       "      <td>2021</td>\n",
       "      <td>10</td>\n",
       "      <td>13</td>\n",
       "    </tr>\n",
       "    <tr>\n",
       "      <th>1</th>\n",
       "      <td>Herchsheim_2</td>\n",
       "      <td>49.636416°</td>\n",
       "      <td>9.942339°</td>\n",
       "      <td>2021</td>\n",
       "      <td>4</td>\n",
       "      <td>9</td>\n",
       "      <td>2021</td>\n",
       "      <td>9</td>\n",
       "      <td>26</td>\n",
       "    </tr>\n",
       "    <tr>\n",
       "      <th>2</th>\n",
       "      <td>Vierhöfen</td>\n",
       "      <td>48.776446°</td>\n",
       "      <td>12.737804°</td>\n",
       "      <td>2021</td>\n",
       "      <td>3</td>\n",
       "      <td>31</td>\n",
       "      <td>2021</td>\n",
       "      <td>10</td>\n",
       "      <td>11</td>\n",
       "    </tr>\n",
       "    <tr>\n",
       "      <th>3</th>\n",
       "      <td>Söllingen</td>\n",
       "      <td>52.109175°</td>\n",
       "      <td>10.926463°</td>\n",
       "      <td>2021</td>\n",
       "      <td>4</td>\n",
       "      <td>24</td>\n",
       "      <td>2021</td>\n",
       "      <td>11</td>\n",
       "      <td>1</td>\n",
       "    </tr>\n",
       "    <tr>\n",
       "      <th>4</th>\n",
       "      <td>Berklingen</td>\n",
       "      <td>52.102719°</td>\n",
       "      <td>10.732768°</td>\n",
       "      <td>2021</td>\n",
       "      <td>4</td>\n",
       "      <td>1</td>\n",
       "      <td>2021</td>\n",
       "      <td>9</td>\n",
       "      <td>11</td>\n",
       "    </tr>\n",
       "  </tbody>\n",
       "</table>\n",
       "</div>"
      ],
      "text/plain": [
       "        fieldid    latitude   longitude  sowing_year  sowing_month  \\\n",
       "0    Herchsheim  49.638659°   9.926104°         2021             4   \n",
       "1  Herchsheim_2  49.636416°   9.942339°         2021             4   \n",
       "2     Vierhöfen  48.776446°  12.737804°         2021             3   \n",
       "3     Söllingen  52.109175°  10.926463°         2021             4   \n",
       "4    Berklingen  52.102719°  10.732768°         2021             4   \n",
       "\n",
       "   sowing_day  harvesting_year  harvesting_month  havesting_day  \n",
       "0          11             2021                10             13  \n",
       "1           9             2021                 9             26  \n",
       "2          31             2021                10             11  \n",
       "3          24             2021                11              1  \n",
       "4           1             2021                 9             11  "
      ]
     },
     "execution_count": 63,
     "metadata": {},
     "output_type": "execute_result"
    }
   ],
   "source": [
    "df_locations.head()"
   ]
  },
  {
   "cell_type": "code",
   "execution_count": 64,
   "metadata": {},
   "outputs": [],
   "source": [
    "df_locations['latitude'] = df_locations['latitude'].replace(r'°', r'', regex=True)\n",
    "df_locations['longitude'] = df_locations['longitude'].replace(r'°', r'', regex=True)"
   ]
  },
  {
   "cell_type": "code",
   "execution_count": 65,
   "metadata": {},
   "outputs": [],
   "source": [
    "df_locations['latitude'] = df_locations['latitude'].astype(str)\n",
    "df_locations['longitude'] = df_locations['longitude'].astype(str)"
   ]
  },
  {
   "cell_type": "code",
   "execution_count": 66,
   "metadata": {},
   "outputs": [],
   "source": [
    "df_locations['latitude'] = df_locations['latitude'].astype(float)\n",
    "df_locations['longitude'] = df_locations['longitude'].astype(float)"
   ]
  },
  {
   "cell_type": "code",
   "execution_count": 67,
   "metadata": {},
   "outputs": [
    {
     "data": {
      "text/plain": [
       "0     49.638659\n",
       "1     49.636416\n",
       "2     48.776446\n",
       "3     52.109175\n",
       "4     52.102719\n",
       "5     52.260091\n",
       "6     52.698061\n",
       "7     52.552513\n",
       "8     49.603966\n",
       "9     49.251002\n",
       "10    49.879380\n",
       "11    48.776446\n",
       "12    48.169585\n",
       "13    48.702083\n",
       "14    51.201418\n",
       "15    49.645645\n",
       "16    51.599977\n",
       "17    53.939204\n",
       "18    51.609609\n",
       "Name: latitude, dtype: float64"
      ]
     },
     "execution_count": 67,
     "metadata": {},
     "output_type": "execute_result"
    }
   ],
   "source": [
    "df_locations.latitude"
   ]
  },
  {
   "cell_type": "code",
   "execution_count": 68,
   "metadata": {},
   "outputs": [
    {
     "data": {
      "text/html": [
       "<div>\n",
       "<style scoped>\n",
       "    .dataframe tbody tr th:only-of-type {\n",
       "        vertical-align: middle;\n",
       "    }\n",
       "\n",
       "    .dataframe tbody tr th {\n",
       "        vertical-align: top;\n",
       "    }\n",
       "\n",
       "    .dataframe thead th {\n",
       "        text-align: right;\n",
       "    }\n",
       "</style>\n",
       "<table border=\"1\" class=\"dataframe\">\n",
       "  <thead>\n",
       "    <tr style=\"text-align: right;\">\n",
       "      <th></th>\n",
       "      <th>fieldid</th>\n",
       "      <th>latitude</th>\n",
       "      <th>longitude</th>\n",
       "      <th>sowing_year</th>\n",
       "      <th>sowing_month</th>\n",
       "      <th>sowing_day</th>\n",
       "      <th>harvesting_year</th>\n",
       "      <th>harvesting_month</th>\n",
       "      <th>havesting_day</th>\n",
       "    </tr>\n",
       "  </thead>\n",
       "  <tbody>\n",
       "    <tr>\n",
       "      <th>0</th>\n",
       "      <td>Herchsheim</td>\n",
       "      <td>49.638659</td>\n",
       "      <td>9.926104</td>\n",
       "      <td>2021</td>\n",
       "      <td>4</td>\n",
       "      <td>11</td>\n",
       "      <td>2021</td>\n",
       "      <td>10</td>\n",
       "      <td>13</td>\n",
       "    </tr>\n",
       "    <tr>\n",
       "      <th>1</th>\n",
       "      <td>Herchsheim_2</td>\n",
       "      <td>49.636416</td>\n",
       "      <td>9.942339</td>\n",
       "      <td>2021</td>\n",
       "      <td>4</td>\n",
       "      <td>9</td>\n",
       "      <td>2021</td>\n",
       "      <td>9</td>\n",
       "      <td>26</td>\n",
       "    </tr>\n",
       "    <tr>\n",
       "      <th>2</th>\n",
       "      <td>Vierhöfen</td>\n",
       "      <td>48.776446</td>\n",
       "      <td>12.737804</td>\n",
       "      <td>2021</td>\n",
       "      <td>3</td>\n",
       "      <td>31</td>\n",
       "      <td>2021</td>\n",
       "      <td>10</td>\n",
       "      <td>11</td>\n",
       "    </tr>\n",
       "    <tr>\n",
       "      <th>3</th>\n",
       "      <td>Söllingen</td>\n",
       "      <td>52.109175</td>\n",
       "      <td>10.926463</td>\n",
       "      <td>2021</td>\n",
       "      <td>4</td>\n",
       "      <td>24</td>\n",
       "      <td>2021</td>\n",
       "      <td>11</td>\n",
       "      <td>1</td>\n",
       "    </tr>\n",
       "    <tr>\n",
       "      <th>4</th>\n",
       "      <td>Berklingen</td>\n",
       "      <td>52.102719</td>\n",
       "      <td>10.732768</td>\n",
       "      <td>2021</td>\n",
       "      <td>4</td>\n",
       "      <td>1</td>\n",
       "      <td>2021</td>\n",
       "      <td>9</td>\n",
       "      <td>11</td>\n",
       "    </tr>\n",
       "  </tbody>\n",
       "</table>\n",
       "</div>"
      ],
      "text/plain": [
       "        fieldid   latitude  longitude  sowing_year  sowing_month  sowing_day  \\\n",
       "0    Herchsheim  49.638659   9.926104         2021             4          11   \n",
       "1  Herchsheim_2  49.636416   9.942339         2021             4           9   \n",
       "2     Vierhöfen  48.776446  12.737804         2021             3          31   \n",
       "3     Söllingen  52.109175  10.926463         2021             4          24   \n",
       "4    Berklingen  52.102719  10.732768         2021             4           1   \n",
       "\n",
       "   harvesting_year  harvesting_month  havesting_day  \n",
       "0             2021                10             13  \n",
       "1             2021                 9             26  \n",
       "2             2021                10             11  \n",
       "3             2021                11              1  \n",
       "4             2021                 9             11  "
      ]
     },
     "execution_count": 68,
     "metadata": {},
     "output_type": "execute_result"
    }
   ],
   "source": [
    "df_locations.head()"
   ]
  },
  {
   "cell_type": "code",
   "execution_count": 69,
   "metadata": {},
   "outputs": [
    {
     "name": "stdout",
     "output_type": "stream",
     "text": [
      "<class 'pandas.core.frame.DataFrame'>\n",
      "RangeIndex: 19 entries, 0 to 18\n",
      "Data columns (total 9 columns):\n",
      " #   Column            Non-Null Count  Dtype  \n",
      "---  ------            --------------  -----  \n",
      " 0   fieldid           19 non-null     object \n",
      " 1   latitude          19 non-null     float64\n",
      " 2   longitude         19 non-null     float64\n",
      " 3   sowing_year       19 non-null     int64  \n",
      " 4   sowing_month      19 non-null     int64  \n",
      " 5   sowing_day        19 non-null     int64  \n",
      " 6   harvesting_year   19 non-null     int64  \n",
      " 7   harvesting_month  19 non-null     int64  \n",
      " 8   havesting_day     19 non-null     int64  \n",
      "dtypes: float64(2), int64(6), object(1)\n",
      "memory usage: 1.5+ KB\n"
     ]
    }
   ],
   "source": [
    "df_locations.info()"
   ]
  },
  {
   "cell_type": "code",
   "execution_count": 70,
   "metadata": {},
   "outputs": [
    {
     "data": {
      "application/vnd.plotly.v1+json": {
       "config": {
        "plotlyServerURL": "https://plot.ly"
       },
       "data": [
        {
         "hovertemplate": "<b>%{hovertext}</b><br><br>fieldid=Herchsheim<br>latitude=%{lat}<br>longitude=%{lon}<extra></extra>",
         "hovertext": [
          "Herchsheim"
         ],
         "lat": [
          49.638659
         ],
         "legendgroup": "Herchsheim",
         "lon": [
          9.926104
         ],
         "marker": {
          "color": "#636efa"
         },
         "mode": "markers",
         "name": "Herchsheim",
         "showlegend": true,
         "subplot": "mapbox",
         "type": "scattermapbox"
        },
        {
         "hovertemplate": "<b>%{hovertext}</b><br><br>fieldid=Herchsheim_2<br>latitude=%{lat}<br>longitude=%{lon}<extra></extra>",
         "hovertext": [
          "Herchsheim_2"
         ],
         "lat": [
          49.636416
         ],
         "legendgroup": "Herchsheim_2",
         "lon": [
          9.942339
         ],
         "marker": {
          "color": "#EF553B"
         },
         "mode": "markers",
         "name": "Herchsheim_2",
         "showlegend": true,
         "subplot": "mapbox",
         "type": "scattermapbox"
        },
        {
         "hovertemplate": "<b>%{hovertext}</b><br><br>fieldid=Vierhöfen<br>latitude=%{lat}<br>longitude=%{lon}<extra></extra>",
         "hovertext": [
          "Vierhöfen"
         ],
         "lat": [
          48.776446
         ],
         "legendgroup": "Vierhöfen",
         "lon": [
          12.737804
         ],
         "marker": {
          "color": "#00cc96"
         },
         "mode": "markers",
         "name": "Vierhöfen",
         "showlegend": true,
         "subplot": "mapbox",
         "type": "scattermapbox"
        },
        {
         "hovertemplate": "<b>%{hovertext}</b><br><br>fieldid=Söllingen<br>latitude=%{lat}<br>longitude=%{lon}<extra></extra>",
         "hovertext": [
          "Söllingen"
         ],
         "lat": [
          52.109175
         ],
         "legendgroup": "Söllingen",
         "lon": [
          10.926463
         ],
         "marker": {
          "color": "#ab63fa"
         },
         "mode": "markers",
         "name": "Söllingen",
         "showlegend": true,
         "subplot": "mapbox",
         "type": "scattermapbox"
        },
        {
         "hovertemplate": "<b>%{hovertext}</b><br><br>fieldid=Berklingen<br>latitude=%{lat}<br>longitude=%{lon}<extra></extra>",
         "hovertext": [
          "Berklingen"
         ],
         "lat": [
          52.102719
         ],
         "legendgroup": "Berklingen",
         "lon": [
          10.732768
         ],
         "marker": {
          "color": "#FFA15A"
         },
         "mode": "markers",
         "name": "Berklingen",
         "showlegend": true,
         "subplot": "mapbox",
         "type": "scattermapbox"
        },
        {
         "hovertemplate": "<b>%{hovertext}</b><br><br>fieldid=Stadthagen<br>latitude=%{lat}<br>longitude=%{lon}<extra></extra>",
         "hovertext": [
          "Stadthagen"
         ],
         "lat": [
          52.260091
         ],
         "legendgroup": "Stadthagen",
         "lon": [
          10.261494
         ],
         "marker": {
          "color": "#19d3f3"
         },
         "mode": "markers",
         "name": "Stadthagen",
         "showlegend": true,
         "subplot": "mapbox",
         "type": "scattermapbox"
        },
        {
         "hovertemplate": "<b>%{hovertext}</b><br><br>fieldid=Emmeloord<br>latitude=%{lat}<br>longitude=%{lon}<extra></extra>",
         "hovertext": [
          "Emmeloord"
         ],
         "lat": [
          52.698061
         ],
         "legendgroup": "Emmeloord",
         "lon": [
          5.70779
         ],
         "marker": {
          "color": "#FF6692"
         },
         "mode": "markers",
         "name": "Emmeloord",
         "showlegend": true,
         "subplot": "mapbox",
         "type": "scattermapbox"
        },
        {
         "hovertemplate": "<b>%{hovertext}</b><br><br>fieldid=Lelystad<br>latitude=%{lat}<br>longitude=%{lon}<extra></extra>",
         "hovertext": [
          "Lelystad"
         ],
         "lat": [
          52.552513
         ],
         "legendgroup": "Lelystad",
         "lon": [
          5.565183
         ],
         "marker": {
          "color": "#B6E880"
         },
         "mode": "markers",
         "name": "Lelystad",
         "showlegend": true,
         "subplot": "mapbox",
         "type": "scattermapbox"
        },
        {
         "hovertemplate": "<b>%{hovertext}</b><br><br>fieldid=Rittershausen<br>latitude=%{lat}<br>longitude=%{lon}<extra></extra>",
         "hovertext": [
          "Rittershausen"
         ],
         "lat": [
          49.603966
         ],
         "legendgroup": "Rittershausen",
         "lon": [
          10.013308
         ],
         "marker": {
          "color": "#FF97FF"
         },
         "mode": "markers",
         "name": "Rittershausen",
         "showlegend": true,
         "subplot": "mapbox",
         "type": "scattermapbox"
        },
        {
         "hovertemplate": "<b>%{hovertext}</b><br><br>fieldid=Sommepy<br>latitude=%{lat}<br>longitude=%{lon}<extra></extra>",
         "hovertext": [
          "Sommepy"
         ],
         "lat": [
          49.251002
         ],
         "legendgroup": "Sommepy",
         "lon": [
          4.601515
         ],
         "marker": {
          "color": "#FECB52"
         },
         "mode": "markers",
         "name": "Sommepy",
         "showlegend": true,
         "subplot": "mapbox",
         "type": "scattermapbox"
        },
        {
         "hovertemplate": "<b>%{hovertext}</b><br><br>fieldid=Lamotte<br>latitude=%{lat}<br>longitude=%{lon}<extra></extra>",
         "hovertext": [
          "Lamotte"
         ],
         "lat": [
          49.87938
         ],
         "legendgroup": "Lamotte",
         "lon": [
          2.583019
         ],
         "marker": {
          "color": "#636efa"
         },
         "mode": "markers",
         "name": "Lamotte",
         "showlegend": true,
         "subplot": "mapbox",
         "type": "scattermapbox"
        },
        {
         "hovertemplate": "<b>%{hovertext}</b><br><br>fieldid=Mattenkofen<br>latitude=%{lat}<br>longitude=%{lon}<extra></extra>",
         "hovertext": [
          "Mattenkofen"
         ],
         "lat": [
          48.776446
         ],
         "legendgroup": "Mattenkofen",
         "lon": [
          12.737804
         ],
         "marker": {
          "color": "#EF553B"
         },
         "mode": "markers",
         "name": "Mattenkofen",
         "showlegend": true,
         "subplot": "mapbox",
         "type": "scattermapbox"
        },
        {
         "hovertemplate": "<b>%{hovertext}</b><br><br>fieldid=Pithiviers<br>latitude=%{lat}<br>longitude=%{lon}<extra></extra>",
         "hovertext": [
          "Pithiviers"
         ],
         "lat": [
          48.169585
         ],
         "legendgroup": "Pithiviers",
         "lon": [
          2.326618
         ],
         "marker": {
          "color": "#00cc96"
         },
         "mode": "markers",
         "name": "Pithiviers",
         "showlegend": true,
         "subplot": "mapbox",
         "type": "scattermapbox"
        },
        {
         "hovertemplate": "<b>%{hovertext}</b><br><br>fieldid=Oberviehhausen<br>latitude=%{lat}<br>longitude=%{lon}<extra></extra>",
         "hovertext": [
          "Oberviehhausen"
         ],
         "lat": [
          48.702083
         ],
         "legendgroup": "Oberviehhausen",
         "lon": [
          12.862987
         ],
         "marker": {
          "color": "#ab63fa"
         },
         "mode": "markers",
         "name": "Oberviehhausen",
         "showlegend": true,
         "subplot": "mapbox",
         "type": "scattermapbox"
        },
        {
         "hovertemplate": "<b>%{hovertext}</b><br><br>fieldid=Bautzen<br>latitude=%{lat}<br>longitude=%{lon}<extra></extra>",
         "hovertext": [
          "Bautzen"
         ],
         "lat": [
          51.201418
         ],
         "legendgroup": "Bautzen",
         "lon": [
          14.22874
         ],
         "marker": {
          "color": "#FFA15A"
         },
         "mode": "markers",
         "name": "Bautzen",
         "showlegend": true,
         "subplot": "mapbox",
         "type": "scattermapbox"
        },
        {
         "hovertemplate": "<b>%{hovertext}</b><br><br>fieldid=Goderville<br>latitude=%{lat}<br>longitude=%{lon}<extra></extra>",
         "hovertext": [
          "Goderville"
         ],
         "lat": [
          49.645645
         ],
         "legendgroup": "Goderville",
         "lon": [
          0.433038
         ],
         "marker": {
          "color": "#19d3f3"
         },
         "mode": "markers",
         "name": "Goderville",
         "showlegend": true,
         "subplot": "mapbox",
         "type": "scattermapbox"
        },
        {
         "hovertemplate": "<b>%{hovertext}</b><br><br>fieldid=Soest<br>latitude=%{lat}<br>longitude=%{lon}<extra></extra>",
         "hovertext": [
          "Soest"
         ],
         "lat": [
          51.599977
         ],
         "legendgroup": "Soest",
         "lon": [
          8.194384
         ],
         "marker": {
          "color": "#FF6692"
         },
         "mode": "markers",
         "name": "Soest",
         "showlegend": true,
         "subplot": "mapbox",
         "type": "scattermapbox"
        },
        {
         "hovertemplate": "<b>%{hovertext}</b><br><br>fieldid=Anklam<br>latitude=%{lat}<br>longitude=%{lon}<extra></extra>",
         "hovertext": [
          "Anklam"
         ],
         "lat": [
          53.939204
         ],
         "legendgroup": "Anklam",
         "lon": [
          13.595342
         ],
         "marker": {
          "color": "#B6E880"
         },
         "mode": "markers",
         "name": "Anklam",
         "showlegend": true,
         "subplot": "mapbox",
         "type": "scattermapbox"
        },
        {
         "hovertemplate": "<b>%{hovertext}</b><br><br>fieldid=Hamm<br>latitude=%{lat}<br>longitude=%{lon}<extra></extra>",
         "hovertext": [
          "Hamm"
         ],
         "lat": [
          51.609609
         ],
         "legendgroup": "Hamm",
         "lon": [
          7.875865
         ],
         "marker": {
          "color": "#FF97FF"
         },
         "mode": "markers",
         "name": "Hamm",
         "showlegend": true,
         "subplot": "mapbox",
         "type": "scattermapbox"
        }
       ],
       "layout": {
        "legend": {
         "title": {
          "text": "fieldid"
         },
         "tracegroupgap": 0
        },
        "mapbox": {
         "center": {
          "lat": 50.63959973684211,
          "lon": 8.697503421052632
         },
         "domain": {
          "x": [
           0,
           1
          ],
          "y": [
           0,
           1
          ]
         },
         "style": "open-street-map",
         "zoom": 8
        },
        "template": {
         "data": {
          "bar": [
           {
            "error_x": {
             "color": "#2a3f5f"
            },
            "error_y": {
             "color": "#2a3f5f"
            },
            "marker": {
             "line": {
              "color": "#E5ECF6",
              "width": 0.5
             },
             "pattern": {
              "fillmode": "overlay",
              "size": 10,
              "solidity": 0.2
             }
            },
            "type": "bar"
           }
          ],
          "barpolar": [
           {
            "marker": {
             "line": {
              "color": "#E5ECF6",
              "width": 0.5
             },
             "pattern": {
              "fillmode": "overlay",
              "size": 10,
              "solidity": 0.2
             }
            },
            "type": "barpolar"
           }
          ],
          "carpet": [
           {
            "aaxis": {
             "endlinecolor": "#2a3f5f",
             "gridcolor": "white",
             "linecolor": "white",
             "minorgridcolor": "white",
             "startlinecolor": "#2a3f5f"
            },
            "baxis": {
             "endlinecolor": "#2a3f5f",
             "gridcolor": "white",
             "linecolor": "white",
             "minorgridcolor": "white",
             "startlinecolor": "#2a3f5f"
            },
            "type": "carpet"
           }
          ],
          "choropleth": [
           {
            "colorbar": {
             "outlinewidth": 0,
             "ticks": ""
            },
            "type": "choropleth"
           }
          ],
          "contour": [
           {
            "colorbar": {
             "outlinewidth": 0,
             "ticks": ""
            },
            "colorscale": [
             [
              0,
              "#0d0887"
             ],
             [
              0.1111111111111111,
              "#46039f"
             ],
             [
              0.2222222222222222,
              "#7201a8"
             ],
             [
              0.3333333333333333,
              "#9c179e"
             ],
             [
              0.4444444444444444,
              "#bd3786"
             ],
             [
              0.5555555555555556,
              "#d8576b"
             ],
             [
              0.6666666666666666,
              "#ed7953"
             ],
             [
              0.7777777777777778,
              "#fb9f3a"
             ],
             [
              0.8888888888888888,
              "#fdca26"
             ],
             [
              1,
              "#f0f921"
             ]
            ],
            "type": "contour"
           }
          ],
          "contourcarpet": [
           {
            "colorbar": {
             "outlinewidth": 0,
             "ticks": ""
            },
            "type": "contourcarpet"
           }
          ],
          "heatmap": [
           {
            "colorbar": {
             "outlinewidth": 0,
             "ticks": ""
            },
            "colorscale": [
             [
              0,
              "#0d0887"
             ],
             [
              0.1111111111111111,
              "#46039f"
             ],
             [
              0.2222222222222222,
              "#7201a8"
             ],
             [
              0.3333333333333333,
              "#9c179e"
             ],
             [
              0.4444444444444444,
              "#bd3786"
             ],
             [
              0.5555555555555556,
              "#d8576b"
             ],
             [
              0.6666666666666666,
              "#ed7953"
             ],
             [
              0.7777777777777778,
              "#fb9f3a"
             ],
             [
              0.8888888888888888,
              "#fdca26"
             ],
             [
              1,
              "#f0f921"
             ]
            ],
            "type": "heatmap"
           }
          ],
          "heatmapgl": [
           {
            "colorbar": {
             "outlinewidth": 0,
             "ticks": ""
            },
            "colorscale": [
             [
              0,
              "#0d0887"
             ],
             [
              0.1111111111111111,
              "#46039f"
             ],
             [
              0.2222222222222222,
              "#7201a8"
             ],
             [
              0.3333333333333333,
              "#9c179e"
             ],
             [
              0.4444444444444444,
              "#bd3786"
             ],
             [
              0.5555555555555556,
              "#d8576b"
             ],
             [
              0.6666666666666666,
              "#ed7953"
             ],
             [
              0.7777777777777778,
              "#fb9f3a"
             ],
             [
              0.8888888888888888,
              "#fdca26"
             ],
             [
              1,
              "#f0f921"
             ]
            ],
            "type": "heatmapgl"
           }
          ],
          "histogram": [
           {
            "marker": {
             "pattern": {
              "fillmode": "overlay",
              "size": 10,
              "solidity": 0.2
             }
            },
            "type": "histogram"
           }
          ],
          "histogram2d": [
           {
            "colorbar": {
             "outlinewidth": 0,
             "ticks": ""
            },
            "colorscale": [
             [
              0,
              "#0d0887"
             ],
             [
              0.1111111111111111,
              "#46039f"
             ],
             [
              0.2222222222222222,
              "#7201a8"
             ],
             [
              0.3333333333333333,
              "#9c179e"
             ],
             [
              0.4444444444444444,
              "#bd3786"
             ],
             [
              0.5555555555555556,
              "#d8576b"
             ],
             [
              0.6666666666666666,
              "#ed7953"
             ],
             [
              0.7777777777777778,
              "#fb9f3a"
             ],
             [
              0.8888888888888888,
              "#fdca26"
             ],
             [
              1,
              "#f0f921"
             ]
            ],
            "type": "histogram2d"
           }
          ],
          "histogram2dcontour": [
           {
            "colorbar": {
             "outlinewidth": 0,
             "ticks": ""
            },
            "colorscale": [
             [
              0,
              "#0d0887"
             ],
             [
              0.1111111111111111,
              "#46039f"
             ],
             [
              0.2222222222222222,
              "#7201a8"
             ],
             [
              0.3333333333333333,
              "#9c179e"
             ],
             [
              0.4444444444444444,
              "#bd3786"
             ],
             [
              0.5555555555555556,
              "#d8576b"
             ],
             [
              0.6666666666666666,
              "#ed7953"
             ],
             [
              0.7777777777777778,
              "#fb9f3a"
             ],
             [
              0.8888888888888888,
              "#fdca26"
             ],
             [
              1,
              "#f0f921"
             ]
            ],
            "type": "histogram2dcontour"
           }
          ],
          "mesh3d": [
           {
            "colorbar": {
             "outlinewidth": 0,
             "ticks": ""
            },
            "type": "mesh3d"
           }
          ],
          "parcoords": [
           {
            "line": {
             "colorbar": {
              "outlinewidth": 0,
              "ticks": ""
             }
            },
            "type": "parcoords"
           }
          ],
          "pie": [
           {
            "automargin": true,
            "type": "pie"
           }
          ],
          "scatter": [
           {
            "fillpattern": {
             "fillmode": "overlay",
             "size": 10,
             "solidity": 0.2
            },
            "type": "scatter"
           }
          ],
          "scatter3d": [
           {
            "line": {
             "colorbar": {
              "outlinewidth": 0,
              "ticks": ""
             }
            },
            "marker": {
             "colorbar": {
              "outlinewidth": 0,
              "ticks": ""
             }
            },
            "type": "scatter3d"
           }
          ],
          "scattercarpet": [
           {
            "marker": {
             "colorbar": {
              "outlinewidth": 0,
              "ticks": ""
             }
            },
            "type": "scattercarpet"
           }
          ],
          "scattergeo": [
           {
            "marker": {
             "colorbar": {
              "outlinewidth": 0,
              "ticks": ""
             }
            },
            "type": "scattergeo"
           }
          ],
          "scattergl": [
           {
            "marker": {
             "colorbar": {
              "outlinewidth": 0,
              "ticks": ""
             }
            },
            "type": "scattergl"
           }
          ],
          "scattermapbox": [
           {
            "marker": {
             "colorbar": {
              "outlinewidth": 0,
              "ticks": ""
             }
            },
            "type": "scattermapbox"
           }
          ],
          "scatterpolar": [
           {
            "marker": {
             "colorbar": {
              "outlinewidth": 0,
              "ticks": ""
             }
            },
            "type": "scatterpolar"
           }
          ],
          "scatterpolargl": [
           {
            "marker": {
             "colorbar": {
              "outlinewidth": 0,
              "ticks": ""
             }
            },
            "type": "scatterpolargl"
           }
          ],
          "scatterternary": [
           {
            "marker": {
             "colorbar": {
              "outlinewidth": 0,
              "ticks": ""
             }
            },
            "type": "scatterternary"
           }
          ],
          "surface": [
           {
            "colorbar": {
             "outlinewidth": 0,
             "ticks": ""
            },
            "colorscale": [
             [
              0,
              "#0d0887"
             ],
             [
              0.1111111111111111,
              "#46039f"
             ],
             [
              0.2222222222222222,
              "#7201a8"
             ],
             [
              0.3333333333333333,
              "#9c179e"
             ],
             [
              0.4444444444444444,
              "#bd3786"
             ],
             [
              0.5555555555555556,
              "#d8576b"
             ],
             [
              0.6666666666666666,
              "#ed7953"
             ],
             [
              0.7777777777777778,
              "#fb9f3a"
             ],
             [
              0.8888888888888888,
              "#fdca26"
             ],
             [
              1,
              "#f0f921"
             ]
            ],
            "type": "surface"
           }
          ],
          "table": [
           {
            "cells": {
             "fill": {
              "color": "#EBF0F8"
             },
             "line": {
              "color": "white"
             }
            },
            "header": {
             "fill": {
              "color": "#C8D4E3"
             },
             "line": {
              "color": "white"
             }
            },
            "type": "table"
           }
          ]
         },
         "layout": {
          "annotationdefaults": {
           "arrowcolor": "#2a3f5f",
           "arrowhead": 0,
           "arrowwidth": 1
          },
          "autotypenumbers": "strict",
          "coloraxis": {
           "colorbar": {
            "outlinewidth": 0,
            "ticks": ""
           }
          },
          "colorscale": {
           "diverging": [
            [
             0,
             "#8e0152"
            ],
            [
             0.1,
             "#c51b7d"
            ],
            [
             0.2,
             "#de77ae"
            ],
            [
             0.3,
             "#f1b6da"
            ],
            [
             0.4,
             "#fde0ef"
            ],
            [
             0.5,
             "#f7f7f7"
            ],
            [
             0.6,
             "#e6f5d0"
            ],
            [
             0.7,
             "#b8e186"
            ],
            [
             0.8,
             "#7fbc41"
            ],
            [
             0.9,
             "#4d9221"
            ],
            [
             1,
             "#276419"
            ]
           ],
           "sequential": [
            [
             0,
             "#0d0887"
            ],
            [
             0.1111111111111111,
             "#46039f"
            ],
            [
             0.2222222222222222,
             "#7201a8"
            ],
            [
             0.3333333333333333,
             "#9c179e"
            ],
            [
             0.4444444444444444,
             "#bd3786"
            ],
            [
             0.5555555555555556,
             "#d8576b"
            ],
            [
             0.6666666666666666,
             "#ed7953"
            ],
            [
             0.7777777777777778,
             "#fb9f3a"
            ],
            [
             0.8888888888888888,
             "#fdca26"
            ],
            [
             1,
             "#f0f921"
            ]
           ],
           "sequentialminus": [
            [
             0,
             "#0d0887"
            ],
            [
             0.1111111111111111,
             "#46039f"
            ],
            [
             0.2222222222222222,
             "#7201a8"
            ],
            [
             0.3333333333333333,
             "#9c179e"
            ],
            [
             0.4444444444444444,
             "#bd3786"
            ],
            [
             0.5555555555555556,
             "#d8576b"
            ],
            [
             0.6666666666666666,
             "#ed7953"
            ],
            [
             0.7777777777777778,
             "#fb9f3a"
            ],
            [
             0.8888888888888888,
             "#fdca26"
            ],
            [
             1,
             "#f0f921"
            ]
           ]
          },
          "colorway": [
           "#636efa",
           "#EF553B",
           "#00cc96",
           "#ab63fa",
           "#FFA15A",
           "#19d3f3",
           "#FF6692",
           "#B6E880",
           "#FF97FF",
           "#FECB52"
          ],
          "font": {
           "color": "#2a3f5f"
          },
          "geo": {
           "bgcolor": "white",
           "lakecolor": "white",
           "landcolor": "#E5ECF6",
           "showlakes": true,
           "showland": true,
           "subunitcolor": "white"
          },
          "hoverlabel": {
           "align": "left"
          },
          "hovermode": "closest",
          "mapbox": {
           "style": "light"
          },
          "paper_bgcolor": "white",
          "plot_bgcolor": "#E5ECF6",
          "polar": {
           "angularaxis": {
            "gridcolor": "white",
            "linecolor": "white",
            "ticks": ""
           },
           "bgcolor": "#E5ECF6",
           "radialaxis": {
            "gridcolor": "white",
            "linecolor": "white",
            "ticks": ""
           }
          },
          "scene": {
           "xaxis": {
            "backgroundcolor": "#E5ECF6",
            "gridcolor": "white",
            "gridwidth": 2,
            "linecolor": "white",
            "showbackground": true,
            "ticks": "",
            "zerolinecolor": "white"
           },
           "yaxis": {
            "backgroundcolor": "#E5ECF6",
            "gridcolor": "white",
            "gridwidth": 2,
            "linecolor": "white",
            "showbackground": true,
            "ticks": "",
            "zerolinecolor": "white"
           },
           "zaxis": {
            "backgroundcolor": "#E5ECF6",
            "gridcolor": "white",
            "gridwidth": 2,
            "linecolor": "white",
            "showbackground": true,
            "ticks": "",
            "zerolinecolor": "white"
           }
          },
          "shapedefaults": {
           "line": {
            "color": "#2a3f5f"
           }
          },
          "ternary": {
           "aaxis": {
            "gridcolor": "white",
            "linecolor": "white",
            "ticks": ""
           },
           "baxis": {
            "gridcolor": "white",
            "linecolor": "white",
            "ticks": ""
           },
           "bgcolor": "#E5ECF6",
           "caxis": {
            "gridcolor": "white",
            "linecolor": "white",
            "ticks": ""
           }
          },
          "title": {
           "x": 0.05
          },
          "xaxis": {
           "automargin": true,
           "gridcolor": "white",
           "linecolor": "white",
           "ticks": "",
           "title": {
            "standoff": 15
           },
           "zerolinecolor": "white",
           "zerolinewidth": 2
          },
          "yaxis": {
           "automargin": true,
           "gridcolor": "white",
           "linecolor": "white",
           "ticks": "",
           "title": {
            "standoff": 15
           },
           "zerolinecolor": "white",
           "zerolinewidth": 2
          }
         }
        },
        "title": {
         "text": "Fieldlocations",
         "x": 0.5
        }
       }
      }
     },
     "metadata": {},
     "output_type": "display_data"
    }
   ],
   "source": [
    "# use plotly mapbox to map the houses within her price range & preferred area\n",
    "\n",
    "fig = px.scatter_mapbox(df_locations, lat='latitude', lon='longitude', color='fieldid', title='Fieldlocations', color_continuous_scale=px.colors.sequential.Bluered, hover_name='fieldid')\n",
    "fig.update_layout( mapbox_style='open-street-map', title_x=0.5, legend_title_text='fieldid')\n",
    "#fig.update_mapboxes(zoom=10.5, center_lat=47.6062, center_lon=-122.3321)\n",
    "fig.show()\n"
   ]
  },
  {
   "cell_type": "code",
   "execution_count": 75,
   "metadata": {},
   "outputs": [
    {
     "data": {
      "text/plain": [
       "Index(['location', 'country', 'datetime', 'tag', 'monat', 'jahr', 'uhrzeit',\n",
       "       'lufttemperatur_[°c]avg', 'lufttemperatur_[°c]max',\n",
       "       'lufttemperatur_[°c]min', 'taupunkt_[°c]_avg', 'taupunkt_[°c]_min',\n",
       "       'solarstrahlung_[w/m2]', 'sättigungsdampfdruckdefizit_[kpa]_avg_',\n",
       "       'sättigungsdampfdruckdefizit_[kpa]_min',\n",
       "       'relative_luftfeuchtigkeit_[%]_avg',\n",
       "       'relative_luftfeuchtigkeit_[%]_max',\n",
       "       'relative_luftfeuchtigkeit_[%]_min', 'niederschlag_[mm]',\n",
       "       'blattnässe_[min]', 'u-sonic_wind_speed_[m/s]_avg',\n",
       "       'u-sonic_wind_speed_[m/s]_max', 'windspitzen_[m/s]',\n",
       "       'u-sonic_wind_dir_[deg]', 'eag_bodenfeuchte_1_[%]',\n",
       "       'eag_bodenfeuchte_2_[%]', 'eag_bodenfeuchte_3_[%]',\n",
       "       'eag_bodenfeuchte_4_[%]', 'eag_bodenfeuchte_5_[%]',\n",
       "       'eag_bodenfeuchte_6_[%]', 'eag_bodensalzgehalt_1_[vic]',\n",
       "       'eag_bodensalzgehalt_2_[vic]', 'eag_bodensalzgehalt_3_[vic]',\n",
       "       'eag_bodensalzgehalt_4_[vic]', 'eag_bodensalzgehalt_5_[vic]',\n",
       "       'eag_bodensalzgehalt_6_[vic]', 'bodentemperatur_1_[°c]_avg',\n",
       "       'bodentemperatur_1_[°c]_max', 'bodentemperatur_1_[°c]_min',\n",
       "       'bodentemperatur_2_[°c]_avg', 'bodentemperatur_2_[°c]_max',\n",
       "       'bodentemperatur_2_[°c]_min', 'bodentemperatur_3_[°c]_avg',\n",
       "       'bodentemperatur_3_[°c]_max', 'bodentemperatur_3_[°c]_min',\n",
       "       'bodentemperatur_4_[°c]_avg', 'bodentemperatur_4_[°c]_max',\n",
       "       'bodentemperatur_4_[°c]_min', 'bodentemperatur_5_[°c]_avg',\n",
       "       'bodentemperatur_5_[°c]_max', 'bodentemperatur_5_[°c]_min',\n",
       "       'bodentemperatur_6_[°c]_avg', 'bodentemperatur_6_[°c]_max',\n",
       "       'bodentemperatur_6_[°c]_min', 'solarpanel_[mv]', 'batterie_[mv]',\n",
       "       'deltat_[°c]_avg', 'deltat_[°c]_max', 'deltat_[°c]min', 'et0_[mm]'],\n",
       "      dtype='object')"
      ]
     },
     "execution_count": 75,
     "metadata": {},
     "output_type": "execute_result"
    }
   ],
   "source": [
    "df_weatherstations.columns"
   ]
  },
  {
   "cell_type": "code",
   "execution_count": 83,
   "metadata": {},
   "outputs": [
    {
     "name": "stderr",
     "output_type": "stream",
     "text": [
      "/var/folders/r8/96vp6rrx3633scm80v59y52c0000gn/T/ipykernel_1488/3571566964.py:10: UserWarning:\n",
      "\n",
      "FixedFormatter should only be used together with FixedLocator\n",
      "\n"
     ]
    },
    {
     "data": {
      "text/plain": [
       "[Text(18718.0, 0, 'm'),\n",
       " Text(18748.0, 0, 'o'),\n",
       " Text(18779.0, 0, 'n'),\n",
       " Text(18809.0, 0, 't'),\n",
       " Text(18840.0, 0, 'h'),\n",
       " Text(18871.0, 0, ''),\n",
       " Text(18901.0, 0, ''),\n",
       " Text(18932.0, 0, '')]"
      ]
     },
     "execution_count": 83,
     "metadata": {},
     "output_type": "execute_result"
    },
    {
     "data": {
      "image/png": "[encoded data removed]",
      "text/plain": [
       "<Figure size 640x480 with 1 Axes>"
      ]
     },
     "metadata": {},
     "output_type": "display_data"
    }
   ],
   "source": [
    "#plotting for presentation\n",
    "fig = sns.lineplot(data=df_weatherstations, x = 'datetime', y = 'lufttemperatur_[°c]avg', hue = 'location');\n",
    "fig.legend(title='Station Locations', loc='upper right', borderaxespad=0, frameon=False, bbox_to_anchor=(1.12, 1));\n",
    "fig.set_title('Air Temperatures (mean)')\n",
    "#month_starts = [1,32,61,92,122,153,183,214]\n",
    "month_names = ['Apr','May','Jun',\n",
    "               'Jul','Aug','Sep','Oct','Nov'] \n",
    "\n",
    "#fig.set_xticks(month_starts)\n",
    "fig.set_xticklabels('month')\n",
    "#plt.savefig('plots/temp_avg_locations_day.png', dpi= 300) # for high resolution"
   ]
  }
 ],
 "metadata": {
  "kernelspec": {
   "display_name": ".venv",
   "language": "python",
   "name": "python3"
  },
  "language_info": {
   "codemirror_mode": {
    "name": "ipython",
    "version": 3
   },
   "file_extension": ".py",
   "mimetype": "text/x-python",
   "name": "python",
   "nbconvert_exporter": "python",
   "pygments_lexer": "ipython3",
   "version": "3.9.8 (main, Jan  9 2023, 15:30:06) \n[Clang 14.0.0 (clang-1400.0.29.202)]"
  },
  "orig_nbformat": 4,
  "vscode": {
   "interpreter": {
    "hash": "e059eaba76b2a6e1a2c31f90124418260e93f5f5794c3ff5e8e76706cac962e3"
   }
  }
 },
 "nbformat": 4,
 "nbformat_minor": 2
}
